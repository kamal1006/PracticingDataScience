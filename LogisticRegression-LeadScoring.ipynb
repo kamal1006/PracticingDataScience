{
 "cells": [
  {
   "cell_type": "code",
   "execution_count": 196,
   "metadata": {},
   "outputs": [],
   "source": [
    "import warnings\n",
    "warnings.filterwarnings('ignore')"
   ]
  },
  {
   "cell_type": "code",
   "execution_count": 197,
   "metadata": {},
   "outputs": [],
   "source": [
    "import numpy as np\n",
    "import pandas as pd\n",
    "import matplotlib.pyplot as plt\n",
    "import seaborn as sns"
   ]
  },
  {
   "cell_type": "markdown",
   "metadata": {},
   "source": [
    "# Data Cleaning "
   ]
  },
  {
   "cell_type": "markdown",
   "metadata": {},
   "source": [
    "## Data Understanding"
   ]
  },
  {
   "cell_type": "code",
   "execution_count": 198,
   "metadata": {},
   "outputs": [],
   "source": [
    "df=pd.read_csv(\"Leads.csv\")"
   ]
  },
  {
   "cell_type": "code",
   "execution_count": 199,
   "metadata": {},
   "outputs": [
    {
     "data": {
      "text/html": [
       "<div>\n",
       "<style scoped>\n",
       "    .dataframe tbody tr th:only-of-type {\n",
       "        vertical-align: middle;\n",
       "    }\n",
       "\n",
       "    .dataframe tbody tr th {\n",
       "        vertical-align: top;\n",
       "    }\n",
       "\n",
       "    .dataframe thead th {\n",
       "        text-align: right;\n",
       "    }\n",
       "</style>\n",
       "<table border=\"1\" class=\"dataframe\">\n",
       "  <thead>\n",
       "    <tr style=\"text-align: right;\">\n",
       "      <th></th>\n",
       "      <th>Prospect ID</th>\n",
       "      <th>Lead Number</th>\n",
       "      <th>Lead Origin</th>\n",
       "      <th>Lead Source</th>\n",
       "      <th>Do Not Email</th>\n",
       "      <th>Do Not Call</th>\n",
       "      <th>Converted</th>\n",
       "      <th>TotalVisits</th>\n",
       "      <th>Total Time Spent on Website</th>\n",
       "      <th>Page Views Per Visit</th>\n",
       "      <th>...</th>\n",
       "      <th>Get updates on DM Content</th>\n",
       "      <th>Lead Profile</th>\n",
       "      <th>City</th>\n",
       "      <th>Asymmetrique Activity Index</th>\n",
       "      <th>Asymmetrique Profile Index</th>\n",
       "      <th>Asymmetrique Activity Score</th>\n",
       "      <th>Asymmetrique Profile Score</th>\n",
       "      <th>I agree to pay the amount through cheque</th>\n",
       "      <th>A free copy of Mastering The Interview</th>\n",
       "      <th>Last Notable Activity</th>\n",
       "    </tr>\n",
       "  </thead>\n",
       "  <tbody>\n",
       "    <tr>\n",
       "      <th>0</th>\n",
       "      <td>7927b2df-8bba-4d29-b9a2-b6e0beafe620</td>\n",
       "      <td>660737</td>\n",
       "      <td>API</td>\n",
       "      <td>Olark Chat</td>\n",
       "      <td>No</td>\n",
       "      <td>No</td>\n",
       "      <td>0</td>\n",
       "      <td>0.0</td>\n",
       "      <td>0</td>\n",
       "      <td>0.0</td>\n",
       "      <td>...</td>\n",
       "      <td>No</td>\n",
       "      <td>Select</td>\n",
       "      <td>Select</td>\n",
       "      <td>02.Medium</td>\n",
       "      <td>02.Medium</td>\n",
       "      <td>15.0</td>\n",
       "      <td>15.0</td>\n",
       "      <td>No</td>\n",
       "      <td>No</td>\n",
       "      <td>Modified</td>\n",
       "    </tr>\n",
       "    <tr>\n",
       "      <th>1</th>\n",
       "      <td>2a272436-5132-4136-86fa-dcc88c88f482</td>\n",
       "      <td>660728</td>\n",
       "      <td>API</td>\n",
       "      <td>Organic Search</td>\n",
       "      <td>No</td>\n",
       "      <td>No</td>\n",
       "      <td>0</td>\n",
       "      <td>5.0</td>\n",
       "      <td>674</td>\n",
       "      <td>2.5</td>\n",
       "      <td>...</td>\n",
       "      <td>No</td>\n",
       "      <td>Select</td>\n",
       "      <td>Select</td>\n",
       "      <td>02.Medium</td>\n",
       "      <td>02.Medium</td>\n",
       "      <td>15.0</td>\n",
       "      <td>15.0</td>\n",
       "      <td>No</td>\n",
       "      <td>No</td>\n",
       "      <td>Email Opened</td>\n",
       "    </tr>\n",
       "    <tr>\n",
       "      <th>2</th>\n",
       "      <td>8cc8c611-a219-4f35-ad23-fdfd2656bd8a</td>\n",
       "      <td>660727</td>\n",
       "      <td>Landing Page Submission</td>\n",
       "      <td>Direct Traffic</td>\n",
       "      <td>No</td>\n",
       "      <td>No</td>\n",
       "      <td>1</td>\n",
       "      <td>2.0</td>\n",
       "      <td>1532</td>\n",
       "      <td>2.0</td>\n",
       "      <td>...</td>\n",
       "      <td>No</td>\n",
       "      <td>Potential Lead</td>\n",
       "      <td>Mumbai</td>\n",
       "      <td>02.Medium</td>\n",
       "      <td>01.High</td>\n",
       "      <td>14.0</td>\n",
       "      <td>20.0</td>\n",
       "      <td>No</td>\n",
       "      <td>Yes</td>\n",
       "      <td>Email Opened</td>\n",
       "    </tr>\n",
       "    <tr>\n",
       "      <th>3</th>\n",
       "      <td>0cc2df48-7cf4-4e39-9de9-19797f9b38cc</td>\n",
       "      <td>660719</td>\n",
       "      <td>Landing Page Submission</td>\n",
       "      <td>Direct Traffic</td>\n",
       "      <td>No</td>\n",
       "      <td>No</td>\n",
       "      <td>0</td>\n",
       "      <td>1.0</td>\n",
       "      <td>305</td>\n",
       "      <td>1.0</td>\n",
       "      <td>...</td>\n",
       "      <td>No</td>\n",
       "      <td>Select</td>\n",
       "      <td>Mumbai</td>\n",
       "      <td>02.Medium</td>\n",
       "      <td>01.High</td>\n",
       "      <td>13.0</td>\n",
       "      <td>17.0</td>\n",
       "      <td>No</td>\n",
       "      <td>No</td>\n",
       "      <td>Modified</td>\n",
       "    </tr>\n",
       "    <tr>\n",
       "      <th>4</th>\n",
       "      <td>3256f628-e534-4826-9d63-4a8b88782852</td>\n",
       "      <td>660681</td>\n",
       "      <td>Landing Page Submission</td>\n",
       "      <td>Google</td>\n",
       "      <td>No</td>\n",
       "      <td>No</td>\n",
       "      <td>1</td>\n",
       "      <td>2.0</td>\n",
       "      <td>1428</td>\n",
       "      <td>1.0</td>\n",
       "      <td>...</td>\n",
       "      <td>No</td>\n",
       "      <td>Select</td>\n",
       "      <td>Mumbai</td>\n",
       "      <td>02.Medium</td>\n",
       "      <td>01.High</td>\n",
       "      <td>15.0</td>\n",
       "      <td>18.0</td>\n",
       "      <td>No</td>\n",
       "      <td>No</td>\n",
       "      <td>Modified</td>\n",
       "    </tr>\n",
       "  </tbody>\n",
       "</table>\n",
       "<p>5 rows × 37 columns</p>\n",
       "</div>"
      ],
      "text/plain": [
       "                            Prospect ID  Lead Number              Lead Origin  \\\n",
       "0  7927b2df-8bba-4d29-b9a2-b6e0beafe620       660737                      API   \n",
       "1  2a272436-5132-4136-86fa-dcc88c88f482       660728                      API   \n",
       "2  8cc8c611-a219-4f35-ad23-fdfd2656bd8a       660727  Landing Page Submission   \n",
       "3  0cc2df48-7cf4-4e39-9de9-19797f9b38cc       660719  Landing Page Submission   \n",
       "4  3256f628-e534-4826-9d63-4a8b88782852       660681  Landing Page Submission   \n",
       "\n",
       "      Lead Source Do Not Email Do Not Call  Converted  TotalVisits  \\\n",
       "0      Olark Chat           No          No          0          0.0   \n",
       "1  Organic Search           No          No          0          5.0   \n",
       "2  Direct Traffic           No          No          1          2.0   \n",
       "3  Direct Traffic           No          No          0          1.0   \n",
       "4          Google           No          No          1          2.0   \n",
       "\n",
       "   Total Time Spent on Website  Page Views Per Visit  ...  \\\n",
       "0                            0                   0.0  ...   \n",
       "1                          674                   2.5  ...   \n",
       "2                         1532                   2.0  ...   \n",
       "3                          305                   1.0  ...   \n",
       "4                         1428                   1.0  ...   \n",
       "\n",
       "  Get updates on DM Content    Lead Profile    City  \\\n",
       "0                        No          Select  Select   \n",
       "1                        No          Select  Select   \n",
       "2                        No  Potential Lead  Mumbai   \n",
       "3                        No          Select  Mumbai   \n",
       "4                        No          Select  Mumbai   \n",
       "\n",
       "  Asymmetrique Activity Index Asymmetrique Profile Index  \\\n",
       "0                   02.Medium                  02.Medium   \n",
       "1                   02.Medium                  02.Medium   \n",
       "2                   02.Medium                    01.High   \n",
       "3                   02.Medium                    01.High   \n",
       "4                   02.Medium                    01.High   \n",
       "\n",
       "  Asymmetrique Activity Score Asymmetrique Profile Score  \\\n",
       "0                        15.0                       15.0   \n",
       "1                        15.0                       15.0   \n",
       "2                        14.0                       20.0   \n",
       "3                        13.0                       17.0   \n",
       "4                        15.0                       18.0   \n",
       "\n",
       "  I agree to pay the amount through cheque  \\\n",
       "0                                       No   \n",
       "1                                       No   \n",
       "2                                       No   \n",
       "3                                       No   \n",
       "4                                       No   \n",
       "\n",
       "  A free copy of Mastering The Interview Last Notable Activity  \n",
       "0                                     No              Modified  \n",
       "1                                     No          Email Opened  \n",
       "2                                    Yes          Email Opened  \n",
       "3                                     No              Modified  \n",
       "4                                     No              Modified  \n",
       "\n",
       "[5 rows x 37 columns]"
      ]
     },
     "execution_count": 199,
     "metadata": {},
     "output_type": "execute_result"
    }
   ],
   "source": [
    "df.head()"
   ]
  },
  {
   "cell_type": "code",
   "execution_count": 200,
   "metadata": {},
   "outputs": [
    {
     "data": {
      "text/plain": [
       "(9240, 37)"
      ]
     },
     "execution_count": 200,
     "metadata": {},
     "output_type": "execute_result"
    }
   ],
   "source": [
    "df.shape"
   ]
  },
  {
   "cell_type": "code",
   "execution_count": 201,
   "metadata": {},
   "outputs": [
    {
     "name": "stdout",
     "output_type": "stream",
     "text": [
      "<class 'pandas.core.frame.DataFrame'>\n",
      "RangeIndex: 9240 entries, 0 to 9239\n",
      "Data columns (total 37 columns):\n",
      " #   Column                                         Non-Null Count  Dtype  \n",
      "---  ------                                         --------------  -----  \n",
      " 0   Prospect ID                                    9240 non-null   object \n",
      " 1   Lead Number                                    9240 non-null   int64  \n",
      " 2   Lead Origin                                    9240 non-null   object \n",
      " 3   Lead Source                                    9204 non-null   object \n",
      " 4   Do Not Email                                   9240 non-null   object \n",
      " 5   Do Not Call                                    9240 non-null   object \n",
      " 6   Converted                                      9240 non-null   int64  \n",
      " 7   TotalVisits                                    9103 non-null   float64\n",
      " 8   Total Time Spent on Website                    9240 non-null   int64  \n",
      " 9   Page Views Per Visit                           9103 non-null   float64\n",
      " 10  Last Activity                                  9137 non-null   object \n",
      " 11  Country                                        6779 non-null   object \n",
      " 12  Specialization                                 7802 non-null   object \n",
      " 13  How did you hear about X Education             7033 non-null   object \n",
      " 14  What is your current occupation                6550 non-null   object \n",
      " 15  What matters most to you in choosing a course  6531 non-null   object \n",
      " 16  Search                                         9240 non-null   object \n",
      " 17  Magazine                                       9240 non-null   object \n",
      " 18  Newspaper Article                              9240 non-null   object \n",
      " 19  X Education Forums                             9240 non-null   object \n",
      " 20  Newspaper                                      9240 non-null   object \n",
      " 21  Digital Advertisement                          9240 non-null   object \n",
      " 22  Through Recommendations                        9240 non-null   object \n",
      " 23  Receive More Updates About Our Courses         9240 non-null   object \n",
      " 24  Tags                                           5887 non-null   object \n",
      " 25  Lead Quality                                   4473 non-null   object \n",
      " 26  Update me on Supply Chain Content              9240 non-null   object \n",
      " 27  Get updates on DM Content                      9240 non-null   object \n",
      " 28  Lead Profile                                   6531 non-null   object \n",
      " 29  City                                           7820 non-null   object \n",
      " 30  Asymmetrique Activity Index                    5022 non-null   object \n",
      " 31  Asymmetrique Profile Index                     5022 non-null   object \n",
      " 32  Asymmetrique Activity Score                    5022 non-null   float64\n",
      " 33  Asymmetrique Profile Score                     5022 non-null   float64\n",
      " 34  I agree to pay the amount through cheque       9240 non-null   object \n",
      " 35  A free copy of Mastering The Interview         9240 non-null   object \n",
      " 36  Last Notable Activity                          9240 non-null   object \n",
      "dtypes: float64(4), int64(3), object(30)\n",
      "memory usage: 2.6+ MB\n"
     ]
    }
   ],
   "source": [
    "df.info()"
   ]
  },
  {
   "cell_type": "code",
   "execution_count": 202,
   "metadata": {},
   "outputs": [
    {
     "data": {
      "text/html": [
       "<div>\n",
       "<style scoped>\n",
       "    .dataframe tbody tr th:only-of-type {\n",
       "        vertical-align: middle;\n",
       "    }\n",
       "\n",
       "    .dataframe tbody tr th {\n",
       "        vertical-align: top;\n",
       "    }\n",
       "\n",
       "    .dataframe thead th {\n",
       "        text-align: right;\n",
       "    }\n",
       "</style>\n",
       "<table border=\"1\" class=\"dataframe\">\n",
       "  <thead>\n",
       "    <tr style=\"text-align: right;\">\n",
       "      <th></th>\n",
       "      <th>Lead Number</th>\n",
       "      <th>Converted</th>\n",
       "      <th>TotalVisits</th>\n",
       "      <th>Total Time Spent on Website</th>\n",
       "      <th>Page Views Per Visit</th>\n",
       "      <th>Asymmetrique Activity Score</th>\n",
       "      <th>Asymmetrique Profile Score</th>\n",
       "    </tr>\n",
       "  </thead>\n",
       "  <tbody>\n",
       "    <tr>\n",
       "      <th>count</th>\n",
       "      <td>9240.000000</td>\n",
       "      <td>9240.000000</td>\n",
       "      <td>9103.000000</td>\n",
       "      <td>9240.000000</td>\n",
       "      <td>9103.000000</td>\n",
       "      <td>5022.000000</td>\n",
       "      <td>5022.000000</td>\n",
       "    </tr>\n",
       "    <tr>\n",
       "      <th>mean</th>\n",
       "      <td>617188.435606</td>\n",
       "      <td>0.385390</td>\n",
       "      <td>3.445238</td>\n",
       "      <td>487.698268</td>\n",
       "      <td>2.362820</td>\n",
       "      <td>14.306252</td>\n",
       "      <td>16.344883</td>\n",
       "    </tr>\n",
       "    <tr>\n",
       "      <th>std</th>\n",
       "      <td>23405.995698</td>\n",
       "      <td>0.486714</td>\n",
       "      <td>4.854853</td>\n",
       "      <td>548.021466</td>\n",
       "      <td>2.161418</td>\n",
       "      <td>1.386694</td>\n",
       "      <td>1.811395</td>\n",
       "    </tr>\n",
       "    <tr>\n",
       "      <th>min</th>\n",
       "      <td>579533.000000</td>\n",
       "      <td>0.000000</td>\n",
       "      <td>0.000000</td>\n",
       "      <td>0.000000</td>\n",
       "      <td>0.000000</td>\n",
       "      <td>7.000000</td>\n",
       "      <td>11.000000</td>\n",
       "    </tr>\n",
       "    <tr>\n",
       "      <th>25%</th>\n",
       "      <td>596484.500000</td>\n",
       "      <td>0.000000</td>\n",
       "      <td>1.000000</td>\n",
       "      <td>12.000000</td>\n",
       "      <td>1.000000</td>\n",
       "      <td>14.000000</td>\n",
       "      <td>15.000000</td>\n",
       "    </tr>\n",
       "    <tr>\n",
       "      <th>50%</th>\n",
       "      <td>615479.000000</td>\n",
       "      <td>0.000000</td>\n",
       "      <td>3.000000</td>\n",
       "      <td>248.000000</td>\n",
       "      <td>2.000000</td>\n",
       "      <td>14.000000</td>\n",
       "      <td>16.000000</td>\n",
       "    </tr>\n",
       "    <tr>\n",
       "      <th>75%</th>\n",
       "      <td>637387.250000</td>\n",
       "      <td>1.000000</td>\n",
       "      <td>5.000000</td>\n",
       "      <td>936.000000</td>\n",
       "      <td>3.000000</td>\n",
       "      <td>15.000000</td>\n",
       "      <td>18.000000</td>\n",
       "    </tr>\n",
       "    <tr>\n",
       "      <th>max</th>\n",
       "      <td>660737.000000</td>\n",
       "      <td>1.000000</td>\n",
       "      <td>251.000000</td>\n",
       "      <td>2272.000000</td>\n",
       "      <td>55.000000</td>\n",
       "      <td>18.000000</td>\n",
       "      <td>20.000000</td>\n",
       "    </tr>\n",
       "  </tbody>\n",
       "</table>\n",
       "</div>"
      ],
      "text/plain": [
       "         Lead Number    Converted  TotalVisits  Total Time Spent on Website  \\\n",
       "count    9240.000000  9240.000000  9103.000000                  9240.000000   \n",
       "mean   617188.435606     0.385390     3.445238                   487.698268   \n",
       "std     23405.995698     0.486714     4.854853                   548.021466   \n",
       "min    579533.000000     0.000000     0.000000                     0.000000   \n",
       "25%    596484.500000     0.000000     1.000000                    12.000000   \n",
       "50%    615479.000000     0.000000     3.000000                   248.000000   \n",
       "75%    637387.250000     1.000000     5.000000                   936.000000   \n",
       "max    660737.000000     1.000000   251.000000                  2272.000000   \n",
       "\n",
       "       Page Views Per Visit  Asymmetrique Activity Score  \\\n",
       "count           9103.000000                  5022.000000   \n",
       "mean               2.362820                    14.306252   \n",
       "std                2.161418                     1.386694   \n",
       "min                0.000000                     7.000000   \n",
       "25%                1.000000                    14.000000   \n",
       "50%                2.000000                    14.000000   \n",
       "75%                3.000000                    15.000000   \n",
       "max               55.000000                    18.000000   \n",
       "\n",
       "       Asymmetrique Profile Score  \n",
       "count                 5022.000000  \n",
       "mean                    16.344883  \n",
       "std                      1.811395  \n",
       "min                     11.000000  \n",
       "25%                     15.000000  \n",
       "50%                     16.000000  \n",
       "75%                     18.000000  \n",
       "max                     20.000000  "
      ]
     },
     "execution_count": 202,
     "metadata": {},
     "output_type": "execute_result"
    }
   ],
   "source": [
    "df.describe()"
   ]
  },
  {
   "cell_type": "code",
   "execution_count": 203,
   "metadata": {},
   "outputs": [
    {
     "data": {
      "text/plain": [
       "'Prospect ID'"
      ]
     },
     "execution_count": 203,
     "metadata": {},
     "output_type": "execute_result"
    }
   ],
   "source": [
    "a=df.columns\n",
    "a[0]"
   ]
  },
  {
   "cell_type": "markdown",
   "metadata": {},
   "source": [
    "## Changing Select field to NaN"
   ]
  },
  {
   "cell_type": "code",
   "execution_count": 204,
   "metadata": {},
   "outputs": [
    {
     "data": {
      "text/plain": [
       "Select                   5043\n",
       "Online Search             808\n",
       "Word Of Mouth             348\n",
       "Student of SomeSchool     310\n",
       "Other                     186\n",
       "Multiple Sources          152\n",
       "Advertisements             70\n",
       "Social Media               67\n",
       "Email                      26\n",
       "SMS                        23\n",
       "Name: How did you hear about X Education, dtype: int64"
      ]
     },
     "execution_count": 204,
     "metadata": {},
     "output_type": "execute_result"
    }
   ],
   "source": [
    "df['How did you hear about X Education'].value_counts()"
   ]
  },
  {
   "cell_type": "code",
   "execution_count": 205,
   "metadata": {},
   "outputs": [],
   "source": [
    "for i in a:\n",
    "    df.loc[df[i]=='Select',i]=np.NaN\n"
   ]
  },
  {
   "cell_type": "code",
   "execution_count": 206,
   "metadata": {},
   "outputs": [
    {
     "data": {
      "text/plain": [
       "Online Search            808\n",
       "Word Of Mouth            348\n",
       "Student of SomeSchool    310\n",
       "Other                    186\n",
       "Multiple Sources         152\n",
       "Advertisements            70\n",
       "Social Media              67\n",
       "Email                     26\n",
       "SMS                       23\n",
       "Name: How did you hear about X Education, dtype: int64"
      ]
     },
     "execution_count": 206,
     "metadata": {},
     "output_type": "execute_result"
    }
   ],
   "source": [
    "df['How did you hear about X Education'].value_counts()"
   ]
  },
  {
   "cell_type": "markdown",
   "metadata": {},
   "source": [
    "## Percentage of Missing Values"
   ]
  },
  {
   "cell_type": "code",
   "execution_count": 207,
   "metadata": {},
   "outputs": [
    {
     "data": {
      "text/plain": [
       "Prospect ID                                       0.000000\n",
       "Lead Number                                       0.000000\n",
       "Lead Origin                                       0.000000\n",
       "Lead Source                                       0.389610\n",
       "Do Not Email                                      0.000000\n",
       "Do Not Call                                       0.000000\n",
       "Converted                                         0.000000\n",
       "TotalVisits                                       1.482684\n",
       "Total Time Spent on Website                       0.000000\n",
       "Page Views Per Visit                              1.482684\n",
       "Last Activity                                     1.114719\n",
       "Country                                          26.634199\n",
       "Specialization                                   36.580087\n",
       "How did you hear about X Education               78.463203\n",
       "What is your current occupation                  29.112554\n",
       "What matters most to you in choosing a course    29.318182\n",
       "Search                                            0.000000\n",
       "Magazine                                          0.000000\n",
       "Newspaper Article                                 0.000000\n",
       "X Education Forums                                0.000000\n",
       "Newspaper                                         0.000000\n",
       "Digital Advertisement                             0.000000\n",
       "Through Recommendations                           0.000000\n",
       "Receive More Updates About Our Courses            0.000000\n",
       "Tags                                             36.287879\n",
       "Lead Quality                                     51.590909\n",
       "Update me on Supply Chain Content                 0.000000\n",
       "Get updates on DM Content                         0.000000\n",
       "Lead Profile                                     74.188312\n",
       "City                                             39.707792\n",
       "Asymmetrique Activity Index                      45.649351\n",
       "Asymmetrique Profile Index                       45.649351\n",
       "Asymmetrique Activity Score                      45.649351\n",
       "Asymmetrique Profile Score                       45.649351\n",
       "I agree to pay the amount through cheque          0.000000\n",
       "A free copy of Mastering The Interview            0.000000\n",
       "Last Notable Activity                             0.000000\n",
       "dtype: float64"
      ]
     },
     "execution_count": 207,
     "metadata": {},
     "output_type": "execute_result"
    }
   ],
   "source": [
    "100*df.isnull().sum()/df.shape[0]"
   ]
  },
  {
   "cell_type": "markdown",
   "metadata": {},
   "source": [
    "## Dropping Column with High Percentage of Missing Values"
   ]
  },
  {
   "cell_type": "code",
   "execution_count": 208,
   "metadata": {},
   "outputs": [],
   "source": [
    "df1=df.drop(['Specialization','Tags','City','How did you hear about X Education','Lead Profile','Lead Quality','Asymmetrique Activity Index','Asymmetrique Profile Index','Asymmetrique Activity Score','Asymmetrique Profile Score'],axis=1)"
   ]
  },
  {
   "cell_type": "code",
   "execution_count": 209,
   "metadata": {},
   "outputs": [
    {
     "data": {
      "text/plain": [
       "Index(['Prospect ID', 'Lead Number', 'Lead Origin', 'Lead Source',\n",
       "       'Do Not Email', 'Do Not Call', 'Converted', 'TotalVisits',\n",
       "       'Total Time Spent on Website', 'Page Views Per Visit', 'Last Activity',\n",
       "       'Country', 'What is your current occupation',\n",
       "       'What matters most to you in choosing a course', 'Search', 'Magazine',\n",
       "       'Newspaper Article', 'X Education Forums', 'Newspaper',\n",
       "       'Digital Advertisement', 'Through Recommendations',\n",
       "       'Receive More Updates About Our Courses',\n",
       "       'Update me on Supply Chain Content', 'Get updates on DM Content',\n",
       "       'I agree to pay the amount through cheque',\n",
       "       'A free copy of Mastering The Interview', 'Last Notable Activity'],\n",
       "      dtype='object')"
      ]
     },
     "execution_count": 209,
     "metadata": {},
     "output_type": "execute_result"
    }
   ],
   "source": [
    "df1.columns"
   ]
  },
  {
   "cell_type": "code",
   "execution_count": 210,
   "metadata": {},
   "outputs": [
    {
     "data": {
      "text/plain": [
       "(9240, 27)"
      ]
     },
     "execution_count": 210,
     "metadata": {},
     "output_type": "execute_result"
    }
   ],
   "source": [
    "df1.shape"
   ]
  },
  {
   "cell_type": "code",
   "execution_count": 211,
   "metadata": {},
   "outputs": [
    {
     "data": {
      "text/plain": [
       "Prospect ID                                       0.000000\n",
       "Lead Number                                       0.000000\n",
       "Lead Origin                                       0.000000\n",
       "Lead Source                                       0.389610\n",
       "Do Not Email                                      0.000000\n",
       "Do Not Call                                       0.000000\n",
       "Converted                                         0.000000\n",
       "TotalVisits                                       1.482684\n",
       "Total Time Spent on Website                       0.000000\n",
       "Page Views Per Visit                              1.482684\n",
       "Last Activity                                     1.114719\n",
       "Country                                          26.634199\n",
       "What is your current occupation                  29.112554\n",
       "What matters most to you in choosing a course    29.318182\n",
       "Search                                            0.000000\n",
       "Magazine                                          0.000000\n",
       "Newspaper Article                                 0.000000\n",
       "X Education Forums                                0.000000\n",
       "Newspaper                                         0.000000\n",
       "Digital Advertisement                             0.000000\n",
       "Through Recommendations                           0.000000\n",
       "Receive More Updates About Our Courses            0.000000\n",
       "Update me on Supply Chain Content                 0.000000\n",
       "Get updates on DM Content                         0.000000\n",
       "I agree to pay the amount through cheque          0.000000\n",
       "A free copy of Mastering The Interview            0.000000\n",
       "Last Notable Activity                             0.000000\n",
       "dtype: float64"
      ]
     },
     "execution_count": 211,
     "metadata": {},
     "output_type": "execute_result"
    }
   ],
   "source": [
    "100*df1.isnull().sum()/df1.shape[0]"
   ]
  },
  {
   "cell_type": "markdown",
   "metadata": {},
   "source": [
    "## Dropping highly Skewed columns"
   ]
  },
  {
   "cell_type": "code",
   "execution_count": 212,
   "metadata": {},
   "outputs": [
    {
     "data": {
      "text/plain": [
       "India                   0.957663\n",
       "United States           0.010178\n",
       "United Arab Emirates    0.007818\n",
       "Singapore               0.003540\n",
       "Saudi Arabia            0.003098\n",
       "United Kingdom          0.002213\n",
       "Australia               0.001918\n",
       "Qatar                   0.001475\n",
       "Bahrain                 0.001033\n",
       "Hong Kong               0.001033\n",
       "France                  0.000885\n",
       "Oman                    0.000885\n",
       "unknown                 0.000738\n",
       "Kuwait                  0.000590\n",
       "Germany                 0.000590\n",
       "Canada                  0.000590\n",
       "Nigeria                 0.000590\n",
       "South Africa            0.000590\n",
       "Sweden                  0.000443\n",
       "Asia/Pacific Region     0.000295\n",
       "Ghana                   0.000295\n",
       "China                   0.000295\n",
       "Bangladesh              0.000295\n",
       "Philippines             0.000295\n",
       "Belgium                 0.000295\n",
       "Uganda                  0.000295\n",
       "Italy                   0.000295\n",
       "Netherlands             0.000295\n",
       "Denmark                 0.000148\n",
       "Indonesia               0.000148\n",
       "Russia                  0.000148\n",
       "Liberia                 0.000148\n",
       "Sri Lanka               0.000148\n",
       "Kenya                   0.000148\n",
       "Malaysia                0.000148\n",
       "Tanzania                0.000148\n",
       "Vietnam                 0.000148\n",
       "Switzerland             0.000148\n",
       "Name: Country, dtype: float64"
      ]
     },
     "execution_count": 212,
     "metadata": {},
     "output_type": "execute_result"
    }
   ],
   "source": [
    "df1['Country'].value_counts(normalize=True)"
   ]
  },
  {
   "cell_type": "code",
   "execution_count": 213,
   "metadata": {},
   "outputs": [
    {
     "data": {
      "text/plain": [
       "Unemployed              0.854962\n",
       "Working Professional    0.107786\n",
       "Student                 0.032061\n",
       "Other                   0.002443\n",
       "Housewife               0.001527\n",
       "Businessman             0.001221\n",
       "Name: What is your current occupation, dtype: float64"
      ]
     },
     "execution_count": 213,
     "metadata": {},
     "output_type": "execute_result"
    }
   ],
   "source": [
    "df1['What is your current occupation'].value_counts(normalize=True)"
   ]
  },
  {
   "cell_type": "code",
   "execution_count": 214,
   "metadata": {},
   "outputs": [
    {
     "data": {
      "text/plain": [
       "Better Career Prospects      0.999541\n",
       "Flexibility & Convenience    0.000306\n",
       "Other                        0.000153\n",
       "Name: What matters most to you in choosing a course, dtype: float64"
      ]
     },
     "execution_count": 214,
     "metadata": {},
     "output_type": "execute_result"
    }
   ],
   "source": [
    "df1['What matters most to you in choosing a course'].value_counts(normalize=True)"
   ]
  },
  {
   "cell_type": "code",
   "execution_count": 215,
   "metadata": {},
   "outputs": [
    {
     "data": {
      "text/plain": [
       "No     0.920563\n",
       "Yes    0.079437\n",
       "Name: Do Not Email, dtype: float64"
      ]
     },
     "execution_count": 215,
     "metadata": {},
     "output_type": "execute_result"
    }
   ],
   "source": [
    "df1['Do Not Email'].value_counts(normalize=True)"
   ]
  },
  {
   "cell_type": "code",
   "execution_count": 216,
   "metadata": {},
   "outputs": [
    {
     "data": {
      "text/plain": [
       "No     0.999784\n",
       "Yes    0.000216\n",
       "Name: Do Not Call, dtype: float64"
      ]
     },
     "execution_count": 216,
     "metadata": {},
     "output_type": "execute_result"
    }
   ],
   "source": [
    "df1['Do Not Call'].value_counts(normalize=True)"
   ]
  },
  {
   "cell_type": "code",
   "execution_count": 217,
   "metadata": {},
   "outputs": [
    {
     "data": {
      "text/plain": [
       "No     0.998485\n",
       "Yes    0.001515\n",
       "Name: Search, dtype: float64"
      ]
     },
     "execution_count": 217,
     "metadata": {},
     "output_type": "execute_result"
    }
   ],
   "source": [
    "df1['Search'].value_counts(normalize=True)"
   ]
  },
  {
   "cell_type": "code",
   "execution_count": 218,
   "metadata": {},
   "outputs": [
    {
     "data": {
      "text/plain": [
       "No    1.0\n",
       "Name: Magazine, dtype: float64"
      ]
     },
     "execution_count": 218,
     "metadata": {},
     "output_type": "execute_result"
    }
   ],
   "source": [
    "df1['Magazine'].value_counts(normalize=True)"
   ]
  },
  {
   "cell_type": "code",
   "execution_count": 219,
   "metadata": {},
   "outputs": [
    {
     "data": {
      "text/plain": [
       "No     0.999784\n",
       "Yes    0.000216\n",
       "Name: Newspaper Article, dtype: float64"
      ]
     },
     "execution_count": 219,
     "metadata": {},
     "output_type": "execute_result"
    }
   ],
   "source": [
    "df1['Newspaper Article'].value_counts(normalize=True)"
   ]
  },
  {
   "cell_type": "code",
   "execution_count": 220,
   "metadata": {},
   "outputs": [
    {
     "data": {
      "text/plain": [
       "No     0.999892\n",
       "Yes    0.000108\n",
       "Name: X Education Forums, dtype: float64"
      ]
     },
     "execution_count": 220,
     "metadata": {},
     "output_type": "execute_result"
    }
   ],
   "source": [
    "df1['X Education Forums'].value_counts(normalize=True)"
   ]
  },
  {
   "cell_type": "code",
   "execution_count": 221,
   "metadata": {},
   "outputs": [
    {
     "data": {
      "text/plain": [
       "No     0.999892\n",
       "Yes    0.000108\n",
       "Name: Newspaper, dtype: float64"
      ]
     },
     "execution_count": 221,
     "metadata": {},
     "output_type": "execute_result"
    }
   ],
   "source": [
    "df1['Newspaper'].value_counts(normalize=True)"
   ]
  },
  {
   "cell_type": "code",
   "execution_count": 222,
   "metadata": {},
   "outputs": [
    {
     "data": {
      "text/plain": [
       "No     0.999567\n",
       "Yes    0.000433\n",
       "Name: Digital Advertisement, dtype: float64"
      ]
     },
     "execution_count": 222,
     "metadata": {},
     "output_type": "execute_result"
    }
   ],
   "source": [
    "df1['Digital Advertisement'].value_counts(normalize=True)"
   ]
  },
  {
   "cell_type": "code",
   "execution_count": 223,
   "metadata": {},
   "outputs": [
    {
     "data": {
      "text/plain": [
       "No     0.999242\n",
       "Yes    0.000758\n",
       "Name: Through Recommendations, dtype: float64"
      ]
     },
     "execution_count": 223,
     "metadata": {},
     "output_type": "execute_result"
    }
   ],
   "source": [
    "df1['Through Recommendations'].value_counts(normalize=True)"
   ]
  },
  {
   "cell_type": "code",
   "execution_count": 224,
   "metadata": {},
   "outputs": [
    {
     "data": {
      "text/plain": [
       "No    1.0\n",
       "Name: Receive More Updates About Our Courses, dtype: float64"
      ]
     },
     "execution_count": 224,
     "metadata": {},
     "output_type": "execute_result"
    }
   ],
   "source": [
    "df1['Receive More Updates About Our Courses'].value_counts(normalize=True)"
   ]
  },
  {
   "cell_type": "code",
   "execution_count": 225,
   "metadata": {},
   "outputs": [
    {
     "data": {
      "text/plain": [
       "No    1.0\n",
       "Name: Update me on Supply Chain Content, dtype: float64"
      ]
     },
     "execution_count": 225,
     "metadata": {},
     "output_type": "execute_result"
    }
   ],
   "source": [
    "df1['Update me on Supply Chain Content'].value_counts(normalize=True)"
   ]
  },
  {
   "cell_type": "code",
   "execution_count": 226,
   "metadata": {},
   "outputs": [
    {
     "data": {
      "text/plain": [
       "No    1.0\n",
       "Name: Get updates on DM Content, dtype: float64"
      ]
     },
     "execution_count": 226,
     "metadata": {},
     "output_type": "execute_result"
    }
   ],
   "source": [
    "df1['Get updates on DM Content'].value_counts(normalize=True)"
   ]
  },
  {
   "cell_type": "code",
   "execution_count": 227,
   "metadata": {},
   "outputs": [],
   "source": [
    "df2=df1.drop(['Get updates on DM Content','Update me on Supply Chain Content','Receive More Updates About Our Courses','Through Recommendations','Digital Advertisement','Newspaper Article','Search', 'Magazine','Do Not Email', 'Do Not Call','Country','What is your current occupation','What matters most to you in choosing a course'],axis=1)"
   ]
  },
  {
   "cell_type": "code",
   "execution_count": 228,
   "metadata": {},
   "outputs": [
    {
     "data": {
      "text/plain": [
       "(9240, 14)"
      ]
     },
     "execution_count": 228,
     "metadata": {},
     "output_type": "execute_result"
    }
   ],
   "source": [
    "df2.shape"
   ]
  },
  {
   "cell_type": "code",
   "execution_count": 229,
   "metadata": {},
   "outputs": [
    {
     "data": {
      "text/plain": [
       "Index(['Prospect ID', 'Lead Number', 'Lead Origin', 'Lead Source', 'Converted',\n",
       "       'TotalVisits', 'Total Time Spent on Website', 'Page Views Per Visit',\n",
       "       'Last Activity', 'X Education Forums', 'Newspaper',\n",
       "       'I agree to pay the amount through cheque',\n",
       "       'A free copy of Mastering The Interview', 'Last Notable Activity'],\n",
       "      dtype='object')"
      ]
     },
     "execution_count": 229,
     "metadata": {},
     "output_type": "execute_result"
    }
   ],
   "source": [
    "df2.columns"
   ]
  },
  {
   "cell_type": "code",
   "execution_count": 230,
   "metadata": {},
   "outputs": [
    {
     "data": {
      "text/html": [
       "<div>\n",
       "<style scoped>\n",
       "    .dataframe tbody tr th:only-of-type {\n",
       "        vertical-align: middle;\n",
       "    }\n",
       "\n",
       "    .dataframe tbody tr th {\n",
       "        vertical-align: top;\n",
       "    }\n",
       "\n",
       "    .dataframe thead th {\n",
       "        text-align: right;\n",
       "    }\n",
       "</style>\n",
       "<table border=\"1\" class=\"dataframe\">\n",
       "  <thead>\n",
       "    <tr style=\"text-align: right;\">\n",
       "      <th></th>\n",
       "      <th>Lead Number</th>\n",
       "      <th>Converted</th>\n",
       "      <th>TotalVisits</th>\n",
       "      <th>Total Time Spent on Website</th>\n",
       "      <th>Page Views Per Visit</th>\n",
       "    </tr>\n",
       "  </thead>\n",
       "  <tbody>\n",
       "    <tr>\n",
       "      <th>count</th>\n",
       "      <td>9240.000000</td>\n",
       "      <td>9240.000000</td>\n",
       "      <td>9103.000000</td>\n",
       "      <td>9240.000000</td>\n",
       "      <td>9103.000000</td>\n",
       "    </tr>\n",
       "    <tr>\n",
       "      <th>mean</th>\n",
       "      <td>617188.435606</td>\n",
       "      <td>0.385390</td>\n",
       "      <td>3.445238</td>\n",
       "      <td>487.698268</td>\n",
       "      <td>2.362820</td>\n",
       "    </tr>\n",
       "    <tr>\n",
       "      <th>std</th>\n",
       "      <td>23405.995698</td>\n",
       "      <td>0.486714</td>\n",
       "      <td>4.854853</td>\n",
       "      <td>548.021466</td>\n",
       "      <td>2.161418</td>\n",
       "    </tr>\n",
       "    <tr>\n",
       "      <th>min</th>\n",
       "      <td>579533.000000</td>\n",
       "      <td>0.000000</td>\n",
       "      <td>0.000000</td>\n",
       "      <td>0.000000</td>\n",
       "      <td>0.000000</td>\n",
       "    </tr>\n",
       "    <tr>\n",
       "      <th>25%</th>\n",
       "      <td>596484.500000</td>\n",
       "      <td>0.000000</td>\n",
       "      <td>1.000000</td>\n",
       "      <td>12.000000</td>\n",
       "      <td>1.000000</td>\n",
       "    </tr>\n",
       "    <tr>\n",
       "      <th>50%</th>\n",
       "      <td>615479.000000</td>\n",
       "      <td>0.000000</td>\n",
       "      <td>3.000000</td>\n",
       "      <td>248.000000</td>\n",
       "      <td>2.000000</td>\n",
       "    </tr>\n",
       "    <tr>\n",
       "      <th>75%</th>\n",
       "      <td>637387.250000</td>\n",
       "      <td>1.000000</td>\n",
       "      <td>5.000000</td>\n",
       "      <td>936.000000</td>\n",
       "      <td>3.000000</td>\n",
       "    </tr>\n",
       "    <tr>\n",
       "      <th>max</th>\n",
       "      <td>660737.000000</td>\n",
       "      <td>1.000000</td>\n",
       "      <td>251.000000</td>\n",
       "      <td>2272.000000</td>\n",
       "      <td>55.000000</td>\n",
       "    </tr>\n",
       "  </tbody>\n",
       "</table>\n",
       "</div>"
      ],
      "text/plain": [
       "         Lead Number    Converted  TotalVisits  Total Time Spent on Website  \\\n",
       "count    9240.000000  9240.000000  9103.000000                  9240.000000   \n",
       "mean   617188.435606     0.385390     3.445238                   487.698268   \n",
       "std     23405.995698     0.486714     4.854853                   548.021466   \n",
       "min    579533.000000     0.000000     0.000000                     0.000000   \n",
       "25%    596484.500000     0.000000     1.000000                    12.000000   \n",
       "50%    615479.000000     0.000000     3.000000                   248.000000   \n",
       "75%    637387.250000     1.000000     5.000000                   936.000000   \n",
       "max    660737.000000     1.000000   251.000000                  2272.000000   \n",
       "\n",
       "       Page Views Per Visit  \n",
       "count           9103.000000  \n",
       "mean               2.362820  \n",
       "std                2.161418  \n",
       "min                0.000000  \n",
       "25%                1.000000  \n",
       "50%                2.000000  \n",
       "75%                3.000000  \n",
       "max               55.000000  "
      ]
     },
     "execution_count": 230,
     "metadata": {},
     "output_type": "execute_result"
    }
   ],
   "source": [
    "df2.describe()"
   ]
  },
  {
   "cell_type": "code",
   "execution_count": 231,
   "metadata": {},
   "outputs": [
    {
     "data": {
      "text/plain": [
       "Prospect ID                                 0.000000\n",
       "Lead Number                                 0.000000\n",
       "Lead Origin                                 0.000000\n",
       "Lead Source                                 0.389610\n",
       "Converted                                   0.000000\n",
       "TotalVisits                                 1.482684\n",
       "Total Time Spent on Website                 0.000000\n",
       "Page Views Per Visit                        1.482684\n",
       "Last Activity                               1.114719\n",
       "X Education Forums                          0.000000\n",
       "Newspaper                                   0.000000\n",
       "I agree to pay the amount through cheque    0.000000\n",
       "A free copy of Mastering The Interview      0.000000\n",
       "Last Notable Activity                       0.000000\n",
       "dtype: float64"
      ]
     },
     "execution_count": 231,
     "metadata": {},
     "output_type": "execute_result"
    }
   ],
   "source": [
    "100*df2.isnull().sum()/df2.shape[0]"
   ]
  },
  {
   "cell_type": "markdown",
   "metadata": {},
   "source": [
    "## Dropping rows with missing percentage"
   ]
  },
  {
   "cell_type": "code",
   "execution_count": 232,
   "metadata": {},
   "outputs": [],
   "source": [
    "df2=df2.dropna(how='all',subset=['TotalVisits','Page Views Per Visit','Lead Source'])"
   ]
  },
  {
   "cell_type": "code",
   "execution_count": 233,
   "metadata": {},
   "outputs": [
    {
     "data": {
      "text/plain": [
       "Prospect ID                                 0.000000\n",
       "Lead Number                                 0.000000\n",
       "Lead Origin                                 0.000000\n",
       "Lead Source                                 0.314091\n",
       "Converted                                   0.000000\n",
       "TotalVisits                                 1.407993\n",
       "Total Time Spent on Website                 0.000000\n",
       "Page Views Per Visit                        1.407993\n",
       "Last Activity                               1.093902\n",
       "X Education Forums                          0.000000\n",
       "Newspaper                                   0.000000\n",
       "I agree to pay the amount through cheque    0.000000\n",
       "A free copy of Mastering The Interview      0.000000\n",
       "Last Notable Activity                       0.000000\n",
       "dtype: float64"
      ]
     },
     "execution_count": 233,
     "metadata": {},
     "output_type": "execute_result"
    }
   ],
   "source": [
    "100*df2.isnull().sum()/df2.shape[0]"
   ]
  },
  {
   "cell_type": "markdown",
   "metadata": {},
   "source": [
    "## Impute values for columns with less percentage of missing "
   ]
  },
  {
   "cell_type": "code",
   "execution_count": 234,
   "metadata": {},
   "outputs": [
    {
     "data": {
      "text/plain": [
       "Google               0.311604\n",
       "Direct Traffic       0.276293\n",
       "Olark Chat           0.190678\n",
       "Organic Search       0.125380\n",
       "Reference            0.058018\n",
       "Welingak Website     0.015428\n",
       "Referral Sites       0.013581\n",
       "Facebook             0.005976\n",
       "bing                 0.000652\n",
       "google               0.000543\n",
       "Click2call           0.000435\n",
       "Press_Release        0.000217\n",
       "Live Chat            0.000217\n",
       "Social Media         0.000217\n",
       "welearnblog_Home     0.000109\n",
       "testone              0.000109\n",
       "WeLearn              0.000109\n",
       "NC_EDM               0.000109\n",
       "youtubechannel       0.000109\n",
       "blog                 0.000109\n",
       "Pay per Click Ads    0.000109\n",
       "Name: Lead Source, dtype: float64"
      ]
     },
     "execution_count": 234,
     "metadata": {},
     "output_type": "execute_result"
    }
   ],
   "source": [
    "df2['Lead Source'].value_counts(normalize=True)"
   ]
  },
  {
   "cell_type": "code",
   "execution_count": 235,
   "metadata": {},
   "outputs": [
    {
     "data": {
      "text/plain": [
       "'Google'"
      ]
     },
     "execution_count": 235,
     "metadata": {},
     "output_type": "execute_result"
    }
   ],
   "source": [
    "LS_mode=df2['Lead Source'].mode()[0]\n",
    "LS_mode"
   ]
  },
  {
   "cell_type": "code",
   "execution_count": 236,
   "metadata": {},
   "outputs": [],
   "source": [
    "df2['Lead Source'].fillna(LS_mode,inplace=True)"
   ]
  },
  {
   "cell_type": "code",
   "execution_count": 237,
   "metadata": {},
   "outputs": [
    {
     "data": {
      "text/plain": [
       "0"
      ]
     },
     "execution_count": 237,
     "metadata": {},
     "output_type": "execute_result"
    }
   ],
   "source": [
    "df2['Lead Source'].isnull().sum()"
   ]
  },
  {
   "cell_type": "code",
   "execution_count": 238,
   "metadata": {},
   "outputs": [
    {
     "data": {
      "text/plain": [
       "0.0      0.240470\n",
       "2.0      0.184555\n",
       "3.0      0.143469\n",
       "4.0      0.123036\n",
       "5.0      0.086016\n",
       "6.0      0.051192\n",
       "1.0      0.043392\n",
       "7.0      0.033945\n",
       "8.0      0.024607\n",
       "9.0      0.018016\n",
       "10.0     0.012523\n",
       "11.0     0.009447\n",
       "13.0     0.005273\n",
       "12.0     0.004943\n",
       "14.0     0.003955\n",
       "16.0     0.002307\n",
       "15.0     0.001977\n",
       "17.0     0.001758\n",
       "18.0     0.001648\n",
       "20.0     0.001318\n",
       "19.0     0.000989\n",
       "23.0     0.000659\n",
       "21.0     0.000659\n",
       "27.0     0.000549\n",
       "24.0     0.000549\n",
       "25.0     0.000549\n",
       "22.0     0.000330\n",
       "28.0     0.000220\n",
       "29.0     0.000220\n",
       "26.0     0.000220\n",
       "251.0    0.000110\n",
       "74.0     0.000110\n",
       "30.0     0.000110\n",
       "141.0    0.000110\n",
       "54.0     0.000110\n",
       "41.0     0.000110\n",
       "115.0    0.000110\n",
       "43.0     0.000110\n",
       "42.0     0.000110\n",
       "32.0     0.000110\n",
       "55.0     0.000110\n",
       "Name: TotalVisits, dtype: float64"
      ]
     },
     "execution_count": 238,
     "metadata": {},
     "output_type": "execute_result"
    }
   ],
   "source": [
    "df2['TotalVisits'].value_counts(normalize=True)"
   ]
  },
  {
   "cell_type": "code",
   "execution_count": 239,
   "metadata": {},
   "outputs": [],
   "source": [
    "tv_mode=df2['TotalVisits'].mode()[0]\n",
    "df2['TotalVisits'].fillna(tv_mode,inplace=True)"
   ]
  },
  {
   "cell_type": "code",
   "execution_count": 240,
   "metadata": {},
   "outputs": [
    {
     "data": {
      "text/plain": [
       "0.00    0.240470\n",
       "2.00    0.197188\n",
       "3.00    0.131385\n",
       "4.00    0.098429\n",
       "1.00    0.071515\n",
       "          ...   \n",
       "1.27    0.000110\n",
       "8.21    0.000110\n",
       "2.14    0.000110\n",
       "2.63    0.000110\n",
       "2.45    0.000110\n",
       "Name: Page Views Per Visit, Length: 114, dtype: float64"
      ]
     },
     "execution_count": 240,
     "metadata": {},
     "output_type": "execute_result"
    }
   ],
   "source": [
    "df2['Page Views Per Visit'].value_counts(normalize=True)\n"
   ]
  },
  {
   "cell_type": "code",
   "execution_count": 241,
   "metadata": {},
   "outputs": [],
   "source": [
    "df2.loc[df2['Page Views Per Visit']=='others','Page Views Per Visit']=np.NaN\n"
   ]
  },
  {
   "cell_type": "code",
   "execution_count": 242,
   "metadata": {},
   "outputs": [
    {
     "data": {
      "text/plain": [
       "0.014079930683418174"
      ]
     },
     "execution_count": 242,
     "metadata": {},
     "output_type": "execute_result"
    }
   ],
   "source": [
    "df2['Page Views Per Visit'].isnull().sum()/df2.shape[0]\n"
   ]
  },
  {
   "cell_type": "code",
   "execution_count": 243,
   "metadata": {},
   "outputs": [
    {
     "data": {
      "text/plain": [
       "0.00    2189\n",
       "2.00    1795\n",
       "3.00    1196\n",
       "4.00     896\n",
       "1.00     651\n",
       "        ... \n",
       "1.27       1\n",
       "8.21       1\n",
       "2.14       1\n",
       "2.63       1\n",
       "2.45       1\n",
       "Name: Page Views Per Visit, Length: 114, dtype: int64"
      ]
     },
     "execution_count": 243,
     "metadata": {},
     "output_type": "execute_result"
    }
   ],
   "source": [
    "df2['Page Views Per Visit'].value_counts()\n"
   ]
  },
  {
   "cell_type": "code",
   "execution_count": 244,
   "metadata": {},
   "outputs": [],
   "source": [
    "pv_mode=df2['Page Views Per Visit'].mode()[0]\n"
   ]
  },
  {
   "cell_type": "code",
   "execution_count": 245,
   "metadata": {},
   "outputs": [],
   "source": [
    "df2['Page Views Per Visit'].fillna(pv_mode,inplace=True)\n"
   ]
  },
  {
   "cell_type": "code",
   "execution_count": 246,
   "metadata": {},
   "outputs": [
    {
     "data": {
      "text/plain": [
       "Email Opened                    0.376369\n",
       "SMS Sent                        0.300591\n",
       "Olark Chat Conversation         0.106548\n",
       "Page Visited on Website         0.070083\n",
       "Converted to Lead               0.046868\n",
       "Email Bounced                   0.035151\n",
       "Email Link Clicked              0.029238\n",
       "Form Submitted on Website       0.012703\n",
       "Unreachable                     0.010184\n",
       "Unsubscribed                    0.006680\n",
       "Had a Phone Conversation        0.003285\n",
       "Approached upfront              0.000986\n",
       "View in browser link Clicked    0.000657\n",
       "Email Received                  0.000219\n",
       "Email Marked Spam               0.000219\n",
       "Resubscribed to emails          0.000110\n",
       "Visited Booth in Tradeshow      0.000110\n",
       "Name: Last Activity, dtype: float64"
      ]
     },
     "execution_count": 246,
     "metadata": {},
     "output_type": "execute_result"
    }
   ],
   "source": [
    "df2['Last Activity'].value_counts(normalize=True)"
   ]
  },
  {
   "cell_type": "code",
   "execution_count": 247,
   "metadata": {},
   "outputs": [],
   "source": [
    "L_MODE=df2['Last Activity'].mode()[0]"
   ]
  },
  {
   "cell_type": "code",
   "execution_count": 248,
   "metadata": {},
   "outputs": [],
   "source": [
    "df2['Last Activity'].fillna(L_MODE,inplace=True)"
   ]
  },
  {
   "cell_type": "code",
   "execution_count": 249,
   "metadata": {},
   "outputs": [
    {
     "data": {
      "text/plain": [
       "Prospect ID                                 0.0\n",
       "Lead Number                                 0.0\n",
       "Lead Origin                                 0.0\n",
       "Lead Source                                 0.0\n",
       "Converted                                   0.0\n",
       "TotalVisits                                 0.0\n",
       "Total Time Spent on Website                 0.0\n",
       "Page Views Per Visit                        0.0\n",
       "Last Activity                               0.0\n",
       "X Education Forums                          0.0\n",
       "Newspaper                                   0.0\n",
       "I agree to pay the amount through cheque    0.0\n",
       "A free copy of Mastering The Interview      0.0\n",
       "Last Notable Activity                       0.0\n",
       "dtype: float64"
      ]
     },
     "execution_count": 249,
     "metadata": {},
     "output_type": "execute_result"
    }
   ],
   "source": [
    "100*df2.isnull().sum()/df2.shape[0]"
   ]
  },
  {
   "cell_type": "code",
   "execution_count": 250,
   "metadata": {},
   "outputs": [
    {
     "name": "stdout",
     "output_type": "stream",
     "text": [
      "<class 'pandas.core.frame.DataFrame'>\n",
      "Int64Index: 9233 entries, 0 to 9239\n",
      "Data columns (total 14 columns):\n",
      " #   Column                                    Non-Null Count  Dtype  \n",
      "---  ------                                    --------------  -----  \n",
      " 0   Prospect ID                               9233 non-null   object \n",
      " 1   Lead Number                               9233 non-null   float64\n",
      " 2   Lead Origin                               9233 non-null   object \n",
      " 3   Lead Source                               9233 non-null   object \n",
      " 4   Converted                                 9233 non-null   float64\n",
      " 5   TotalVisits                               9233 non-null   float64\n",
      " 6   Total Time Spent on Website               9233 non-null   float64\n",
      " 7   Page Views Per Visit                      9233 non-null   float64\n",
      " 8   Last Activity                             9233 non-null   object \n",
      " 9   X Education Forums                        9233 non-null   object \n",
      " 10  Newspaper                                 9233 non-null   object \n",
      " 11  I agree to pay the amount through cheque  9233 non-null   object \n",
      " 12  A free copy of Mastering The Interview    9233 non-null   object \n",
      " 13  Last Notable Activity                     9233 non-null   object \n",
      "dtypes: float64(5), object(9)\n",
      "memory usage: 1.1+ MB\n"
     ]
    }
   ],
   "source": [
    "df2.info()"
   ]
  },
  {
   "cell_type": "code",
   "execution_count": 251,
   "metadata": {},
   "outputs": [
    {
     "data": {
      "text/html": [
       "<div>\n",
       "<style scoped>\n",
       "    .dataframe tbody tr th:only-of-type {\n",
       "        vertical-align: middle;\n",
       "    }\n",
       "\n",
       "    .dataframe tbody tr th {\n",
       "        vertical-align: top;\n",
       "    }\n",
       "\n",
       "    .dataframe thead th {\n",
       "        text-align: right;\n",
       "    }\n",
       "</style>\n",
       "<table border=\"1\" class=\"dataframe\">\n",
       "  <thead>\n",
       "    <tr style=\"text-align: right;\">\n",
       "      <th></th>\n",
       "      <th>Lead Number</th>\n",
       "      <th>Converted</th>\n",
       "      <th>TotalVisits</th>\n",
       "      <th>Total Time Spent on Website</th>\n",
       "      <th>Page Views Per Visit</th>\n",
       "    </tr>\n",
       "  </thead>\n",
       "  <tbody>\n",
       "    <tr>\n",
       "      <th>count</th>\n",
       "      <td>9233.000000</td>\n",
       "      <td>9233.000000</td>\n",
       "      <td>9233.000000</td>\n",
       "      <td>9233.000000</td>\n",
       "      <td>9233.000000</td>\n",
       "    </tr>\n",
       "    <tr>\n",
       "      <th>mean</th>\n",
       "      <td>617189.291779</td>\n",
       "      <td>0.385357</td>\n",
       "      <td>3.396729</td>\n",
       "      <td>487.470595</td>\n",
       "      <td>2.329552</td>\n",
       "    </tr>\n",
       "    <tr>\n",
       "      <th>std</th>\n",
       "      <td>23407.938279</td>\n",
       "      <td>0.486706</td>\n",
       "      <td>4.837612</td>\n",
       "      <td>547.802014</td>\n",
       "      <td>2.164128</td>\n",
       "    </tr>\n",
       "    <tr>\n",
       "      <th>min</th>\n",
       "      <td>579533.000000</td>\n",
       "      <td>0.000000</td>\n",
       "      <td>0.000000</td>\n",
       "      <td>0.000000</td>\n",
       "      <td>0.000000</td>\n",
       "    </tr>\n",
       "    <tr>\n",
       "      <th>25%</th>\n",
       "      <td>596485.000000</td>\n",
       "      <td>0.000000</td>\n",
       "      <td>0.000000</td>\n",
       "      <td>12.000000</td>\n",
       "      <td>0.000000</td>\n",
       "    </tr>\n",
       "    <tr>\n",
       "      <th>50%</th>\n",
       "      <td>615477.000000</td>\n",
       "      <td>0.000000</td>\n",
       "      <td>3.000000</td>\n",
       "      <td>248.000000</td>\n",
       "      <td>2.000000</td>\n",
       "    </tr>\n",
       "    <tr>\n",
       "      <th>75%</th>\n",
       "      <td>637388.000000</td>\n",
       "      <td>1.000000</td>\n",
       "      <td>5.000000</td>\n",
       "      <td>936.000000</td>\n",
       "      <td>3.000000</td>\n",
       "    </tr>\n",
       "    <tr>\n",
       "      <th>max</th>\n",
       "      <td>660737.000000</td>\n",
       "      <td>1.000000</td>\n",
       "      <td>251.000000</td>\n",
       "      <td>2272.000000</td>\n",
       "      <td>55.000000</td>\n",
       "    </tr>\n",
       "  </tbody>\n",
       "</table>\n",
       "</div>"
      ],
      "text/plain": [
       "         Lead Number    Converted  TotalVisits  Total Time Spent on Website  \\\n",
       "count    9233.000000  9233.000000  9233.000000                  9233.000000   \n",
       "mean   617189.291779     0.385357     3.396729                   487.470595   \n",
       "std     23407.938279     0.486706     4.837612                   547.802014   \n",
       "min    579533.000000     0.000000     0.000000                     0.000000   \n",
       "25%    596485.000000     0.000000     0.000000                    12.000000   \n",
       "50%    615477.000000     0.000000     3.000000                   248.000000   \n",
       "75%    637388.000000     1.000000     5.000000                   936.000000   \n",
       "max    660737.000000     1.000000   251.000000                  2272.000000   \n",
       "\n",
       "       Page Views Per Visit  \n",
       "count           9233.000000  \n",
       "mean               2.329552  \n",
       "std                2.164128  \n",
       "min                0.000000  \n",
       "25%                0.000000  \n",
       "50%                2.000000  \n",
       "75%                3.000000  \n",
       "max               55.000000  "
      ]
     },
     "execution_count": 251,
     "metadata": {},
     "output_type": "execute_result"
    }
   ],
   "source": [
    "df2.describe()"
   ]
  },
  {
   "cell_type": "markdown",
   "metadata": {},
   "source": [
    "## Combining Categories of Columns with less percentage  "
   ]
  },
  {
   "cell_type": "code",
   "execution_count": 252,
   "metadata": {},
   "outputs": [
    {
     "data": {
      "text/plain": [
       "Landing Page Submission    0.529189\n",
       "API                        0.387740\n",
       "Lead Add Form              0.077115\n",
       "Lead Import                0.005957\n",
       "Name: Lead Origin, dtype: float64"
      ]
     },
     "execution_count": 252,
     "metadata": {},
     "output_type": "execute_result"
    }
   ],
   "source": [
    "df2['Lead Origin'].value_counts(normalize=True)"
   ]
  },
  {
   "cell_type": "code",
   "execution_count": 253,
   "metadata": {},
   "outputs": [],
   "source": [
    "df2.loc[df2['Lead Origin']=='Lead Import','Lead Origin']='others'\n",
    "df2.loc[df2['Lead Origin']=='Quick Add Form','Lead Origin']='others'\n",
    "df2.loc[df2['Lead Origin']=='Lead Add Form','Lead Origin']='others'"
   ]
  },
  {
   "cell_type": "code",
   "execution_count": 254,
   "metadata": {},
   "outputs": [
    {
     "data": {
      "text/plain": [
       "Landing Page Submission    0.529189\n",
       "API                        0.387740\n",
       "others                     0.083072\n",
       "Name: Lead Origin, dtype: float64"
      ]
     },
     "execution_count": 254,
     "metadata": {},
     "output_type": "execute_result"
    }
   ],
   "source": [
    "df2['Lead Origin'].value_counts(normalize=True)"
   ]
  },
  {
   "cell_type": "code",
   "execution_count": 255,
   "metadata": {},
   "outputs": [
    {
     "data": {
      "text/plain": [
       "Modified                        0.368244\n",
       "Email Opened                    0.306184\n",
       "SMS Sent                        0.235243\n",
       "Page Visited on Website         0.034442\n",
       "Olark Chat Conversation         0.019820\n",
       "Email Link Clicked              0.018737\n",
       "Email Bounced                   0.006498\n",
       "Unsubscribed                    0.005090\n",
       "Unreachable                     0.003466\n",
       "Had a Phone Conversation        0.001516\n",
       "Email Marked Spam               0.000217\n",
       "Email Received                  0.000108\n",
       "Resubscribed to emails          0.000108\n",
       "View in browser link Clicked    0.000108\n",
       "Approached upfront              0.000108\n",
       "Form Submitted on Website       0.000108\n",
       "Name: Last Notable Activity, dtype: float64"
      ]
     },
     "execution_count": 255,
     "metadata": {},
     "output_type": "execute_result"
    }
   ],
   "source": [
    "df2['Last Notable Activity'].value_counts(normalize=True)"
   ]
  },
  {
   "cell_type": "code",
   "execution_count": 256,
   "metadata": {},
   "outputs": [],
   "source": [
    "df2.loc[df2['Last Notable Activity']=='Email Received','Last Notable Activity']='others'\n",
    "df2.loc[df2['Last Notable Activity']=='Olark Chat Conversation','Last Notable Activity']='others'\n",
    "df2.loc[df2['Last Notable Activity']=='Email Link Clicked','Last Notable Activity']='others'\n",
    "df2.loc[df2['Last Notable Activity']=='Email Bounced','Last Notable Activity']='others'\n",
    "df2.loc[df2['Last Notable Activity']=='Unsubscribed','Last Notable Activity']='others'\n",
    "df2.loc[df2['Last Notable Activity']=='Unreachable','Last Notable Activity']='others'\n",
    "df2.loc[df2['Last Notable Activity']=='Page Visited on Website','Last Notable Activity']='others'\n",
    "df2.loc[df2['Last Notable Activity']=='Had a Phone Conversation','Last Notable Activity']='others'\n",
    "df2.loc[df2['Last Notable Activity']=='Email Marked Spam','Last Notable Activity']='others'\n",
    "df2.loc[df2['Last Notable Activity']=='Form Submitted on Website','Last Notable Activity']='others'\n",
    "df2.loc[df2['Last Notable Activity']=='View in browser link Clicked','Last Notable Activity']='others'\n",
    "df2.loc[df2['Last Notable Activity']=='Approached upfront','Last Notable Activity']='others'\n",
    "df2.loc[df2['Last Notable Activity']=='Resubscribed to emails','Last Notable Activity']='others'"
   ]
  },
  {
   "cell_type": "code",
   "execution_count": 257,
   "metadata": {},
   "outputs": [
    {
     "data": {
      "text/plain": [
       "Modified        0.368244\n",
       "Email Opened    0.306184\n",
       "SMS Sent        0.235243\n",
       "others          0.090328\n",
       "Name: Last Notable Activity, dtype: float64"
      ]
     },
     "execution_count": 257,
     "metadata": {},
     "output_type": "execute_result"
    }
   ],
   "source": [
    "df2['Last Notable Activity'].value_counts(normalize=True)"
   ]
  },
  {
   "cell_type": "code",
   "execution_count": 258,
   "metadata": {},
   "outputs": [
    {
     "data": {
      "text/plain": [
       "Google               0.313766\n",
       "Direct Traffic       0.275425\n",
       "Olark Chat           0.190079\n",
       "Organic Search       0.124986\n",
       "Reference            0.057836\n",
       "Welingak Website     0.015380\n",
       "Referral Sites       0.013538\n",
       "Facebook             0.005957\n",
       "bing                 0.000650\n",
       "google               0.000542\n",
       "Click2call           0.000433\n",
       "Press_Release        0.000217\n",
       "Live Chat            0.000217\n",
       "Social Media         0.000217\n",
       "welearnblog_Home     0.000108\n",
       "testone              0.000108\n",
       "WeLearn              0.000108\n",
       "NC_EDM               0.000108\n",
       "youtubechannel       0.000108\n",
       "blog                 0.000108\n",
       "Pay per Click Ads    0.000108\n",
       "Name: Lead Source, dtype: float64"
      ]
     },
     "execution_count": 258,
     "metadata": {},
     "output_type": "execute_result"
    }
   ],
   "source": [
    "df2['Lead Source'].value_counts(normalize=True)"
   ]
  },
  {
   "cell_type": "code",
   "execution_count": 259,
   "metadata": {},
   "outputs": [],
   "source": [
    "df2.loc[df2['Lead Source']=='Welingak Website','Lead Source']='others'\n",
    "df2.loc[df2['Lead Source']=='Referral Sites','Lead Source']='others'\n",
    "df2.loc[df2['Lead Source']=='Facebook','Lead Source']='others'\n",
    "df2.loc[df2['Lead Source']=='bing','Lead Source']='others'\n",
    "df2.loc[df2['Lead Source']=='Click2call','Lead Source']='others'\n",
    "df2.loc[df2['Lead Source']=='Press_Release','Lead Source']='others'\n",
    "df2.loc[df2['Lead Source']=='Social Media','Lead Source']='others'\n",
    "df2.loc[df2['Lead Source']=='Live Chat','Lead Source']='others'\n",
    "df2.loc[df2['Lead Source']=='Pay per Click Ads','Lead Source']='others'\n",
    "df2.loc[df2['Lead Source']=='NC_EDM','Lead Source']='others'\n",
    "df2.loc[df2['Lead Source']=='blog','Lead Source']='others'\n",
    "df2.loc[df2['Lead Source']=='WeLearn','Lead Source']='others'\n",
    "df2.loc[df2['Lead Source']=='youtubechannel','Lead Source']='others'\n",
    "df2.loc[df2['Lead Source']=='welearnblog_Home','Lead Source']='others'\n",
    "df2.loc[df2['Lead Source']=='testone','Lead Source']='others'\n",
    "df2.loc[df2['Lead Source']=='google','Lead Source']='Google'"
   ]
  },
  {
   "cell_type": "code",
   "execution_count": 260,
   "metadata": {},
   "outputs": [
    {
     "data": {
      "text/plain": [
       "Google            0.314307\n",
       "Direct Traffic    0.275425\n",
       "Olark Chat        0.190079\n",
       "Organic Search    0.124986\n",
       "Reference         0.057836\n",
       "others            0.037366\n",
       "Name: Lead Source, dtype: float64"
      ]
     },
     "execution_count": 260,
     "metadata": {},
     "output_type": "execute_result"
    }
   ],
   "source": [
    "df2['Lead Source'].value_counts(normalize=True)"
   ]
  },
  {
   "cell_type": "code",
   "execution_count": 261,
   "metadata": {},
   "outputs": [
    {
     "data": {
      "text/plain": [
       "Email Opened                    0.383191\n",
       "SMS Sent                        0.297303\n",
       "Olark Chat Conversation         0.105383\n",
       "Page Visited on Website         0.069317\n",
       "Converted to Lead               0.046355\n",
       "Email Bounced                   0.034767\n",
       "Email Link Clicked              0.028918\n",
       "Form Submitted on Website       0.012564\n",
       "Unreachable                     0.010073\n",
       "Unsubscribed                    0.006607\n",
       "Had a Phone Conversation        0.003249\n",
       "Approached upfront              0.000975\n",
       "View in browser link Clicked    0.000650\n",
       "Email Received                  0.000217\n",
       "Email Marked Spam               0.000217\n",
       "Resubscribed to emails          0.000108\n",
       "Visited Booth in Tradeshow      0.000108\n",
       "Name: Last Activity, dtype: float64"
      ]
     },
     "execution_count": 261,
     "metadata": {},
     "output_type": "execute_result"
    }
   ],
   "source": [
    "df2['Last Activity'].value_counts(normalize=True)"
   ]
  },
  {
   "cell_type": "code",
   "execution_count": 262,
   "metadata": {},
   "outputs": [],
   "source": [
    "df2.loc[df2['Last Activity']=='Converted to Lead','Last Activity']='others'\n",
    "df2.loc[df2['Last Activity']=='Email Bounced','Last Activity']='others'\n",
    "df2.loc[df2['Last Activity']=='Email Link Clicked','Last Activity']='others'\n",
    "df2.loc[df2['Last Activity']=='Form Submitted on Website','Last Activity']='others'\n",
    "df2.loc[df2['Last Activity']=='Unreachable','Last Activity']='others'\n",
    "df2.loc[df2['Last Activity']=='Unsubscribed','Last Activity']='others'\n",
    "df2.loc[df2['Last Activity']=='Had a Phone Conversation','Last Activity']='others'\n",
    "df2.loc[df2['Last Activity']=='Approached upfront','Last Activity']='others'\n",
    "df2.loc[df2['Last Activity']=='View in browser link Clicked','Last Activity']='others'\n",
    "df2.loc[df2['Last Activity']=='Email Marked Spam','Last Activity']='others'\n",
    "df2.loc[df2['Last Activity']=='Visited Booth in Tradeshow','Last Activity']='others'\n",
    "df2.loc[df2['Last Activity']=='Resubscribed to emails','Last Activity']='others'\n",
    "df2.loc[df2['Last Activity']=='Google','Last Activity']='others'\n",
    "df2.loc[df2['Last Activity']=='Email Received','Last Activity']='others'"
   ]
  },
  {
   "cell_type": "code",
   "execution_count": 263,
   "metadata": {},
   "outputs": [
    {
     "data": {
      "text/plain": [
       "Email Opened               0.383191\n",
       "SMS Sent                   0.297303\n",
       "others                     0.144807\n",
       "Olark Chat Conversation    0.105383\n",
       "Page Visited on Website    0.069317\n",
       "Name: Last Activity, dtype: float64"
      ]
     },
     "execution_count": 263,
     "metadata": {},
     "output_type": "execute_result"
    }
   ],
   "source": [
    "df2['Last Activity'].value_counts(normalize=True)"
   ]
  },
  {
   "cell_type": "code",
   "execution_count": 264,
   "metadata": {},
   "outputs": [
    {
     "data": {
      "text/plain": [
       "Prospect ID                                 0.0\n",
       "Lead Number                                 0.0\n",
       "Lead Origin                                 0.0\n",
       "Lead Source                                 0.0\n",
       "Converted                                   0.0\n",
       "TotalVisits                                 0.0\n",
       "Total Time Spent on Website                 0.0\n",
       "Page Views Per Visit                        0.0\n",
       "Last Activity                               0.0\n",
       "X Education Forums                          0.0\n",
       "Newspaper                                   0.0\n",
       "I agree to pay the amount through cheque    0.0\n",
       "A free copy of Mastering The Interview      0.0\n",
       "Last Notable Activity                       0.0\n",
       "dtype: float64"
      ]
     },
     "execution_count": 264,
     "metadata": {},
     "output_type": "execute_result"
    }
   ],
   "source": [
    "100*df2.isnull().sum()/df2.shape[0]"
   ]
  },
  {
   "cell_type": "markdown",
   "metadata": {},
   "source": [
    "## Percentage of rows retained"
   ]
  },
  {
   "cell_type": "code",
   "execution_count": 265,
   "metadata": {},
   "outputs": [
    {
     "data": {
      "text/plain": [
       "99.92424242424242"
      ]
     },
     "execution_count": 265,
     "metadata": {},
     "output_type": "execute_result"
    }
   ],
   "source": [
    "100*df2.shape[0]/df.shape[0]"
   ]
  },
  {
   "cell_type": "code",
   "execution_count": 266,
   "metadata": {},
   "outputs": [
    {
     "data": {
      "text/plain": [
       "(9233, 14)"
      ]
     },
     "execution_count": 266,
     "metadata": {},
     "output_type": "execute_result"
    }
   ],
   "source": [
    "df2.shape"
   ]
  },
  {
   "cell_type": "code",
   "execution_count": 267,
   "metadata": {},
   "outputs": [
    {
     "data": {
      "text/html": [
       "<div>\n",
       "<style scoped>\n",
       "    .dataframe tbody tr th:only-of-type {\n",
       "        vertical-align: middle;\n",
       "    }\n",
       "\n",
       "    .dataframe tbody tr th {\n",
       "        vertical-align: top;\n",
       "    }\n",
       "\n",
       "    .dataframe thead th {\n",
       "        text-align: right;\n",
       "    }\n",
       "</style>\n",
       "<table border=\"1\" class=\"dataframe\">\n",
       "  <thead>\n",
       "    <tr style=\"text-align: right;\">\n",
       "      <th></th>\n",
       "      <th>Prospect ID</th>\n",
       "      <th>Lead Number</th>\n",
       "      <th>Lead Origin</th>\n",
       "      <th>Lead Source</th>\n",
       "      <th>Converted</th>\n",
       "      <th>TotalVisits</th>\n",
       "      <th>Total Time Spent on Website</th>\n",
       "      <th>Page Views Per Visit</th>\n",
       "      <th>Last Activity</th>\n",
       "      <th>X Education Forums</th>\n",
       "      <th>Newspaper</th>\n",
       "      <th>I agree to pay the amount through cheque</th>\n",
       "      <th>A free copy of Mastering The Interview</th>\n",
       "      <th>Last Notable Activity</th>\n",
       "    </tr>\n",
       "  </thead>\n",
       "  <tbody>\n",
       "    <tr>\n",
       "      <th>0</th>\n",
       "      <td>7927b2df-8bba-4d29-b9a2-b6e0beafe620</td>\n",
       "      <td>660737.0</td>\n",
       "      <td>API</td>\n",
       "      <td>Olark Chat</td>\n",
       "      <td>0.0</td>\n",
       "      <td>0.0</td>\n",
       "      <td>0.0</td>\n",
       "      <td>0.0</td>\n",
       "      <td>Page Visited on Website</td>\n",
       "      <td>No</td>\n",
       "      <td>No</td>\n",
       "      <td>No</td>\n",
       "      <td>No</td>\n",
       "      <td>Modified</td>\n",
       "    </tr>\n",
       "    <tr>\n",
       "      <th>1</th>\n",
       "      <td>2a272436-5132-4136-86fa-dcc88c88f482</td>\n",
       "      <td>660728.0</td>\n",
       "      <td>API</td>\n",
       "      <td>Organic Search</td>\n",
       "      <td>0.0</td>\n",
       "      <td>5.0</td>\n",
       "      <td>674.0</td>\n",
       "      <td>2.5</td>\n",
       "      <td>Email Opened</td>\n",
       "      <td>No</td>\n",
       "      <td>No</td>\n",
       "      <td>No</td>\n",
       "      <td>No</td>\n",
       "      <td>Email Opened</td>\n",
       "    </tr>\n",
       "    <tr>\n",
       "      <th>2</th>\n",
       "      <td>8cc8c611-a219-4f35-ad23-fdfd2656bd8a</td>\n",
       "      <td>660727.0</td>\n",
       "      <td>Landing Page Submission</td>\n",
       "      <td>Direct Traffic</td>\n",
       "      <td>1.0</td>\n",
       "      <td>2.0</td>\n",
       "      <td>1532.0</td>\n",
       "      <td>2.0</td>\n",
       "      <td>Email Opened</td>\n",
       "      <td>No</td>\n",
       "      <td>No</td>\n",
       "      <td>No</td>\n",
       "      <td>Yes</td>\n",
       "      <td>Email Opened</td>\n",
       "    </tr>\n",
       "    <tr>\n",
       "      <th>3</th>\n",
       "      <td>0cc2df48-7cf4-4e39-9de9-19797f9b38cc</td>\n",
       "      <td>660719.0</td>\n",
       "      <td>Landing Page Submission</td>\n",
       "      <td>Direct Traffic</td>\n",
       "      <td>0.0</td>\n",
       "      <td>1.0</td>\n",
       "      <td>305.0</td>\n",
       "      <td>1.0</td>\n",
       "      <td>others</td>\n",
       "      <td>No</td>\n",
       "      <td>No</td>\n",
       "      <td>No</td>\n",
       "      <td>No</td>\n",
       "      <td>Modified</td>\n",
       "    </tr>\n",
       "    <tr>\n",
       "      <th>4</th>\n",
       "      <td>3256f628-e534-4826-9d63-4a8b88782852</td>\n",
       "      <td>660681.0</td>\n",
       "      <td>Landing Page Submission</td>\n",
       "      <td>Google</td>\n",
       "      <td>1.0</td>\n",
       "      <td>2.0</td>\n",
       "      <td>1428.0</td>\n",
       "      <td>1.0</td>\n",
       "      <td>others</td>\n",
       "      <td>No</td>\n",
       "      <td>No</td>\n",
       "      <td>No</td>\n",
       "      <td>No</td>\n",
       "      <td>Modified</td>\n",
       "    </tr>\n",
       "  </tbody>\n",
       "</table>\n",
       "</div>"
      ],
      "text/plain": [
       "                            Prospect ID  Lead Number              Lead Origin  \\\n",
       "0  7927b2df-8bba-4d29-b9a2-b6e0beafe620     660737.0                      API   \n",
       "1  2a272436-5132-4136-86fa-dcc88c88f482     660728.0                      API   \n",
       "2  8cc8c611-a219-4f35-ad23-fdfd2656bd8a     660727.0  Landing Page Submission   \n",
       "3  0cc2df48-7cf4-4e39-9de9-19797f9b38cc     660719.0  Landing Page Submission   \n",
       "4  3256f628-e534-4826-9d63-4a8b88782852     660681.0  Landing Page Submission   \n",
       "\n",
       "      Lead Source  Converted  TotalVisits  Total Time Spent on Website  \\\n",
       "0      Olark Chat        0.0          0.0                          0.0   \n",
       "1  Organic Search        0.0          5.0                        674.0   \n",
       "2  Direct Traffic        1.0          2.0                       1532.0   \n",
       "3  Direct Traffic        0.0          1.0                        305.0   \n",
       "4          Google        1.0          2.0                       1428.0   \n",
       "\n",
       "   Page Views Per Visit            Last Activity X Education Forums Newspaper  \\\n",
       "0                   0.0  Page Visited on Website                 No        No   \n",
       "1                   2.5             Email Opened                 No        No   \n",
       "2                   2.0             Email Opened                 No        No   \n",
       "3                   1.0                   others                 No        No   \n",
       "4                   1.0                   others                 No        No   \n",
       "\n",
       "  I agree to pay the amount through cheque  \\\n",
       "0                                       No   \n",
       "1                                       No   \n",
       "2                                       No   \n",
       "3                                       No   \n",
       "4                                       No   \n",
       "\n",
       "  A free copy of Mastering The Interview Last Notable Activity  \n",
       "0                                     No              Modified  \n",
       "1                                     No          Email Opened  \n",
       "2                                    Yes          Email Opened  \n",
       "3                                     No              Modified  \n",
       "4                                     No              Modified  "
      ]
     },
     "execution_count": 267,
     "metadata": {},
     "output_type": "execute_result"
    }
   ],
   "source": [
    "df2.head()"
   ]
  },
  {
   "cell_type": "code",
   "execution_count": 268,
   "metadata": {},
   "outputs": [
    {
     "data": {
      "text/plain": [
       "Index(['Prospect ID', 'Lead Number', 'Lead Origin', 'Lead Source', 'Converted',\n",
       "       'TotalVisits', 'Total Time Spent on Website', 'Page Views Per Visit',\n",
       "       'Last Activity', 'X Education Forums', 'Newspaper',\n",
       "       'I agree to pay the amount through cheque',\n",
       "       'A free copy of Mastering The Interview', 'Last Notable Activity'],\n",
       "      dtype='object')"
      ]
     },
     "execution_count": 268,
     "metadata": {},
     "output_type": "execute_result"
    }
   ],
   "source": [
    "df2.columns"
   ]
  },
  {
   "cell_type": "code",
   "execution_count": 269,
   "metadata": {},
   "outputs": [
    {
     "name": "stdout",
     "output_type": "stream",
     "text": [
      "<class 'pandas.core.frame.DataFrame'>\n",
      "Int64Index: 9233 entries, 0 to 9239\n",
      "Data columns (total 14 columns):\n",
      " #   Column                                    Non-Null Count  Dtype  \n",
      "---  ------                                    --------------  -----  \n",
      " 0   Prospect ID                               9233 non-null   object \n",
      " 1   Lead Number                               9233 non-null   float64\n",
      " 2   Lead Origin                               9233 non-null   object \n",
      " 3   Lead Source                               9233 non-null   object \n",
      " 4   Converted                                 9233 non-null   float64\n",
      " 5   TotalVisits                               9233 non-null   float64\n",
      " 6   Total Time Spent on Website               9233 non-null   float64\n",
      " 7   Page Views Per Visit                      9233 non-null   float64\n",
      " 8   Last Activity                             9233 non-null   object \n",
      " 9   X Education Forums                        9233 non-null   object \n",
      " 10  Newspaper                                 9233 non-null   object \n",
      " 11  I agree to pay the amount through cheque  9233 non-null   object \n",
      " 12  A free copy of Mastering The Interview    9233 non-null   object \n",
      " 13  Last Notable Activity                     9233 non-null   object \n",
      "dtypes: float64(5), object(9)\n",
      "memory usage: 1.1+ MB\n"
     ]
    }
   ],
   "source": [
    "df2.info()"
   ]
  },
  {
   "cell_type": "code",
   "execution_count": 270,
   "metadata": {},
   "outputs": [],
   "source": [
    "# dropping prospect id as it is not required\n",
    "df2.drop('Prospect ID',axis=1,inplace=True)"
   ]
  },
  {
   "cell_type": "code",
   "execution_count": 271,
   "metadata": {},
   "outputs": [
    {
     "name": "stdout",
     "output_type": "stream",
     "text": [
      "<class 'pandas.core.frame.DataFrame'>\n",
      "Int64Index: 9233 entries, 0 to 9239\n",
      "Data columns (total 13 columns):\n",
      " #   Column                                    Non-Null Count  Dtype  \n",
      "---  ------                                    --------------  -----  \n",
      " 0   Lead Number                               9233 non-null   float64\n",
      " 1   Lead Origin                               9233 non-null   object \n",
      " 2   Lead Source                               9233 non-null   object \n",
      " 3   Converted                                 9233 non-null   float64\n",
      " 4   TotalVisits                               9233 non-null   float64\n",
      " 5   Total Time Spent on Website               9233 non-null   float64\n",
      " 6   Page Views Per Visit                      9233 non-null   float64\n",
      " 7   Last Activity                             9233 non-null   object \n",
      " 8   X Education Forums                        9233 non-null   object \n",
      " 9   Newspaper                                 9233 non-null   object \n",
      " 10  I agree to pay the amount through cheque  9233 non-null   object \n",
      " 11  A free copy of Mastering The Interview    9233 non-null   object \n",
      " 12  Last Notable Activity                     9233 non-null   object \n",
      "dtypes: float64(5), object(8)\n",
      "memory usage: 1009.9+ KB\n"
     ]
    }
   ],
   "source": [
    "df2.info()"
   ]
  },
  {
   "cell_type": "code",
   "execution_count": 272,
   "metadata": {},
   "outputs": [
    {
     "data": {
      "text/plain": [
       "Index(['Lead Number', 'Lead Origin', 'Lead Source', 'Converted', 'TotalVisits',\n",
       "       'Total Time Spent on Website', 'Page Views Per Visit', 'Last Activity',\n",
       "       'X Education Forums', 'Newspaper',\n",
       "       'I agree to pay the amount through cheque',\n",
       "       'A free copy of Mastering The Interview', 'Last Notable Activity'],\n",
       "      dtype='object')"
      ]
     },
     "execution_count": 272,
     "metadata": {},
     "output_type": "execute_result"
    }
   ],
   "source": [
    "df2.columns"
   ]
  },
  {
   "cell_type": "markdown",
   "metadata": {},
   "source": [
    "## Checking outliers"
   ]
  },
  {
   "cell_type": "code",
   "execution_count": 273,
   "metadata": {},
   "outputs": [],
   "source": [
    "numerical=df2[['TotalVisits','Total Time Spent on Website','Page Views Per Visit']]"
   ]
  },
  {
   "cell_type": "code",
   "execution_count": 274,
   "metadata": {},
   "outputs": [
    {
     "data": {
      "text/html": [
       "<div>\n",
       "<style scoped>\n",
       "    .dataframe tbody tr th:only-of-type {\n",
       "        vertical-align: middle;\n",
       "    }\n",
       "\n",
       "    .dataframe tbody tr th {\n",
       "        vertical-align: top;\n",
       "    }\n",
       "\n",
       "    .dataframe thead th {\n",
       "        text-align: right;\n",
       "    }\n",
       "</style>\n",
       "<table border=\"1\" class=\"dataframe\">\n",
       "  <thead>\n",
       "    <tr style=\"text-align: right;\">\n",
       "      <th></th>\n",
       "      <th>TotalVisits</th>\n",
       "      <th>Total Time Spent on Website</th>\n",
       "      <th>Page Views Per Visit</th>\n",
       "    </tr>\n",
       "  </thead>\n",
       "  <tbody>\n",
       "    <tr>\n",
       "      <th>count</th>\n",
       "      <td>9233.000000</td>\n",
       "      <td>9233.000000</td>\n",
       "      <td>9233.000000</td>\n",
       "    </tr>\n",
       "    <tr>\n",
       "      <th>mean</th>\n",
       "      <td>3.396729</td>\n",
       "      <td>487.470595</td>\n",
       "      <td>2.329552</td>\n",
       "    </tr>\n",
       "    <tr>\n",
       "      <th>std</th>\n",
       "      <td>4.837612</td>\n",
       "      <td>547.802014</td>\n",
       "      <td>2.164128</td>\n",
       "    </tr>\n",
       "    <tr>\n",
       "      <th>min</th>\n",
       "      <td>0.000000</td>\n",
       "      <td>0.000000</td>\n",
       "      <td>0.000000</td>\n",
       "    </tr>\n",
       "    <tr>\n",
       "      <th>25%</th>\n",
       "      <td>0.000000</td>\n",
       "      <td>12.000000</td>\n",
       "      <td>0.000000</td>\n",
       "    </tr>\n",
       "    <tr>\n",
       "      <th>50%</th>\n",
       "      <td>3.000000</td>\n",
       "      <td>248.000000</td>\n",
       "      <td>2.000000</td>\n",
       "    </tr>\n",
       "    <tr>\n",
       "      <th>75%</th>\n",
       "      <td>5.000000</td>\n",
       "      <td>936.000000</td>\n",
       "      <td>3.000000</td>\n",
       "    </tr>\n",
       "    <tr>\n",
       "      <th>90%</th>\n",
       "      <td>7.000000</td>\n",
       "      <td>1379.800000</td>\n",
       "      <td>5.000000</td>\n",
       "    </tr>\n",
       "    <tr>\n",
       "      <th>95%</th>\n",
       "      <td>10.000000</td>\n",
       "      <td>1562.000000</td>\n",
       "      <td>6.000000</td>\n",
       "    </tr>\n",
       "    <tr>\n",
       "      <th>99%</th>\n",
       "      <td>17.000000</td>\n",
       "      <td>1839.680000</td>\n",
       "      <td>9.000000</td>\n",
       "    </tr>\n",
       "    <tr>\n",
       "      <th>100%</th>\n",
       "      <td>251.000000</td>\n",
       "      <td>2272.000000</td>\n",
       "      <td>55.000000</td>\n",
       "    </tr>\n",
       "    <tr>\n",
       "      <th>max</th>\n",
       "      <td>251.000000</td>\n",
       "      <td>2272.000000</td>\n",
       "      <td>55.000000</td>\n",
       "    </tr>\n",
       "  </tbody>\n",
       "</table>\n",
       "</div>"
      ],
      "text/plain": [
       "       TotalVisits  Total Time Spent on Website  Page Views Per Visit\n",
       "count  9233.000000                  9233.000000           9233.000000\n",
       "mean      3.396729                   487.470595              2.329552\n",
       "std       4.837612                   547.802014              2.164128\n",
       "min       0.000000                     0.000000              0.000000\n",
       "25%       0.000000                    12.000000              0.000000\n",
       "50%       3.000000                   248.000000              2.000000\n",
       "75%       5.000000                   936.000000              3.000000\n",
       "90%       7.000000                  1379.800000              5.000000\n",
       "95%      10.000000                  1562.000000              6.000000\n",
       "99%      17.000000                  1839.680000              9.000000\n",
       "100%    251.000000                  2272.000000             55.000000\n",
       "max     251.000000                  2272.000000             55.000000"
      ]
     },
     "execution_count": 274,
     "metadata": {},
     "output_type": "execute_result"
    }
   ],
   "source": [
    "# Checking outliers at 25%, 50%, 75%, 90%, 95% and 99%\n",
    "numerical.describe(percentiles=[.25, .5, .75, .90, .95, .99, 1])"
   ]
  },
  {
   "cell_type": "code",
   "execution_count": 275,
   "metadata": {},
   "outputs": [],
   "source": [
    "tvmin=df2['TotalVisits'].quantile(.01)\n",
    "tvmax=df2['TotalVisits'].quantile(.99)\n",
    "df2['TotalVisits'][df2['TotalVisits']>=tvmax]=tvmax"
   ]
  },
  {
   "cell_type": "code",
   "execution_count": 276,
   "metadata": {},
   "outputs": [],
   "source": [
    "# No need to cap for Total Time Spent on Website"
   ]
  },
  {
   "cell_type": "code",
   "execution_count": 277,
   "metadata": {},
   "outputs": [],
   "source": [
    "pvmin=df2['Page Views Per Visit'].quantile(.01)\n",
    "pvmax=df2['Page Views Per Visit'].quantile(.99)\n",
    "df2['Page Views Per Visit'][df2['Page Views Per Visit']>=pvmax]=pvmax"
   ]
  },
  {
   "cell_type": "code",
   "execution_count": 278,
   "metadata": {},
   "outputs": [
    {
     "data": {
      "text/html": [
       "<div>\n",
       "<style scoped>\n",
       "    .dataframe tbody tr th:only-of-type {\n",
       "        vertical-align: middle;\n",
       "    }\n",
       "\n",
       "    .dataframe tbody tr th {\n",
       "        vertical-align: top;\n",
       "    }\n",
       "\n",
       "    .dataframe thead th {\n",
       "        text-align: right;\n",
       "    }\n",
       "</style>\n",
       "<table border=\"1\" class=\"dataframe\">\n",
       "  <thead>\n",
       "    <tr style=\"text-align: right;\">\n",
       "      <th></th>\n",
       "      <th>TotalVisits</th>\n",
       "      <th>Total Time Spent on Website</th>\n",
       "      <th>Page Views Per Visit</th>\n",
       "    </tr>\n",
       "  </thead>\n",
       "  <tbody>\n",
       "    <tr>\n",
       "      <th>count</th>\n",
       "      <td>9233.000000</td>\n",
       "      <td>9233.000000</td>\n",
       "      <td>9233.000000</td>\n",
       "    </tr>\n",
       "    <tr>\n",
       "      <th>mean</th>\n",
       "      <td>3.285823</td>\n",
       "      <td>487.470595</td>\n",
       "      <td>2.301139</td>\n",
       "    </tr>\n",
       "    <tr>\n",
       "      <th>std</th>\n",
       "      <td>3.253227</td>\n",
       "      <td>547.802014</td>\n",
       "      <td>1.990768</td>\n",
       "    </tr>\n",
       "    <tr>\n",
       "      <th>min</th>\n",
       "      <td>0.000000</td>\n",
       "      <td>0.000000</td>\n",
       "      <td>0.000000</td>\n",
       "    </tr>\n",
       "    <tr>\n",
       "      <th>25%</th>\n",
       "      <td>0.000000</td>\n",
       "      <td>12.000000</td>\n",
       "      <td>0.000000</td>\n",
       "    </tr>\n",
       "    <tr>\n",
       "      <th>50%</th>\n",
       "      <td>3.000000</td>\n",
       "      <td>248.000000</td>\n",
       "      <td>2.000000</td>\n",
       "    </tr>\n",
       "    <tr>\n",
       "      <th>75%</th>\n",
       "      <td>5.000000</td>\n",
       "      <td>936.000000</td>\n",
       "      <td>3.000000</td>\n",
       "    </tr>\n",
       "    <tr>\n",
       "      <th>90%</th>\n",
       "      <td>7.000000</td>\n",
       "      <td>1379.800000</td>\n",
       "      <td>5.000000</td>\n",
       "    </tr>\n",
       "    <tr>\n",
       "      <th>95%</th>\n",
       "      <td>10.000000</td>\n",
       "      <td>1562.000000</td>\n",
       "      <td>6.000000</td>\n",
       "    </tr>\n",
       "    <tr>\n",
       "      <th>99%</th>\n",
       "      <td>17.000000</td>\n",
       "      <td>1839.680000</td>\n",
       "      <td>9.000000</td>\n",
       "    </tr>\n",
       "    <tr>\n",
       "      <th>100%</th>\n",
       "      <td>17.000000</td>\n",
       "      <td>2272.000000</td>\n",
       "      <td>9.000000</td>\n",
       "    </tr>\n",
       "    <tr>\n",
       "      <th>max</th>\n",
       "      <td>17.000000</td>\n",
       "      <td>2272.000000</td>\n",
       "      <td>9.000000</td>\n",
       "    </tr>\n",
       "  </tbody>\n",
       "</table>\n",
       "</div>"
      ],
      "text/plain": [
       "       TotalVisits  Total Time Spent on Website  Page Views Per Visit\n",
       "count  9233.000000                  9233.000000           9233.000000\n",
       "mean      3.285823                   487.470595              2.301139\n",
       "std       3.253227                   547.802014              1.990768\n",
       "min       0.000000                     0.000000              0.000000\n",
       "25%       0.000000                    12.000000              0.000000\n",
       "50%       3.000000                   248.000000              2.000000\n",
       "75%       5.000000                   936.000000              3.000000\n",
       "90%       7.000000                  1379.800000              5.000000\n",
       "95%      10.000000                  1562.000000              6.000000\n",
       "99%      17.000000                  1839.680000              9.000000\n",
       "100%     17.000000                  2272.000000              9.000000\n",
       "max      17.000000                  2272.000000              9.000000"
      ]
     },
     "execution_count": 278,
     "metadata": {},
     "output_type": "execute_result"
    }
   ],
   "source": [
    "df2[['TotalVisits','Total Time Spent on Website','Page Views Per Visit']].describe(percentiles=[.25, .5, .75, .90, .95, .99,1])"
   ]
  },
  {
   "cell_type": "markdown",
   "metadata": {},
   "source": [
    "# Data Preparation"
   ]
  },
  {
   "cell_type": "markdown",
   "metadata": {},
   "source": [
    "## Dummy Variables"
   ]
  },
  {
   "cell_type": "code",
   "execution_count": 279,
   "metadata": {},
   "outputs": [],
   "source": [
    "categorical=df2[['Lead Origin','Lead Source','Last Activity','X Education Forums','Newspaper','I agree to pay the amount through cheque','A free copy of Mastering The Interview','Last Notable Activity']]\n",
    "\n",
    "k=pd.get_dummies(categorical,prefix=['Lead Origin','Lead Source','Last Activity','X Education Forums','Newspaper','I agree to pay the amount through cheque','A free copy of Mastering The Interview','Last Notable Activity'],drop_first=True)"
   ]
  },
  {
   "cell_type": "code",
   "execution_count": 280,
   "metadata": {},
   "outputs": [
    {
     "data": {
      "text/plain": [
       "Index(['Lead Origin_Landing Page Submission', 'Lead Origin_others',\n",
       "       'Lead Source_Google', 'Lead Source_Olark Chat',\n",
       "       'Lead Source_Organic Search', 'Lead Source_Reference',\n",
       "       'Lead Source_others', 'Last Activity_Olark Chat Conversation',\n",
       "       'Last Activity_Page Visited on Website', 'Last Activity_SMS Sent',\n",
       "       'Last Activity_others', 'X Education Forums_Yes', 'Newspaper_Yes',\n",
       "       'A free copy of Mastering The Interview_Yes',\n",
       "       'Last Notable Activity_Modified', 'Last Notable Activity_SMS Sent',\n",
       "       'Last Notable Activity_others'],\n",
       "      dtype='object')"
      ]
     },
     "execution_count": 280,
     "metadata": {},
     "output_type": "execute_result"
    }
   ],
   "source": [
    "k.columns"
   ]
  },
  {
   "cell_type": "code",
   "execution_count": 281,
   "metadata": {},
   "outputs": [
    {
     "data": {
      "text/plain": [
       "(9233, 30)"
      ]
     },
     "execution_count": 281,
     "metadata": {},
     "output_type": "execute_result"
    }
   ],
   "source": [
    "df2=pd.concat([df2,k],axis=1)\n",
    "df2.shape"
   ]
  },
  {
   "cell_type": "code",
   "execution_count": 282,
   "metadata": {},
   "outputs": [
    {
     "data": {
      "text/plain": [
       "(9233, 22)"
      ]
     },
     "execution_count": 282,
     "metadata": {},
     "output_type": "execute_result"
    }
   ],
   "source": [
    "df2.drop(['Lead Origin','Lead Source','Last Activity',\n",
    "       'X Education Forums', 'Newspaper',\n",
    "       'I agree to pay the amount through cheque',\n",
    "       'A free copy of Mastering The Interview', 'Last Notable Activity'],axis=1,inplace=True)\n",
    "df2.shape"
   ]
  },
  {
   "cell_type": "code",
   "execution_count": 283,
   "metadata": {},
   "outputs": [
    {
     "data": {
      "text/plain": [
       "Index(['Lead Number', 'Converted', 'TotalVisits',\n",
       "       'Total Time Spent on Website', 'Page Views Per Visit',\n",
       "       'Lead Origin_Landing Page Submission', 'Lead Origin_others',\n",
       "       'Lead Source_Google', 'Lead Source_Olark Chat',\n",
       "       'Lead Source_Organic Search', 'Lead Source_Reference',\n",
       "       'Lead Source_others', 'Last Activity_Olark Chat Conversation',\n",
       "       'Last Activity_Page Visited on Website', 'Last Activity_SMS Sent',\n",
       "       'Last Activity_others', 'X Education Forums_Yes', 'Newspaper_Yes',\n",
       "       'A free copy of Mastering The Interview_Yes',\n",
       "       'Last Notable Activity_Modified', 'Last Notable Activity_SMS Sent',\n",
       "       'Last Notable Activity_others'],\n",
       "      dtype='object')"
      ]
     },
     "execution_count": 283,
     "metadata": {},
     "output_type": "execute_result"
    }
   ],
   "source": [
    "df2.columns\n"
   ]
  },
  {
   "cell_type": "markdown",
   "metadata": {},
   "source": [
    "## Splitting in Train Test Data"
   ]
  },
  {
   "cell_type": "code",
   "execution_count": 284,
   "metadata": {},
   "outputs": [],
   "source": [
    "from sklearn.model_selection import train_test_split\n",
    "#df3_train, df3_test = train_test_split(df2, train_size = 0.7, test_size = 0.3, random_state = 100)"
   ]
  },
  {
   "cell_type": "code",
   "execution_count": 285,
   "metadata": {},
   "outputs": [
    {
     "data": {
      "text/html": [
       "<div>\n",
       "<style scoped>\n",
       "    .dataframe tbody tr th:only-of-type {\n",
       "        vertical-align: middle;\n",
       "    }\n",
       "\n",
       "    .dataframe tbody tr th {\n",
       "        vertical-align: top;\n",
       "    }\n",
       "\n",
       "    .dataframe thead th {\n",
       "        text-align: right;\n",
       "    }\n",
       "</style>\n",
       "<table border=\"1\" class=\"dataframe\">\n",
       "  <thead>\n",
       "    <tr style=\"text-align: right;\">\n",
       "      <th></th>\n",
       "      <th>Lead Number</th>\n",
       "      <th>TotalVisits</th>\n",
       "      <th>Total Time Spent on Website</th>\n",
       "      <th>Page Views Per Visit</th>\n",
       "      <th>Lead Origin_Landing Page Submission</th>\n",
       "      <th>Lead Origin_others</th>\n",
       "      <th>Lead Source_Google</th>\n",
       "      <th>Lead Source_Olark Chat</th>\n",
       "      <th>Lead Source_Organic Search</th>\n",
       "      <th>Lead Source_Reference</th>\n",
       "      <th>...</th>\n",
       "      <th>Last Activity_Olark Chat Conversation</th>\n",
       "      <th>Last Activity_Page Visited on Website</th>\n",
       "      <th>Last Activity_SMS Sent</th>\n",
       "      <th>Last Activity_others</th>\n",
       "      <th>X Education Forums_Yes</th>\n",
       "      <th>Newspaper_Yes</th>\n",
       "      <th>A free copy of Mastering The Interview_Yes</th>\n",
       "      <th>Last Notable Activity_Modified</th>\n",
       "      <th>Last Notable Activity_SMS Sent</th>\n",
       "      <th>Last Notable Activity_others</th>\n",
       "    </tr>\n",
       "  </thead>\n",
       "  <tbody>\n",
       "    <tr>\n",
       "      <th>0</th>\n",
       "      <td>660737.0</td>\n",
       "      <td>0.0</td>\n",
       "      <td>0.0</td>\n",
       "      <td>0.0</td>\n",
       "      <td>0</td>\n",
       "      <td>0</td>\n",
       "      <td>0</td>\n",
       "      <td>1</td>\n",
       "      <td>0</td>\n",
       "      <td>0</td>\n",
       "      <td>...</td>\n",
       "      <td>0</td>\n",
       "      <td>1</td>\n",
       "      <td>0</td>\n",
       "      <td>0</td>\n",
       "      <td>0</td>\n",
       "      <td>0</td>\n",
       "      <td>0</td>\n",
       "      <td>1</td>\n",
       "      <td>0</td>\n",
       "      <td>0</td>\n",
       "    </tr>\n",
       "    <tr>\n",
       "      <th>1</th>\n",
       "      <td>660728.0</td>\n",
       "      <td>5.0</td>\n",
       "      <td>674.0</td>\n",
       "      <td>2.5</td>\n",
       "      <td>0</td>\n",
       "      <td>0</td>\n",
       "      <td>0</td>\n",
       "      <td>0</td>\n",
       "      <td>1</td>\n",
       "      <td>0</td>\n",
       "      <td>...</td>\n",
       "      <td>0</td>\n",
       "      <td>0</td>\n",
       "      <td>0</td>\n",
       "      <td>0</td>\n",
       "      <td>0</td>\n",
       "      <td>0</td>\n",
       "      <td>0</td>\n",
       "      <td>0</td>\n",
       "      <td>0</td>\n",
       "      <td>0</td>\n",
       "    </tr>\n",
       "    <tr>\n",
       "      <th>2</th>\n",
       "      <td>660727.0</td>\n",
       "      <td>2.0</td>\n",
       "      <td>1532.0</td>\n",
       "      <td>2.0</td>\n",
       "      <td>1</td>\n",
       "      <td>0</td>\n",
       "      <td>0</td>\n",
       "      <td>0</td>\n",
       "      <td>0</td>\n",
       "      <td>0</td>\n",
       "      <td>...</td>\n",
       "      <td>0</td>\n",
       "      <td>0</td>\n",
       "      <td>0</td>\n",
       "      <td>0</td>\n",
       "      <td>0</td>\n",
       "      <td>0</td>\n",
       "      <td>1</td>\n",
       "      <td>0</td>\n",
       "      <td>0</td>\n",
       "      <td>0</td>\n",
       "    </tr>\n",
       "    <tr>\n",
       "      <th>3</th>\n",
       "      <td>660719.0</td>\n",
       "      <td>1.0</td>\n",
       "      <td>305.0</td>\n",
       "      <td>1.0</td>\n",
       "      <td>1</td>\n",
       "      <td>0</td>\n",
       "      <td>0</td>\n",
       "      <td>0</td>\n",
       "      <td>0</td>\n",
       "      <td>0</td>\n",
       "      <td>...</td>\n",
       "      <td>0</td>\n",
       "      <td>0</td>\n",
       "      <td>0</td>\n",
       "      <td>1</td>\n",
       "      <td>0</td>\n",
       "      <td>0</td>\n",
       "      <td>0</td>\n",
       "      <td>1</td>\n",
       "      <td>0</td>\n",
       "      <td>0</td>\n",
       "    </tr>\n",
       "    <tr>\n",
       "      <th>4</th>\n",
       "      <td>660681.0</td>\n",
       "      <td>2.0</td>\n",
       "      <td>1428.0</td>\n",
       "      <td>1.0</td>\n",
       "      <td>1</td>\n",
       "      <td>0</td>\n",
       "      <td>1</td>\n",
       "      <td>0</td>\n",
       "      <td>0</td>\n",
       "      <td>0</td>\n",
       "      <td>...</td>\n",
       "      <td>0</td>\n",
       "      <td>0</td>\n",
       "      <td>0</td>\n",
       "      <td>1</td>\n",
       "      <td>0</td>\n",
       "      <td>0</td>\n",
       "      <td>0</td>\n",
       "      <td>1</td>\n",
       "      <td>0</td>\n",
       "      <td>0</td>\n",
       "    </tr>\n",
       "  </tbody>\n",
       "</table>\n",
       "<p>5 rows × 21 columns</p>\n",
       "</div>"
      ],
      "text/plain": [
       "   Lead Number  TotalVisits  Total Time Spent on Website  \\\n",
       "0     660737.0          0.0                          0.0   \n",
       "1     660728.0          5.0                        674.0   \n",
       "2     660727.0          2.0                       1532.0   \n",
       "3     660719.0          1.0                        305.0   \n",
       "4     660681.0          2.0                       1428.0   \n",
       "\n",
       "   Page Views Per Visit  Lead Origin_Landing Page Submission  \\\n",
       "0                   0.0                                    0   \n",
       "1                   2.5                                    0   \n",
       "2                   2.0                                    1   \n",
       "3                   1.0                                    1   \n",
       "4                   1.0                                    1   \n",
       "\n",
       "   Lead Origin_others  Lead Source_Google  Lead Source_Olark Chat  \\\n",
       "0                   0                   0                       1   \n",
       "1                   0                   0                       0   \n",
       "2                   0                   0                       0   \n",
       "3                   0                   0                       0   \n",
       "4                   0                   1                       0   \n",
       "\n",
       "   Lead Source_Organic Search  Lead Source_Reference  ...  \\\n",
       "0                           0                      0  ...   \n",
       "1                           1                      0  ...   \n",
       "2                           0                      0  ...   \n",
       "3                           0                      0  ...   \n",
       "4                           0                      0  ...   \n",
       "\n",
       "   Last Activity_Olark Chat Conversation  \\\n",
       "0                                      0   \n",
       "1                                      0   \n",
       "2                                      0   \n",
       "3                                      0   \n",
       "4                                      0   \n",
       "\n",
       "   Last Activity_Page Visited on Website  Last Activity_SMS Sent  \\\n",
       "0                                      1                       0   \n",
       "1                                      0                       0   \n",
       "2                                      0                       0   \n",
       "3                                      0                       0   \n",
       "4                                      0                       0   \n",
       "\n",
       "   Last Activity_others  X Education Forums_Yes  Newspaper_Yes  \\\n",
       "0                     0                       0              0   \n",
       "1                     0                       0              0   \n",
       "2                     0                       0              0   \n",
       "3                     1                       0              0   \n",
       "4                     1                       0              0   \n",
       "\n",
       "   A free copy of Mastering The Interview_Yes  Last Notable Activity_Modified  \\\n",
       "0                                           0                               1   \n",
       "1                                           0                               0   \n",
       "2                                           1                               0   \n",
       "3                                           0                               1   \n",
       "4                                           0                               1   \n",
       "\n",
       "   Last Notable Activity_SMS Sent  Last Notable Activity_others  \n",
       "0                               0                             0  \n",
       "1                               0                             0  \n",
       "2                               0                             0  \n",
       "3                               0                             0  \n",
       "4                               0                             0  \n",
       "\n",
       "[5 rows x 21 columns]"
      ]
     },
     "execution_count": 285,
     "metadata": {},
     "output_type": "execute_result"
    }
   ],
   "source": [
    "#putting feature to x\n",
    "\n",
    "X=df2.drop(['Converted'],axis=1)\n",
    "X.head()"
   ]
  },
  {
   "cell_type": "code",
   "execution_count": 286,
   "metadata": {},
   "outputs": [
    {
     "data": {
      "text/plain": [
       "0    0.0\n",
       "1    0.0\n",
       "2    1.0\n",
       "3    0.0\n",
       "4    1.0\n",
       "Name: Converted, dtype: float64"
      ]
     },
     "execution_count": 286,
     "metadata": {},
     "output_type": "execute_result"
    }
   ],
   "source": [
    "## putting y feature\n",
    "\n",
    "y=df2['Converted']\n",
    "y.head()"
   ]
  },
  {
   "cell_type": "code",
   "execution_count": 287,
   "metadata": {},
   "outputs": [],
   "source": [
    "X_train, X_test, y_train, y_test=train_test_split(X,y,train_size=0.7,test_size=0.3,random_state=100)"
   ]
  },
  {
   "cell_type": "code",
   "execution_count": 288,
   "metadata": {},
   "outputs": [
    {
     "data": {
      "text/plain": [
       "Index(['Lead Number', 'TotalVisits', 'Total Time Spent on Website',\n",
       "       'Page Views Per Visit', 'Lead Origin_Landing Page Submission',\n",
       "       'Lead Origin_others', 'Lead Source_Google', 'Lead Source_Olark Chat',\n",
       "       'Lead Source_Organic Search', 'Lead Source_Reference',\n",
       "       'Lead Source_others', 'Last Activity_Olark Chat Conversation',\n",
       "       'Last Activity_Page Visited on Website', 'Last Activity_SMS Sent',\n",
       "       'Last Activity_others', 'X Education Forums_Yes', 'Newspaper_Yes',\n",
       "       'A free copy of Mastering The Interview_Yes',\n",
       "       'Last Notable Activity_Modified', 'Last Notable Activity_SMS Sent',\n",
       "       'Last Notable Activity_others'],\n",
       "      dtype='object')"
      ]
     },
     "execution_count": 288,
     "metadata": {},
     "output_type": "execute_result"
    }
   ],
   "source": [
    "\n",
    "X_train.columns"
   ]
  },
  {
   "cell_type": "code",
   "execution_count": 289,
   "metadata": {},
   "outputs": [],
   "source": [
    "## Lead number is kept so that after canculating final scores data can be kept \n",
    "\n",
    "train_leadnumber=X_train['Lead Number']\n",
    "test_leadnumber=X_test['Lead Number']\n",
    "X_train.drop('Lead Number',axis=1,inplace=True)\n",
    "X_test.drop('Lead Number',axis=1,inplace=True)"
   ]
  },
  {
   "cell_type": "markdown",
   "metadata": {},
   "source": [
    "## Rescaling"
   ]
  },
  {
   "cell_type": "code",
   "execution_count": 290,
   "metadata": {},
   "outputs": [],
   "source": [
    "from sklearn.preprocessing import StandardScaler\n"
   ]
  },
  {
   "cell_type": "code",
   "execution_count": 291,
   "metadata": {},
   "outputs": [
    {
     "data": {
      "text/html": [
       "<div>\n",
       "<style scoped>\n",
       "    .dataframe tbody tr th:only-of-type {\n",
       "        vertical-align: middle;\n",
       "    }\n",
       "\n",
       "    .dataframe tbody tr th {\n",
       "        vertical-align: top;\n",
       "    }\n",
       "\n",
       "    .dataframe thead th {\n",
       "        text-align: right;\n",
       "    }\n",
       "</style>\n",
       "<table border=\"1\" class=\"dataframe\">\n",
       "  <thead>\n",
       "    <tr style=\"text-align: right;\">\n",
       "      <th></th>\n",
       "      <th>TotalVisits</th>\n",
       "      <th>Total Time Spent on Website</th>\n",
       "      <th>Page Views Per Visit</th>\n",
       "      <th>Lead Origin_Landing Page Submission</th>\n",
       "      <th>Lead Origin_others</th>\n",
       "      <th>Lead Source_Google</th>\n",
       "      <th>Lead Source_Olark Chat</th>\n",
       "      <th>Lead Source_Organic Search</th>\n",
       "      <th>Lead Source_Reference</th>\n",
       "      <th>Lead Source_others</th>\n",
       "      <th>Last Activity_Olark Chat Conversation</th>\n",
       "      <th>Last Activity_Page Visited on Website</th>\n",
       "      <th>Last Activity_SMS Sent</th>\n",
       "      <th>Last Activity_others</th>\n",
       "      <th>X Education Forums_Yes</th>\n",
       "      <th>Newspaper_Yes</th>\n",
       "      <th>A free copy of Mastering The Interview_Yes</th>\n",
       "      <th>Last Notable Activity_Modified</th>\n",
       "      <th>Last Notable Activity_SMS Sent</th>\n",
       "      <th>Last Notable Activity_others</th>\n",
       "    </tr>\n",
       "  </thead>\n",
       "  <tbody>\n",
       "    <tr>\n",
       "      <th>1033</th>\n",
       "      <td>0.521921</td>\n",
       "      <td>-0.024521</td>\n",
       "      <td>1.342683</td>\n",
       "      <td>0</td>\n",
       "      <td>0</td>\n",
       "      <td>1</td>\n",
       "      <td>0</td>\n",
       "      <td>0</td>\n",
       "      <td>0</td>\n",
       "      <td>0</td>\n",
       "      <td>0</td>\n",
       "      <td>0</td>\n",
       "      <td>0</td>\n",
       "      <td>0</td>\n",
       "      <td>0</td>\n",
       "      <td>0</td>\n",
       "      <td>0</td>\n",
       "      <td>0</td>\n",
       "      <td>0</td>\n",
       "      <td>0</td>\n",
       "    </tr>\n",
       "    <tr>\n",
       "      <th>6534</th>\n",
       "      <td>1.136176</td>\n",
       "      <td>-0.336269</td>\n",
       "      <td>-0.280799</td>\n",
       "      <td>1</td>\n",
       "      <td>0</td>\n",
       "      <td>1</td>\n",
       "      <td>0</td>\n",
       "      <td>0</td>\n",
       "      <td>0</td>\n",
       "      <td>0</td>\n",
       "      <td>0</td>\n",
       "      <td>0</td>\n",
       "      <td>1</td>\n",
       "      <td>0</td>\n",
       "      <td>0</td>\n",
       "      <td>0</td>\n",
       "      <td>0</td>\n",
       "      <td>0</td>\n",
       "      <td>1</td>\n",
       "      <td>0</td>\n",
       "    </tr>\n",
       "    <tr>\n",
       "      <th>6237</th>\n",
       "      <td>-1.013715</td>\n",
       "      <td>-0.886411</td>\n",
       "      <td>-1.154981</td>\n",
       "      <td>0</td>\n",
       "      <td>0</td>\n",
       "      <td>0</td>\n",
       "      <td>1</td>\n",
       "      <td>0</td>\n",
       "      <td>0</td>\n",
       "      <td>0</td>\n",
       "      <td>1</td>\n",
       "      <td>0</td>\n",
       "      <td>0</td>\n",
       "      <td>0</td>\n",
       "      <td>0</td>\n",
       "      <td>0</td>\n",
       "      <td>0</td>\n",
       "      <td>1</td>\n",
       "      <td>0</td>\n",
       "      <td>0</td>\n",
       "    </tr>\n",
       "    <tr>\n",
       "      <th>3190</th>\n",
       "      <td>0.214794</td>\n",
       "      <td>2.047683</td>\n",
       "      <td>0.843150</td>\n",
       "      <td>0</td>\n",
       "      <td>0</td>\n",
       "      <td>0</td>\n",
       "      <td>0</td>\n",
       "      <td>1</td>\n",
       "      <td>0</td>\n",
       "      <td>0</td>\n",
       "      <td>0</td>\n",
       "      <td>0</td>\n",
       "      <td>1</td>\n",
       "      <td>0</td>\n",
       "      <td>0</td>\n",
       "      <td>0</td>\n",
       "      <td>0</td>\n",
       "      <td>0</td>\n",
       "      <td>1</td>\n",
       "      <td>0</td>\n",
       "    </tr>\n",
       "    <tr>\n",
       "      <th>712</th>\n",
       "      <td>-0.706587</td>\n",
       "      <td>-0.609506</td>\n",
       "      <td>-0.655448</td>\n",
       "      <td>0</td>\n",
       "      <td>0</td>\n",
       "      <td>1</td>\n",
       "      <td>0</td>\n",
       "      <td>0</td>\n",
       "      <td>0</td>\n",
       "      <td>0</td>\n",
       "      <td>0</td>\n",
       "      <td>0</td>\n",
       "      <td>0</td>\n",
       "      <td>1</td>\n",
       "      <td>0</td>\n",
       "      <td>0</td>\n",
       "      <td>0</td>\n",
       "      <td>1</td>\n",
       "      <td>0</td>\n",
       "      <td>0</td>\n",
       "    </tr>\n",
       "  </tbody>\n",
       "</table>\n",
       "</div>"
      ],
      "text/plain": [
       "      TotalVisits  Total Time Spent on Website  Page Views Per Visit  \\\n",
       "1033     0.521921                    -0.024521              1.342683   \n",
       "6534     1.136176                    -0.336269             -0.280799   \n",
       "6237    -1.013715                    -0.886411             -1.154981   \n",
       "3190     0.214794                     2.047683              0.843150   \n",
       "712     -0.706587                    -0.609506             -0.655448   \n",
       "\n",
       "      Lead Origin_Landing Page Submission  Lead Origin_others  \\\n",
       "1033                                    0                   0   \n",
       "6534                                    1                   0   \n",
       "6237                                    0                   0   \n",
       "3190                                    0                   0   \n",
       "712                                     0                   0   \n",
       "\n",
       "      Lead Source_Google  Lead Source_Olark Chat  Lead Source_Organic Search  \\\n",
       "1033                   1                       0                           0   \n",
       "6534                   1                       0                           0   \n",
       "6237                   0                       1                           0   \n",
       "3190                   0                       0                           1   \n",
       "712                    1                       0                           0   \n",
       "\n",
       "      Lead Source_Reference  Lead Source_others  \\\n",
       "1033                      0                   0   \n",
       "6534                      0                   0   \n",
       "6237                      0                   0   \n",
       "3190                      0                   0   \n",
       "712                       0                   0   \n",
       "\n",
       "      Last Activity_Olark Chat Conversation  \\\n",
       "1033                                      0   \n",
       "6534                                      0   \n",
       "6237                                      1   \n",
       "3190                                      0   \n",
       "712                                       0   \n",
       "\n",
       "      Last Activity_Page Visited on Website  Last Activity_SMS Sent  \\\n",
       "1033                                      0                       0   \n",
       "6534                                      0                       1   \n",
       "6237                                      0                       0   \n",
       "3190                                      0                       1   \n",
       "712                                       0                       0   \n",
       "\n",
       "      Last Activity_others  X Education Forums_Yes  Newspaper_Yes  \\\n",
       "1033                     0                       0              0   \n",
       "6534                     0                       0              0   \n",
       "6237                     0                       0              0   \n",
       "3190                     0                       0              0   \n",
       "712                      1                       0              0   \n",
       "\n",
       "      A free copy of Mastering The Interview_Yes  \\\n",
       "1033                                           0   \n",
       "6534                                           0   \n",
       "6237                                           0   \n",
       "3190                                           0   \n",
       "712                                            0   \n",
       "\n",
       "      Last Notable Activity_Modified  Last Notable Activity_SMS Sent  \\\n",
       "1033                               0                               0   \n",
       "6534                               0                               1   \n",
       "6237                               1                               0   \n",
       "3190                               0                               1   \n",
       "712                                1                               0   \n",
       "\n",
       "      Last Notable Activity_others  \n",
       "1033                             0  \n",
       "6534                             0  \n",
       "6237                             0  \n",
       "3190                             0  \n",
       "712                              0  "
      ]
     },
     "execution_count": 291,
     "metadata": {},
     "output_type": "execute_result"
    }
   ],
   "source": [
    "scaler=StandardScaler()\n",
    "\n",
    "X_train[['TotalVisits','Total Time Spent on Website','Page Views Per Visit']]=scaler.fit_transform(X_train[['TotalVisits','Total Time Spent on Website','Page Views Per Visit']])\n",
    "\n",
    "X_train.head()"
   ]
  },
  {
   "cell_type": "code",
   "execution_count": 292,
   "metadata": {},
   "outputs": [
    {
     "data": {
      "text/plain": [
       "38.53568720892451"
      ]
     },
     "execution_count": 292,
     "metadata": {},
     "output_type": "execute_result"
    }
   ],
   "source": [
    "## checking conversion rate\n",
    "100*df2['Converted'].sum()/len(df2['Converted'].index)"
   ]
  },
  {
   "cell_type": "markdown",
   "metadata": {},
   "source": [
    "## Checking Correlation Matrix"
   ]
  },
  {
   "cell_type": "code",
   "execution_count": 293,
   "metadata": {},
   "outputs": [
    {
     "data": {
      "image/png": "[encoded data removed]",
      "text/plain": [
       "<Figure size 1440x720 with 2 Axes>"
      ]
     },
     "metadata": {
      "needs_background": "light"
     },
     "output_type": "display_data"
    }
   ],
   "source": [
    "plt.figure(figsize = (20,10))\n",
    "sns.heatmap(X_train.corr(),annot=True)\n",
    "plt.show()"
   ]
  },
  {
   "cell_type": "code",
   "execution_count": 294,
   "metadata": {},
   "outputs": [
    {
     "data": {
      "text/plain": [
       "Index(['TotalVisits', 'Total Time Spent on Website', 'Page Views Per Visit',\n",
       "       'Lead Origin_Landing Page Submission', 'Lead Origin_others',\n",
       "       'Lead Source_Google', 'Lead Source_Olark Chat',\n",
       "       'Lead Source_Organic Search', 'Lead Source_Reference',\n",
       "       'Lead Source_others', 'Last Activity_Olark Chat Conversation',\n",
       "       'Last Activity_Page Visited on Website', 'Last Activity_SMS Sent',\n",
       "       'Last Activity_others', 'X Education Forums_Yes', 'Newspaper_Yes',\n",
       "       'A free copy of Mastering The Interview_Yes',\n",
       "       'Last Notable Activity_Modified', 'Last Notable Activity_SMS Sent',\n",
       "       'Last Notable Activity_others'],\n",
       "      dtype='object')"
      ]
     },
     "execution_count": 294,
     "metadata": {},
     "output_type": "execute_result"
    }
   ],
   "source": [
    "X_train.columns"
   ]
  },
  {
   "cell_type": "code",
   "execution_count": 295,
   "metadata": {},
   "outputs": [],
   "source": [
    "## dropping highly corerelated columns\n",
    "\n",
    "X_train.drop(['Lead Origin_others','Last Activity_SMS Sent'],axis=1,inplace=True)\n",
    "X_test.drop(['Lead Origin_others','Last Activity_SMS Sent'],axis=1,inplace=True)"
   ]
  },
  {
   "cell_type": "markdown",
   "metadata": {},
   "source": [
    "### Checking Correlation Matrix"
   ]
  },
  {
   "cell_type": "code",
   "execution_count": 296,
   "metadata": {},
   "outputs": [
    {
     "data": {
      "image/png": "[encoded data removed]",
      "text/plain": [
       "<Figure size 1440x720 with 2 Axes>"
      ]
     },
     "metadata": {
      "needs_background": "light"
     },
     "output_type": "display_data"
    }
   ],
   "source": [
    "plt.figure(figsize = (20,10))\n",
    "sns.heatmap(X_train.corr(),annot=True)\n",
    "plt.show()"
   ]
  },
  {
   "cell_type": "markdown",
   "metadata": {},
   "source": [
    "# Model Building"
   ]
  },
  {
   "cell_type": "code",
   "execution_count": 297,
   "metadata": {},
   "outputs": [],
   "source": [
    "import statsmodels.api as sm "
   ]
  },
  {
   "cell_type": "code",
   "execution_count": 298,
   "metadata": {},
   "outputs": [
    {
     "data": {
      "text/html": [
       "<table class=\"simpletable\">\n",
       "<caption>Generalized Linear Model Regression Results</caption>\n",
       "<tr>\n",
       "  <th>Dep. Variable:</th>       <td>Converted</td>    <th>  No. Observations:  </th>  <td>  6463</td> \n",
       "</tr>\n",
       "<tr>\n",
       "  <th>Model:</th>                  <td>GLM</td>       <th>  Df Residuals:      </th>  <td>  6444</td> \n",
       "</tr>\n",
       "<tr>\n",
       "  <th>Model Family:</th>        <td>Binomial</td>     <th>  Df Model:          </th>  <td>    18</td> \n",
       "</tr>\n",
       "<tr>\n",
       "  <th>Link Function:</th>         <td>logit</td>      <th>  Scale:             </th> <td>  1.0000</td>\n",
       "</tr>\n",
       "<tr>\n",
       "  <th>Method:</th>                <td>IRLS</td>       <th>  Log-Likelihood:    </th> <td> -2938.9</td>\n",
       "</tr>\n",
       "<tr>\n",
       "  <th>Date:</th>            <td>Mon, 07 Sep 2020</td> <th>  Deviance:          </th> <td>  5877.7</td>\n",
       "</tr>\n",
       "<tr>\n",
       "  <th>Time:</th>                <td>19:57:19</td>     <th>  Pearson chi2:      </th> <td>6.91e+03</td>\n",
       "</tr>\n",
       "<tr>\n",
       "  <th>No. Iterations:</th>         <td>19</td>        <th>                     </th>     <td> </td>   \n",
       "</tr>\n",
       "<tr>\n",
       "  <th>Covariance Type:</th>     <td>nonrobust</td>    <th>                     </th>     <td> </td>   \n",
       "</tr>\n",
       "</table>\n",
       "<table class=\"simpletable\">\n",
       "<tr>\n",
       "                       <td></td>                         <th>coef</th>     <th>std err</th>      <th>z</th>      <th>P>|z|</th>  <th>[0.025</th>    <th>0.975]</th>  \n",
       "</tr>\n",
       "<tr>\n",
       "  <th>const</th>                                      <td>   -1.0868</td> <td>    0.128</td> <td>   -8.510</td> <td> 0.000</td> <td>   -1.337</td> <td>   -0.837</td>\n",
       "</tr>\n",
       "<tr>\n",
       "  <th>TotalVisits</th>                                <td>    0.2319</td> <td>    0.047</td> <td>    4.900</td> <td> 0.000</td> <td>    0.139</td> <td>    0.325</td>\n",
       "</tr>\n",
       "<tr>\n",
       "  <th>Total Time Spent on Website</th>                <td>    1.1092</td> <td>    0.038</td> <td>   28.927</td> <td> 0.000</td> <td>    1.034</td> <td>    1.184</td>\n",
       "</tr>\n",
       "<tr>\n",
       "  <th>Page Views Per Visit</th>                       <td>   -0.3119</td> <td>    0.052</td> <td>   -5.945</td> <td> 0.000</td> <td>   -0.415</td> <td>   -0.209</td>\n",
       "</tr>\n",
       "<tr>\n",
       "  <th>Lead Origin_Landing Page Submission</th>        <td>   -0.1479</td> <td>    0.101</td> <td>   -1.465</td> <td> 0.143</td> <td>   -0.346</td> <td>    0.050</td>\n",
       "</tr>\n",
       "<tr>\n",
       "  <th>Lead Source_Google</th>                         <td>    0.4208</td> <td>    0.107</td> <td>    3.925</td> <td> 0.000</td> <td>    0.211</td> <td>    0.631</td>\n",
       "</tr>\n",
       "<tr>\n",
       "  <th>Lead Source_Olark Chat</th>                     <td>    1.0058</td> <td>    0.149</td> <td>    6.770</td> <td> 0.000</td> <td>    0.715</td> <td>    1.297</td>\n",
       "</tr>\n",
       "<tr>\n",
       "  <th>Lead Source_Organic Search</th>                 <td>    0.2604</td> <td>    0.121</td> <td>    2.145</td> <td> 0.032</td> <td>    0.022</td> <td>    0.498</td>\n",
       "</tr>\n",
       "<tr>\n",
       "  <th>Lead Source_Reference</th>                      <td>    3.9522</td> <td>    0.233</td> <td>   16.997</td> <td> 0.000</td> <td>    3.496</td> <td>    4.408</td>\n",
       "</tr>\n",
       "<tr>\n",
       "  <th>Lead Source_others</th>                         <td>    1.8511</td> <td>    0.186</td> <td>    9.933</td> <td> 0.000</td> <td>    1.486</td> <td>    2.216</td>\n",
       "</tr>\n",
       "<tr>\n",
       "  <th>Last Activity_Olark Chat Conversation</th>      <td>   -1.7461</td> <td>    0.181</td> <td>   -9.651</td> <td> 0.000</td> <td>   -2.101</td> <td>   -1.392</td>\n",
       "</tr>\n",
       "<tr>\n",
       "  <th>Last Activity_Page Visited on Website</th>      <td>   -0.8962</td> <td>    0.181</td> <td>   -4.940</td> <td> 0.000</td> <td>   -1.252</td> <td>   -0.541</td>\n",
       "</tr>\n",
       "<tr>\n",
       "  <th>Last Activity_others</th>                       <td>   -0.8657</td> <td>    0.138</td> <td>   -6.280</td> <td> 0.000</td> <td>   -1.136</td> <td>   -0.595</td>\n",
       "</tr>\n",
       "<tr>\n",
       "  <th>X Education Forums_Yes</th>                     <td>  -19.7634</td> <td> 1.77e+04</td> <td>   -0.001</td> <td> 0.999</td> <td>-3.48e+04</td> <td> 3.47e+04</td>\n",
       "</tr>\n",
       "<tr>\n",
       "  <th>Newspaper_Yes</th>                              <td>  -22.3524</td> <td> 1.77e+04</td> <td>   -0.001</td> <td> 0.999</td> <td>-3.48e+04</td> <td> 3.47e+04</td>\n",
       "</tr>\n",
       "<tr>\n",
       "  <th>A free copy of Mastering The Interview_Yes</th> <td>   -0.0346</td> <td>    0.100</td> <td>   -0.346</td> <td> 0.729</td> <td>   -0.231</td> <td>    0.162</td>\n",
       "</tr>\n",
       "<tr>\n",
       "  <th>Last Notable Activity_Modified</th>             <td>   -0.2561</td> <td>    0.102</td> <td>   -2.518</td> <td> 0.012</td> <td>   -0.455</td> <td>   -0.057</td>\n",
       "</tr>\n",
       "<tr>\n",
       "  <th>Last Notable Activity_SMS Sent</th>             <td>    1.3710</td> <td>    0.084</td> <td>   16.404</td> <td> 0.000</td> <td>    1.207</td> <td>    1.535</td>\n",
       "</tr>\n",
       "<tr>\n",
       "  <th>Last Notable Activity_others</th>               <td>    0.4727</td> <td>    0.177</td> <td>    2.665</td> <td> 0.008</td> <td>    0.125</td> <td>    0.820</td>\n",
       "</tr>\n",
       "</table>"
      ],
      "text/plain": [
       "<class 'statsmodels.iolib.summary.Summary'>\n",
       "\"\"\"\n",
       "                 Generalized Linear Model Regression Results                  \n",
       "==============================================================================\n",
       "Dep. Variable:              Converted   No. Observations:                 6463\n",
       "Model:                            GLM   Df Residuals:                     6444\n",
       "Model Family:                Binomial   Df Model:                           18\n",
       "Link Function:                  logit   Scale:                          1.0000\n",
       "Method:                          IRLS   Log-Likelihood:                -2938.9\n",
       "Date:                Mon, 07 Sep 2020   Deviance:                       5877.7\n",
       "Time:                        19:57:19   Pearson chi2:                 6.91e+03\n",
       "No. Iterations:                    19                                         \n",
       "Covariance Type:            nonrobust                                         \n",
       "==============================================================================================================\n",
       "                                                 coef    std err          z      P>|z|      [0.025      0.975]\n",
       "--------------------------------------------------------------------------------------------------------------\n",
       "const                                         -1.0868      0.128     -8.510      0.000      -1.337      -0.837\n",
       "TotalVisits                                    0.2319      0.047      4.900      0.000       0.139       0.325\n",
       "Total Time Spent on Website                    1.1092      0.038     28.927      0.000       1.034       1.184\n",
       "Page Views Per Visit                          -0.3119      0.052     -5.945      0.000      -0.415      -0.209\n",
       "Lead Origin_Landing Page Submission           -0.1479      0.101     -1.465      0.143      -0.346       0.050\n",
       "Lead Source_Google                             0.4208      0.107      3.925      0.000       0.211       0.631\n",
       "Lead Source_Olark Chat                         1.0058      0.149      6.770      0.000       0.715       1.297\n",
       "Lead Source_Organic Search                     0.2604      0.121      2.145      0.032       0.022       0.498\n",
       "Lead Source_Reference                          3.9522      0.233     16.997      0.000       3.496       4.408\n",
       "Lead Source_others                             1.8511      0.186      9.933      0.000       1.486       2.216\n",
       "Last Activity_Olark Chat Conversation         -1.7461      0.181     -9.651      0.000      -2.101      -1.392\n",
       "Last Activity_Page Visited on Website         -0.8962      0.181     -4.940      0.000      -1.252      -0.541\n",
       "Last Activity_others                          -0.8657      0.138     -6.280      0.000      -1.136      -0.595\n",
       "X Education Forums_Yes                       -19.7634   1.77e+04     -0.001      0.999   -3.48e+04    3.47e+04\n",
       "Newspaper_Yes                                -22.3524   1.77e+04     -0.001      0.999   -3.48e+04    3.47e+04\n",
       "A free copy of Mastering The Interview_Yes    -0.0346      0.100     -0.346      0.729      -0.231       0.162\n",
       "Last Notable Activity_Modified                -0.2561      0.102     -2.518      0.012      -0.455      -0.057\n",
       "Last Notable Activity_SMS Sent                 1.3710      0.084     16.404      0.000       1.207       1.535\n",
       "Last Notable Activity_others                   0.4727      0.177      2.665      0.008       0.125       0.820\n",
       "==============================================================================================================\n",
       "\"\"\""
      ]
     },
     "execution_count": 298,
     "metadata": {},
     "output_type": "execute_result"
    }
   ],
   "source": [
    "\n",
    "logm1=sm.GLM(y_train,(sm.add_constant(X_train)), family=sm.families.Binomial())\n",
    "logm1.fit().summary()"
   ]
  },
  {
   "cell_type": "markdown",
   "metadata": {},
   "source": [
    "## Feature Selection using RFE"
   ]
  },
  {
   "cell_type": "code",
   "execution_count": 299,
   "metadata": {},
   "outputs": [],
   "source": [
    "from sklearn.linear_model import LogisticRegression\n",
    "logreg=LogisticRegression()"
   ]
  },
  {
   "cell_type": "code",
   "execution_count": 300,
   "metadata": {},
   "outputs": [],
   "source": [
    "from sklearn.feature_selection import RFE\n",
    "rfe=RFE(logreg,12)\n",
    "rfe=rfe.fit(X_train,y_train)"
   ]
  },
  {
   "cell_type": "code",
   "execution_count": 301,
   "metadata": {},
   "outputs": [
    {
     "data": {
      "text/plain": [
       "array([False,  True, False, False,  True,  True, False,  True,  True,\n",
       "        True,  True,  True, False,  True, False,  True,  True,  True])"
      ]
     },
     "execution_count": 301,
     "metadata": {},
     "output_type": "execute_result"
    }
   ],
   "source": [
    "rfe.support_"
   ]
  },
  {
   "cell_type": "code",
   "execution_count": 302,
   "metadata": {},
   "outputs": [
    {
     "data": {
      "text/plain": [
       "[('TotalVisits', False, 5),\n",
       " ('Total Time Spent on Website', True, 1),\n",
       " ('Page Views Per Visit', False, 3),\n",
       " ('Lead Origin_Landing Page Submission', False, 6),\n",
       " ('Lead Source_Google', True, 1),\n",
       " ('Lead Source_Olark Chat', True, 1),\n",
       " ('Lead Source_Organic Search', False, 2),\n",
       " ('Lead Source_Reference', True, 1),\n",
       " ('Lead Source_others', True, 1),\n",
       " ('Last Activity_Olark Chat Conversation', True, 1),\n",
       " ('Last Activity_Page Visited on Website', True, 1),\n",
       " ('Last Activity_others', True, 1),\n",
       " ('X Education Forums_Yes', False, 4),\n",
       " ('Newspaper_Yes', True, 1),\n",
       " ('A free copy of Mastering The Interview_Yes', False, 7),\n",
       " ('Last Notable Activity_Modified', True, 1),\n",
       " ('Last Notable Activity_SMS Sent', True, 1),\n",
       " ('Last Notable Activity_others', True, 1)]"
      ]
     },
     "execution_count": 302,
     "metadata": {},
     "output_type": "execute_result"
    }
   ],
   "source": [
    "list(zip(X_train.columns, rfe.support_, rfe.ranking_))"
   ]
  },
  {
   "cell_type": "code",
   "execution_count": 303,
   "metadata": {},
   "outputs": [
    {
     "data": {
      "text/plain": [
       "Index(['Total Time Spent on Website', 'Lead Source_Google',\n",
       "       'Lead Source_Olark Chat', 'Lead Source_Reference', 'Lead Source_others',\n",
       "       'Last Activity_Olark Chat Conversation',\n",
       "       'Last Activity_Page Visited on Website', 'Last Activity_others',\n",
       "       'Newspaper_Yes', 'Last Notable Activity_Modified',\n",
       "       'Last Notable Activity_SMS Sent', 'Last Notable Activity_others'],\n",
       "      dtype='object')"
      ]
     },
     "execution_count": 303,
     "metadata": {},
     "output_type": "execute_result"
    }
   ],
   "source": [
    "col=X_train.columns[rfe.support_]\n",
    "col"
   ]
  },
  {
   "cell_type": "code",
   "execution_count": 304,
   "metadata": {},
   "outputs": [
    {
     "data": {
      "text/plain": [
       "Index(['TotalVisits', 'Page Views Per Visit',\n",
       "       'Lead Origin_Landing Page Submission', 'Lead Source_Organic Search',\n",
       "       'X Education Forums_Yes', 'A free copy of Mastering The Interview_Yes'],\n",
       "      dtype='object')"
      ]
     },
     "execution_count": 304,
     "metadata": {},
     "output_type": "execute_result"
    }
   ],
   "source": [
    "X_train.columns[~rfe.support_]\n"
   ]
  },
  {
   "cell_type": "markdown",
   "metadata": {},
   "source": [
    "### Assessing the model with Stats Models"
   ]
  },
  {
   "cell_type": "code",
   "execution_count": 305,
   "metadata": {},
   "outputs": [
    {
     "data": {
      "text/html": [
       "<table class=\"simpletable\">\n",
       "<caption>Generalized Linear Model Regression Results</caption>\n",
       "<tr>\n",
       "  <th>Dep. Variable:</th>       <td>Converted</td>    <th>  No. Observations:  </th>  <td>  6463</td> \n",
       "</tr>\n",
       "<tr>\n",
       "  <th>Model:</th>                  <td>GLM</td>       <th>  Df Residuals:      </th>  <td>  6450</td> \n",
       "</tr>\n",
       "<tr>\n",
       "  <th>Model Family:</th>        <td>Binomial</td>     <th>  Df Model:          </th>  <td>    12</td> \n",
       "</tr>\n",
       "<tr>\n",
       "  <th>Link Function:</th>         <td>logit</td>      <th>  Scale:             </th> <td>  1.0000</td>\n",
       "</tr>\n",
       "<tr>\n",
       "  <th>Method:</th>                <td>IRLS</td>       <th>  Log-Likelihood:    </th> <td> -2965.9</td>\n",
       "</tr>\n",
       "<tr>\n",
       "  <th>Date:</th>            <td>Mon, 07 Sep 2020</td> <th>  Deviance:          </th> <td>  5931.9</td>\n",
       "</tr>\n",
       "<tr>\n",
       "  <th>Time:</th>                <td>19:57:20</td>     <th>  Pearson chi2:      </th> <td>6.82e+03</td>\n",
       "</tr>\n",
       "<tr>\n",
       "  <th>No. Iterations:</th>         <td>19</td>        <th>                     </th>     <td> </td>   \n",
       "</tr>\n",
       "<tr>\n",
       "  <th>Covariance Type:</th>     <td>nonrobust</td>    <th>                     </th>     <td> </td>   \n",
       "</tr>\n",
       "</table>\n",
       "<table class=\"simpletable\">\n",
       "<tr>\n",
       "                    <td></td>                       <th>coef</th>     <th>std err</th>      <th>z</th>      <th>P>|z|</th>  <th>[0.025</th>    <th>0.975]</th>  \n",
       "</tr>\n",
       "<tr>\n",
       "  <th>const</th>                                 <td>   -1.1995</td> <td>    0.069</td> <td>  -17.329</td> <td> 0.000</td> <td>   -1.335</td> <td>   -1.064</td>\n",
       "</tr>\n",
       "<tr>\n",
       "  <th>Total Time Spent on Website</th>           <td>    1.1056</td> <td>    0.038</td> <td>   29.143</td> <td> 0.000</td> <td>    1.031</td> <td>    1.180</td>\n",
       "</tr>\n",
       "<tr>\n",
       "  <th>Lead Source_Google</th>                    <td>    0.3884</td> <td>    0.076</td> <td>    5.132</td> <td> 0.000</td> <td>    0.240</td> <td>    0.537</td>\n",
       "</tr>\n",
       "<tr>\n",
       "  <th>Lead Source_Olark Chat</th>                <td>    1.2366</td> <td>    0.104</td> <td>   11.877</td> <td> 0.000</td> <td>    1.033</td> <td>    1.441</td>\n",
       "</tr>\n",
       "<tr>\n",
       "  <th>Lead Source_Reference</th>                 <td>    4.1869</td> <td>    0.206</td> <td>   20.305</td> <td> 0.000</td> <td>    3.783</td> <td>    4.591</td>\n",
       "</tr>\n",
       "<tr>\n",
       "  <th>Lead Source_others</th>                    <td>    2.0061</td> <td>    0.159</td> <td>   12.585</td> <td> 0.000</td> <td>    1.694</td> <td>    2.319</td>\n",
       "</tr>\n",
       "<tr>\n",
       "  <th>Last Activity_Olark Chat Conversation</th> <td>   -1.7000</td> <td>    0.180</td> <td>   -9.437</td> <td> 0.000</td> <td>   -2.053</td> <td>   -1.347</td>\n",
       "</tr>\n",
       "<tr>\n",
       "  <th>Last Activity_Page Visited on Website</th> <td>   -0.7680</td> <td>    0.176</td> <td>   -4.356</td> <td> 0.000</td> <td>   -1.113</td> <td>   -0.422</td>\n",
       "</tr>\n",
       "<tr>\n",
       "  <th>Last Activity_others</th>                  <td>   -0.8683</td> <td>    0.137</td> <td>   -6.336</td> <td> 0.000</td> <td>   -1.137</td> <td>   -0.600</td>\n",
       "</tr>\n",
       "<tr>\n",
       "  <th>Newspaper_Yes</th>                         <td>  -22.0604</td> <td> 1.77e+04</td> <td>   -0.001</td> <td> 0.999</td> <td>-3.48e+04</td> <td> 3.47e+04</td>\n",
       "</tr>\n",
       "<tr>\n",
       "  <th>Last Notable Activity_Modified</th>        <td>   -0.2634</td> <td>    0.101</td> <td>   -2.608</td> <td> 0.009</td> <td>   -0.461</td> <td>   -0.065</td>\n",
       "</tr>\n",
       "<tr>\n",
       "  <th>Last Notable Activity_SMS Sent</th>        <td>    1.3335</td> <td>    0.083</td> <td>   16.134</td> <td> 0.000</td> <td>    1.171</td> <td>    1.495</td>\n",
       "</tr>\n",
       "<tr>\n",
       "  <th>Last Notable Activity_others</th>          <td>    0.5441</td> <td>    0.175</td> <td>    3.106</td> <td> 0.002</td> <td>    0.201</td> <td>    0.887</td>\n",
       "</tr>\n",
       "</table>"
      ],
      "text/plain": [
       "<class 'statsmodels.iolib.summary.Summary'>\n",
       "\"\"\"\n",
       "                 Generalized Linear Model Regression Results                  \n",
       "==============================================================================\n",
       "Dep. Variable:              Converted   No. Observations:                 6463\n",
       "Model:                            GLM   Df Residuals:                     6450\n",
       "Model Family:                Binomial   Df Model:                           12\n",
       "Link Function:                  logit   Scale:                          1.0000\n",
       "Method:                          IRLS   Log-Likelihood:                -2965.9\n",
       "Date:                Mon, 07 Sep 2020   Deviance:                       5931.9\n",
       "Time:                        19:57:20   Pearson chi2:                 6.82e+03\n",
       "No. Iterations:                    19                                         \n",
       "Covariance Type:            nonrobust                                         \n",
       "=========================================================================================================\n",
       "                                            coef    std err          z      P>|z|      [0.025      0.975]\n",
       "---------------------------------------------------------------------------------------------------------\n",
       "const                                    -1.1995      0.069    -17.329      0.000      -1.335      -1.064\n",
       "Total Time Spent on Website               1.1056      0.038     29.143      0.000       1.031       1.180\n",
       "Lead Source_Google                        0.3884      0.076      5.132      0.000       0.240       0.537\n",
       "Lead Source_Olark Chat                    1.2366      0.104     11.877      0.000       1.033       1.441\n",
       "Lead Source_Reference                     4.1869      0.206     20.305      0.000       3.783       4.591\n",
       "Lead Source_others                        2.0061      0.159     12.585      0.000       1.694       2.319\n",
       "Last Activity_Olark Chat Conversation    -1.7000      0.180     -9.437      0.000      -2.053      -1.347\n",
       "Last Activity_Page Visited on Website    -0.7680      0.176     -4.356      0.000      -1.113      -0.422\n",
       "Last Activity_others                     -0.8683      0.137     -6.336      0.000      -1.137      -0.600\n",
       "Newspaper_Yes                           -22.0604   1.77e+04     -0.001      0.999   -3.48e+04    3.47e+04\n",
       "Last Notable Activity_Modified           -0.2634      0.101     -2.608      0.009      -0.461      -0.065\n",
       "Last Notable Activity_SMS Sent            1.3335      0.083     16.134      0.000       1.171       1.495\n",
       "Last Notable Activity_others              0.5441      0.175      3.106      0.002       0.201       0.887\n",
       "=========================================================================================================\n",
       "\"\"\""
      ]
     },
     "execution_count": 305,
     "metadata": {},
     "output_type": "execute_result"
    }
   ],
   "source": [
    "X_train_sm = sm.add_constant(X_train[col])\n",
    "logm2=sm.GLM(y_train,X_train_sm, family=sm.families.Binomial())\n",
    "logm2.fit().summary()"
   ]
  },
  {
   "cell_type": "code",
   "execution_count": 306,
   "metadata": {},
   "outputs": [
    {
     "data": {
      "text/plain": [
       "Index(['Total Time Spent on Website', 'Lead Source_Google',\n",
       "       'Lead Source_Olark Chat', 'Lead Source_Reference', 'Lead Source_others',\n",
       "       'Last Activity_Olark Chat Conversation',\n",
       "       'Last Activity_Page Visited on Website', 'Last Activity_others',\n",
       "       'Newspaper_Yes', 'Last Notable Activity_Modified',\n",
       "       'Last Notable Activity_SMS Sent', 'Last Notable Activity_others'],\n",
       "      dtype='object')"
      ]
     },
     "execution_count": 306,
     "metadata": {},
     "output_type": "execute_result"
    }
   ],
   "source": [
    "col"
   ]
  },
  {
   "cell_type": "code",
   "execution_count": 307,
   "metadata": {},
   "outputs": [
    {
     "data": {
      "text/plain": [
       "Index(['Total Time Spent on Website', 'Lead Source_Google',\n",
       "       'Lead Source_Olark Chat', 'Lead Source_Reference', 'Lead Source_others',\n",
       "       'Last Activity_Olark Chat Conversation',\n",
       "       'Last Activity_Page Visited on Website', 'Last Activity_others',\n",
       "       'Last Notable Activity_Modified', 'Last Notable Activity_SMS Sent',\n",
       "       'Last Notable Activity_others'],\n",
       "      dtype='object')"
      ]
     },
     "execution_count": 307,
     "metadata": {},
     "output_type": "execute_result"
    }
   ],
   "source": [
    "col=col.drop('Newspaper_Yes',1)\n",
    "col"
   ]
  },
  {
   "cell_type": "code",
   "execution_count": 308,
   "metadata": {},
   "outputs": [
    {
     "data": {
      "text/html": [
       "<table class=\"simpletable\">\n",
       "<caption>Generalized Linear Model Regression Results</caption>\n",
       "<tr>\n",
       "  <th>Dep. Variable:</th>       <td>Converted</td>    <th>  No. Observations:  </th>  <td>  6463</td> \n",
       "</tr>\n",
       "<tr>\n",
       "  <th>Model:</th>                  <td>GLM</td>       <th>  Df Residuals:      </th>  <td>  6451</td> \n",
       "</tr>\n",
       "<tr>\n",
       "  <th>Model Family:</th>        <td>Binomial</td>     <th>  Df Model:          </th>  <td>    11</td> \n",
       "</tr>\n",
       "<tr>\n",
       "  <th>Link Function:</th>         <td>logit</td>      <th>  Scale:             </th> <td>  1.0000</td>\n",
       "</tr>\n",
       "<tr>\n",
       "  <th>Method:</th>                <td>IRLS</td>       <th>  Log-Likelihood:    </th> <td> -2967.6</td>\n",
       "</tr>\n",
       "<tr>\n",
       "  <th>Date:</th>            <td>Mon, 07 Sep 2020</td> <th>  Deviance:          </th> <td>  5935.3</td>\n",
       "</tr>\n",
       "<tr>\n",
       "  <th>Time:</th>                <td>19:57:20</td>     <th>  Pearson chi2:      </th> <td>6.82e+03</td>\n",
       "</tr>\n",
       "<tr>\n",
       "  <th>No. Iterations:</th>          <td>6</td>        <th>                     </th>     <td> </td>   \n",
       "</tr>\n",
       "<tr>\n",
       "  <th>Covariance Type:</th>     <td>nonrobust</td>    <th>                     </th>     <td> </td>   \n",
       "</tr>\n",
       "</table>\n",
       "<table class=\"simpletable\">\n",
       "<tr>\n",
       "                    <td></td>                       <th>coef</th>     <th>std err</th>      <th>z</th>      <th>P>|z|</th>  <th>[0.025</th>    <th>0.975]</th>  \n",
       "</tr>\n",
       "<tr>\n",
       "  <th>const</th>                                 <td>   -1.2021</td> <td>    0.069</td> <td>  -17.370</td> <td> 0.000</td> <td>   -1.338</td> <td>   -1.066</td>\n",
       "</tr>\n",
       "<tr>\n",
       "  <th>Total Time Spent on Website</th>           <td>    1.1033</td> <td>    0.038</td> <td>   29.116</td> <td> 0.000</td> <td>    1.029</td> <td>    1.178</td>\n",
       "</tr>\n",
       "<tr>\n",
       "  <th>Lead Source_Google</th>                    <td>    0.3905</td> <td>    0.076</td> <td>    5.161</td> <td> 0.000</td> <td>    0.242</td> <td>    0.539</td>\n",
       "</tr>\n",
       "<tr>\n",
       "  <th>Lead Source_Olark Chat</th>                <td>    1.2360</td> <td>    0.104</td> <td>   11.873</td> <td> 0.000</td> <td>    1.032</td> <td>    1.440</td>\n",
       "</tr>\n",
       "<tr>\n",
       "  <th>Lead Source_Reference</th>                 <td>    4.1861</td> <td>    0.206</td> <td>   20.303</td> <td> 0.000</td> <td>    3.782</td> <td>    4.590</td>\n",
       "</tr>\n",
       "<tr>\n",
       "  <th>Lead Source_others</th>                    <td>    2.0061</td> <td>    0.159</td> <td>   12.586</td> <td> 0.000</td> <td>    1.694</td> <td>    2.319</td>\n",
       "</tr>\n",
       "<tr>\n",
       "  <th>Last Activity_Olark Chat Conversation</th> <td>   -1.7001</td> <td>    0.180</td> <td>   -9.440</td> <td> 0.000</td> <td>   -2.053</td> <td>   -1.347</td>\n",
       "</tr>\n",
       "<tr>\n",
       "  <th>Last Activity_Page Visited on Website</th> <td>   -0.7672</td> <td>    0.176</td> <td>   -4.354</td> <td> 0.000</td> <td>   -1.113</td> <td>   -0.422</td>\n",
       "</tr>\n",
       "<tr>\n",
       "  <th>Last Activity_others</th>                  <td>   -0.8678</td> <td>    0.137</td> <td>   -6.335</td> <td> 0.000</td> <td>   -1.136</td> <td>   -0.599</td>\n",
       "</tr>\n",
       "<tr>\n",
       "  <th>Last Notable Activity_Modified</th>        <td>   -0.2611</td> <td>    0.101</td> <td>   -2.586</td> <td> 0.010</td> <td>   -0.459</td> <td>   -0.063</td>\n",
       "</tr>\n",
       "<tr>\n",
       "  <th>Last Notable Activity_SMS Sent</th>        <td>    1.3355</td> <td>    0.083</td> <td>   16.162</td> <td> 0.000</td> <td>    1.174</td> <td>    1.497</td>\n",
       "</tr>\n",
       "<tr>\n",
       "  <th>Last Notable Activity_others</th>          <td>    0.5462</td> <td>    0.175</td> <td>    3.119</td> <td> 0.002</td> <td>    0.203</td> <td>    0.889</td>\n",
       "</tr>\n",
       "</table>"
      ],
      "text/plain": [
       "<class 'statsmodels.iolib.summary.Summary'>\n",
       "\"\"\"\n",
       "                 Generalized Linear Model Regression Results                  \n",
       "==============================================================================\n",
       "Dep. Variable:              Converted   No. Observations:                 6463\n",
       "Model:                            GLM   Df Residuals:                     6451\n",
       "Model Family:                Binomial   Df Model:                           11\n",
       "Link Function:                  logit   Scale:                          1.0000\n",
       "Method:                          IRLS   Log-Likelihood:                -2967.6\n",
       "Date:                Mon, 07 Sep 2020   Deviance:                       5935.3\n",
       "Time:                        19:57:20   Pearson chi2:                 6.82e+03\n",
       "No. Iterations:                     6                                         \n",
       "Covariance Type:            nonrobust                                         \n",
       "=========================================================================================================\n",
       "                                            coef    std err          z      P>|z|      [0.025      0.975]\n",
       "---------------------------------------------------------------------------------------------------------\n",
       "const                                    -1.2021      0.069    -17.370      0.000      -1.338      -1.066\n",
       "Total Time Spent on Website               1.1033      0.038     29.116      0.000       1.029       1.178\n",
       "Lead Source_Google                        0.3905      0.076      5.161      0.000       0.242       0.539\n",
       "Lead Source_Olark Chat                    1.2360      0.104     11.873      0.000       1.032       1.440\n",
       "Lead Source_Reference                     4.1861      0.206     20.303      0.000       3.782       4.590\n",
       "Lead Source_others                        2.0061      0.159     12.586      0.000       1.694       2.319\n",
       "Last Activity_Olark Chat Conversation    -1.7001      0.180     -9.440      0.000      -2.053      -1.347\n",
       "Last Activity_Page Visited on Website    -0.7672      0.176     -4.354      0.000      -1.113      -0.422\n",
       "Last Activity_others                     -0.8678      0.137     -6.335      0.000      -1.136      -0.599\n",
       "Last Notable Activity_Modified           -0.2611      0.101     -2.586      0.010      -0.459      -0.063\n",
       "Last Notable Activity_SMS Sent            1.3355      0.083     16.162      0.000       1.174       1.497\n",
       "Last Notable Activity_others              0.5462      0.175      3.119      0.002       0.203       0.889\n",
       "=========================================================================================================\n",
       "\"\"\""
      ]
     },
     "execution_count": 308,
     "metadata": {},
     "output_type": "execute_result"
    }
   ],
   "source": [
    "X_train_sm1 = sm.add_constant(X_train[col])\n",
    "logm3=sm.GLM(y_train,X_train_sm1, family=sm.families.Binomial())\n",
    "res=logm3.fit()\n",
    "logm3.fit().summary()"
   ]
  },
  {
   "cell_type": "code",
   "execution_count": 309,
   "metadata": {},
   "outputs": [
    {
     "data": {
      "text/plain": [
       "1033    0.301800\n",
       "6534    0.538122\n",
       "6237    0.051895\n",
       "3190    0.916254\n",
       "712     0.068305\n",
       "3943    0.051895\n",
       "6806    0.425957\n",
       "9206    0.581912\n",
       "4685    0.238222\n",
       "4334    0.133946\n",
       "dtype: float64"
      ]
     },
     "execution_count": 309,
     "metadata": {},
     "output_type": "execute_result"
    }
   ],
   "source": [
    "y_train_pred=res.predict(X_train_sm1)\n",
    "y_train_pred[:10]\n"
   ]
  },
  {
   "cell_type": "code",
   "execution_count": 310,
   "metadata": {},
   "outputs": [
    {
     "data": {
      "text/plain": [
       "array([0.30180033, 0.53812234, 0.05189521, 0.91625408, 0.06830472,\n",
       "       0.05189521, 0.42595673, 0.58191232, 0.23822175, 0.13394629])"
      ]
     },
     "execution_count": 310,
     "metadata": {},
     "output_type": "execute_result"
    }
   ],
   "source": [
    "y_train_pred = y_train_pred.values.reshape(-1)\n",
    "y_train_pred[:10]"
   ]
  },
  {
   "cell_type": "markdown",
   "metadata": {},
   "source": [
    "## Final values"
   ]
  },
  {
   "cell_type": "code",
   "execution_count": 311,
   "metadata": {},
   "outputs": [],
   "source": [
    "trln=pd.DataFrame(train_leadnumber)"
   ]
  },
  {
   "cell_type": "code",
   "execution_count": 312,
   "metadata": {},
   "outputs": [
    {
     "data": {
      "text/plain": [
       "(6463, 1)"
      ]
     },
     "execution_count": 312,
     "metadata": {},
     "output_type": "execute_result"
    }
   ],
   "source": [
    "trln.shape"
   ]
  },
  {
   "cell_type": "code",
   "execution_count": 313,
   "metadata": {},
   "outputs": [
    {
     "data": {
      "text/html": [
       "<div>\n",
       "<style scoped>\n",
       "    .dataframe tbody tr th:only-of-type {\n",
       "        vertical-align: middle;\n",
       "    }\n",
       "\n",
       "    .dataframe tbody tr th {\n",
       "        vertical-align: top;\n",
       "    }\n",
       "\n",
       "    .dataframe thead th {\n",
       "        text-align: right;\n",
       "    }\n",
       "</style>\n",
       "<table border=\"1\" class=\"dataframe\">\n",
       "  <thead>\n",
       "    <tr style=\"text-align: right;\">\n",
       "      <th></th>\n",
       "      <th>Lead Number</th>\n",
       "    </tr>\n",
       "  </thead>\n",
       "  <tbody>\n",
       "    <tr>\n",
       "      <th>1033</th>\n",
       "      <td>649181.0</td>\n",
       "    </tr>\n",
       "    <tr>\n",
       "      <th>6534</th>\n",
       "      <td>599643.0</td>\n",
       "    </tr>\n",
       "    <tr>\n",
       "      <th>6237</th>\n",
       "      <td>601915.0</td>\n",
       "    </tr>\n",
       "    <tr>\n",
       "      <th>3190</th>\n",
       "      <td>629468.0</td>\n",
       "    </tr>\n",
       "    <tr>\n",
       "      <th>712</th>\n",
       "      <td>653091.0</td>\n",
       "    </tr>\n",
       "    <tr>\n",
       "      <th>...</th>\n",
       "      <td>...</td>\n",
       "    </tr>\n",
       "    <tr>\n",
       "      <th>350</th>\n",
       "      <td>656685.0</td>\n",
       "    </tr>\n",
       "    <tr>\n",
       "      <th>79</th>\n",
       "      <td>659710.0</td>\n",
       "    </tr>\n",
       "    <tr>\n",
       "      <th>8046</th>\n",
       "      <td>588139.0</td>\n",
       "    </tr>\n",
       "    <tr>\n",
       "      <th>6941</th>\n",
       "      <td>596419.0</td>\n",
       "    </tr>\n",
       "    <tr>\n",
       "      <th>5644</th>\n",
       "      <td>606672.0</td>\n",
       "    </tr>\n",
       "  </tbody>\n",
       "</table>\n",
       "<p>6463 rows × 1 columns</p>\n",
       "</div>"
      ],
      "text/plain": [
       "      Lead Number\n",
       "1033     649181.0\n",
       "6534     599643.0\n",
       "6237     601915.0\n",
       "3190     629468.0\n",
       "712      653091.0\n",
       "...           ...\n",
       "350      656685.0\n",
       "79       659710.0\n",
       "8046     588139.0\n",
       "6941     596419.0\n",
       "5644     606672.0\n",
       "\n",
       "[6463 rows x 1 columns]"
      ]
     },
     "execution_count": 313,
     "metadata": {},
     "output_type": "execute_result"
    }
   ],
   "source": [
    "trln"
   ]
  },
  {
   "cell_type": "code",
   "execution_count": 314,
   "metadata": {},
   "outputs": [
    {
     "data": {
      "text/plain": [
       "(6463, 3)"
      ]
     },
     "execution_count": 314,
     "metadata": {},
     "output_type": "execute_result"
    }
   ],
   "source": [
    "y_train_pred_final = pd.DataFrame({'Convert':y_train.values, 'Convert_Prob':y_train_pred})\n",
    "y_train_pred_final['ProspectID'] = y_train.index\n",
    "y_train_pred_final.shape"
   ]
  },
  {
   "cell_type": "code",
   "execution_count": 315,
   "metadata": {},
   "outputs": [],
   "source": [
    "from sklearn import metrics"
   ]
  },
  {
   "cell_type": "markdown",
   "metadata": {},
   "source": [
    "### Checking VIF"
   ]
  },
  {
   "cell_type": "code",
   "execution_count": 316,
   "metadata": {},
   "outputs": [],
   "source": [
    "# Check for the VIF values of the feature variables. \n",
    "from statsmodels.stats.outliers_influence import variance_inflation_factor"
   ]
  },
  {
   "cell_type": "code",
   "execution_count": 317,
   "metadata": {},
   "outputs": [
    {
     "data": {
      "text/plain": [
       "Index(['TotalVisits', 'Total Time Spent on Website', 'Page Views Per Visit',\n",
       "       'Lead Origin_Landing Page Submission', 'Lead Source_Google',\n",
       "       'Lead Source_Olark Chat', 'Lead Source_Organic Search',\n",
       "       'Lead Source_Reference', 'Lead Source_others',\n",
       "       'Last Activity_Olark Chat Conversation',\n",
       "       'Last Activity_Page Visited on Website', 'Last Activity_others',\n",
       "       'X Education Forums_Yes', 'Newspaper_Yes',\n",
       "       'A free copy of Mastering The Interview_Yes',\n",
       "       'Last Notable Activity_Modified', 'Last Notable Activity_SMS Sent',\n",
       "       'Last Notable Activity_others'],\n",
       "      dtype='object')"
      ]
     },
     "execution_count": 317,
     "metadata": {},
     "output_type": "execute_result"
    }
   ],
   "source": [
    "X_train.columns"
   ]
  },
  {
   "cell_type": "code",
   "execution_count": 318,
   "metadata": {},
   "outputs": [
    {
     "data": {
      "text/html": [
       "<div>\n",
       "<style scoped>\n",
       "    .dataframe tbody tr th:only-of-type {\n",
       "        vertical-align: middle;\n",
       "    }\n",
       "\n",
       "    .dataframe tbody tr th {\n",
       "        vertical-align: top;\n",
       "    }\n",
       "\n",
       "    .dataframe thead th {\n",
       "        text-align: right;\n",
       "    }\n",
       "</style>\n",
       "<table border=\"1\" class=\"dataframe\">\n",
       "  <thead>\n",
       "    <tr style=\"text-align: right;\">\n",
       "      <th></th>\n",
       "      <th>Features</th>\n",
       "      <th>VIF</th>\n",
       "    </tr>\n",
       "  </thead>\n",
       "  <tbody>\n",
       "    <tr>\n",
       "      <th>8</th>\n",
       "      <td>Last Notable Activity_Modified</td>\n",
       "      <td>3.20</td>\n",
       "    </tr>\n",
       "    <tr>\n",
       "      <th>10</th>\n",
       "      <td>Last Notable Activity_others</td>\n",
       "      <td>2.29</td>\n",
       "    </tr>\n",
       "    <tr>\n",
       "      <th>7</th>\n",
       "      <td>Last Activity_others</td>\n",
       "      <td>2.26</td>\n",
       "    </tr>\n",
       "    <tr>\n",
       "      <th>5</th>\n",
       "      <td>Last Activity_Olark Chat Conversation</td>\n",
       "      <td>2.07</td>\n",
       "    </tr>\n",
       "    <tr>\n",
       "      <th>6</th>\n",
       "      <td>Last Activity_Page Visited on Website</td>\n",
       "      <td>1.80</td>\n",
       "    </tr>\n",
       "    <tr>\n",
       "      <th>2</th>\n",
       "      <td>Lead Source_Olark Chat</td>\n",
       "      <td>1.67</td>\n",
       "    </tr>\n",
       "    <tr>\n",
       "      <th>1</th>\n",
       "      <td>Lead Source_Google</td>\n",
       "      <td>1.36</td>\n",
       "    </tr>\n",
       "    <tr>\n",
       "      <th>9</th>\n",
       "      <td>Last Notable Activity_SMS Sent</td>\n",
       "      <td>1.27</td>\n",
       "    </tr>\n",
       "    <tr>\n",
       "      <th>0</th>\n",
       "      <td>Total Time Spent on Website</td>\n",
       "      <td>1.22</td>\n",
       "    </tr>\n",
       "    <tr>\n",
       "      <th>3</th>\n",
       "      <td>Lead Source_Reference</td>\n",
       "      <td>1.13</td>\n",
       "    </tr>\n",
       "    <tr>\n",
       "      <th>4</th>\n",
       "      <td>Lead Source_others</td>\n",
       "      <td>1.06</td>\n",
       "    </tr>\n",
       "  </tbody>\n",
       "</table>\n",
       "</div>"
      ],
      "text/plain": [
       "                                 Features   VIF\n",
       "8          Last Notable Activity_Modified  3.20\n",
       "10           Last Notable Activity_others  2.29\n",
       "7                    Last Activity_others  2.26\n",
       "5   Last Activity_Olark Chat Conversation  2.07\n",
       "6   Last Activity_Page Visited on Website  1.80\n",
       "2                  Lead Source_Olark Chat  1.67\n",
       "1                      Lead Source_Google  1.36\n",
       "9          Last Notable Activity_SMS Sent  1.27\n",
       "0             Total Time Spent on Website  1.22\n",
       "3                   Lead Source_Reference  1.13\n",
       "4                      Lead Source_others  1.06"
      ]
     },
     "execution_count": 318,
     "metadata": {},
     "output_type": "execute_result"
    }
   ],
   "source": [
    "# Create a dataframe that will contain the names of all the feature variables and their respective VIFs\n",
    "vif = pd.DataFrame()\n",
    "vif['Features'] = X_train[col].columns\n",
    "vif['VIF'] = [variance_inflation_factor(X_train[col].values, i) for i in range(X_train[col].shape[1])]\n",
    "vif['VIF'] = round(vif['VIF'], 2)\n",
    "vif = vif.sort_values(by = \"VIF\", ascending = False)\n",
    "vif"
   ]
  },
  {
   "cell_type": "markdown",
   "metadata": {},
   "source": [
    "## Metrics Beyond Accuracy"
   ]
  },
  {
   "cell_type": "markdown",
   "metadata": {},
   "source": [
    "### Step 9: Plotting the ROC Curve"
   ]
  },
  {
   "cell_type": "markdown",
   "metadata": {},
   "source": [
    "An ROC curve demonstrates several things:\n",
    "\n",
    "- It shows the tradeoff between sensitivity and specificity (any increase in sensitivity will be accompanied by a decrease in specificity).\n",
    "- The closer the curve follows the left-hand border and then the top border of the ROC space, the more accurate the test.\n",
    "- The closer the curve comes to the 45-degree diagonal of the ROC space, the less accurate the test."
   ]
  },
  {
   "cell_type": "code",
   "execution_count": 319,
   "metadata": {},
   "outputs": [],
   "source": [
    "def draw_roc( actual, probs ):\n",
    "    fpr, tpr, thresholds = metrics.roc_curve( actual, probs,\n",
    "                                              drop_intermediate = False )\n",
    "    auc_score = metrics.roc_auc_score( actual, probs )\n",
    "    plt.figure(figsize=(5, 5))\n",
    "    plt.plot( fpr, tpr, label='ROC curve (area = %0.2f)' % auc_score )\n",
    "    plt.plot([0, 1], [0, 1], 'k--')\n",
    "    plt.xlim([0.0, 1.0])\n",
    "    plt.ylim([0.0, 1.05])\n",
    "    plt.xlabel('False Positive Rate or [1 - True Negative Rate]')\n",
    "    plt.ylabel('True Positive Rate')\n",
    "    plt.title('Receiver operating characteristic example')\n",
    "    plt.legend(loc=\"lower right\")\n",
    "    plt.show()\n",
    "\n",
    "    return None"
   ]
  },
  {
   "cell_type": "code",
   "execution_count": 320,
   "metadata": {},
   "outputs": [],
   "source": [
    "fpr, tpr, thresholds = metrics.roc_curve( y_train_pred_final.Convert, y_train_pred_final.Convert_Prob, drop_intermediate = False )"
   ]
  },
  {
   "cell_type": "code",
   "execution_count": 321,
   "metadata": {},
   "outputs": [
    {
     "data": {
      "image/png": "[encoded data removed]",
      "text/plain": [
       "<Figure size 360x360 with 1 Axes>"
      ]
     },
     "metadata": {
      "needs_background": "light"
     },
     "output_type": "display_data"
    }
   ],
   "source": [
    "draw_roc(y_train_pred_final.Convert, y_train_pred_final.Convert_Prob)"
   ]
  },
  {
   "cell_type": "markdown",
   "metadata": {},
   "source": [
    "### Step 10: Finding Optimal Cutoff Point"
   ]
  },
  {
   "cell_type": "markdown",
   "metadata": {},
   "source": [
    "Optimal cutoff probability is that prob where we get balanced sensitivity and specificity"
   ]
  },
  {
   "cell_type": "code",
   "execution_count": 322,
   "metadata": {},
   "outputs": [
    {
     "data": {
      "text/html": [
       "<div>\n",
       "<style scoped>\n",
       "    .dataframe tbody tr th:only-of-type {\n",
       "        vertical-align: middle;\n",
       "    }\n",
       "\n",
       "    .dataframe tbody tr th {\n",
       "        vertical-align: top;\n",
       "    }\n",
       "\n",
       "    .dataframe thead th {\n",
       "        text-align: right;\n",
       "    }\n",
       "</style>\n",
       "<table border=\"1\" class=\"dataframe\">\n",
       "  <thead>\n",
       "    <tr style=\"text-align: right;\">\n",
       "      <th></th>\n",
       "      <th>Convert</th>\n",
       "      <th>Convert_Prob</th>\n",
       "      <th>ProspectID</th>\n",
       "      <th>0.0</th>\n",
       "      <th>0.1</th>\n",
       "      <th>0.2</th>\n",
       "      <th>0.3</th>\n",
       "      <th>0.4</th>\n",
       "      <th>0.5</th>\n",
       "      <th>0.6</th>\n",
       "      <th>0.7</th>\n",
       "      <th>0.8</th>\n",
       "      <th>0.9</th>\n",
       "    </tr>\n",
       "  </thead>\n",
       "  <tbody>\n",
       "    <tr>\n",
       "      <th>0</th>\n",
       "      <td>0.0</td>\n",
       "      <td>0.301800</td>\n",
       "      <td>1033</td>\n",
       "      <td>1</td>\n",
       "      <td>1</td>\n",
       "      <td>1</td>\n",
       "      <td>1</td>\n",
       "      <td>0</td>\n",
       "      <td>0</td>\n",
       "      <td>0</td>\n",
       "      <td>0</td>\n",
       "      <td>0</td>\n",
       "      <td>0</td>\n",
       "    </tr>\n",
       "    <tr>\n",
       "      <th>1</th>\n",
       "      <td>1.0</td>\n",
       "      <td>0.538122</td>\n",
       "      <td>6534</td>\n",
       "      <td>1</td>\n",
       "      <td>1</td>\n",
       "      <td>1</td>\n",
       "      <td>1</td>\n",
       "      <td>1</td>\n",
       "      <td>1</td>\n",
       "      <td>0</td>\n",
       "      <td>0</td>\n",
       "      <td>0</td>\n",
       "      <td>0</td>\n",
       "    </tr>\n",
       "    <tr>\n",
       "      <th>2</th>\n",
       "      <td>0.0</td>\n",
       "      <td>0.051895</td>\n",
       "      <td>6237</td>\n",
       "      <td>1</td>\n",
       "      <td>0</td>\n",
       "      <td>0</td>\n",
       "      <td>0</td>\n",
       "      <td>0</td>\n",
       "      <td>0</td>\n",
       "      <td>0</td>\n",
       "      <td>0</td>\n",
       "      <td>0</td>\n",
       "      <td>0</td>\n",
       "    </tr>\n",
       "    <tr>\n",
       "      <th>3</th>\n",
       "      <td>1.0</td>\n",
       "      <td>0.916254</td>\n",
       "      <td>3190</td>\n",
       "      <td>1</td>\n",
       "      <td>1</td>\n",
       "      <td>1</td>\n",
       "      <td>1</td>\n",
       "      <td>1</td>\n",
       "      <td>1</td>\n",
       "      <td>1</td>\n",
       "      <td>1</td>\n",
       "      <td>1</td>\n",
       "      <td>1</td>\n",
       "    </tr>\n",
       "    <tr>\n",
       "      <th>4</th>\n",
       "      <td>0.0</td>\n",
       "      <td>0.068305</td>\n",
       "      <td>712</td>\n",
       "      <td>1</td>\n",
       "      <td>0</td>\n",
       "      <td>0</td>\n",
       "      <td>0</td>\n",
       "      <td>0</td>\n",
       "      <td>0</td>\n",
       "      <td>0</td>\n",
       "      <td>0</td>\n",
       "      <td>0</td>\n",
       "      <td>0</td>\n",
       "    </tr>\n",
       "  </tbody>\n",
       "</table>\n",
       "</div>"
      ],
      "text/plain": [
       "   Convert  Convert_Prob  ProspectID  0.0  0.1  0.2  0.3  0.4  0.5  0.6  0.7  \\\n",
       "0      0.0      0.301800        1033    1    1    1    1    0    0    0    0   \n",
       "1      1.0      0.538122        6534    1    1    1    1    1    1    0    0   \n",
       "2      0.0      0.051895        6237    1    0    0    0    0    0    0    0   \n",
       "3      1.0      0.916254        3190    1    1    1    1    1    1    1    1   \n",
       "4      0.0      0.068305         712    1    0    0    0    0    0    0    0   \n",
       "\n",
       "   0.8  0.9  \n",
       "0    0    0  \n",
       "1    0    0  \n",
       "2    0    0  \n",
       "3    1    1  \n",
       "4    0    0  "
      ]
     },
     "execution_count": 322,
     "metadata": {},
     "output_type": "execute_result"
    }
   ],
   "source": [
    "# Let's create columns with different probability cutoffs \n",
    "numbers = [float(x)/10 for x in range(10)]\n",
    "for i in numbers:\n",
    "    y_train_pred_final[i]= y_train_pred_final.Convert_Prob.map(lambda x: 1 if x > i else 0)\n",
    "y_train_pred_final.head()"
   ]
  },
  {
   "cell_type": "code",
   "execution_count": 323,
   "metadata": {},
   "outputs": [
    {
     "name": "stdout",
     "output_type": "stream",
     "text": [
      "     prob  accuracy     sensi     speci\n",
      "0.0   0.0  0.385115  1.000000  0.000000\n",
      "0.1   0.1  0.550518  0.973483  0.285606\n",
      "0.2   0.2  0.702770  0.913620  0.570710\n",
      "0.3   0.3  0.775337  0.830856  0.740564\n",
      "0.4   0.4  0.787560  0.759341  0.805234\n",
      "0.5   0.5  0.791428  0.668140  0.868646\n",
      "0.6   0.6  0.768993  0.533548  0.916457\n",
      "0.7   0.7  0.752901  0.443150  0.946905\n",
      "0.8   0.8  0.722575  0.330655  0.968042\n",
      "0.9   0.9  0.668575  0.157895  0.988425\n"
     ]
    }
   ],
   "source": [
    "# Now let's calculate accuracy sensitivity and specificity for various probability cutoffs.\n",
    "cutoff_df = pd.DataFrame( columns = ['prob','accuracy','sensi','speci'])\n",
    "from sklearn.metrics import confusion_matrix\n",
    "\n",
    "# TP = confusion[1,1] # true positive \n",
    "# TN = confusion[0,0] # true negatives\n",
    "# FP = confusion[0,1] # false positives\n",
    "# FN = confusion[1,0] # false negatives\n",
    "\n",
    "num = [0.0,0.1,0.2,0.3,0.4,0.5,0.6,0.7,0.8,0.9]\n",
    "for i in num:\n",
    "    cm1 = metrics.confusion_matrix(y_train_pred_final.Convert, y_train_pred_final[i] )\n",
    "    total1=sum(sum(cm1))\n",
    "    accuracy = (cm1[0,0]+cm1[1,1])/total1\n",
    "    \n",
    "    speci = cm1[0,0]/(cm1[0,0]+cm1[0,1])\n",
    "    sensi = cm1[1,1]/(cm1[1,0]+cm1[1,1])\n",
    "    cutoff_df.loc[i] =[ i ,accuracy,sensi,speci]\n",
    "print(cutoff_df)"
   ]
  },
  {
   "cell_type": "markdown",
   "metadata": {},
   "source": [
    "## we choose value 0.3 by giving sensitivity more weightage to get the numbers which have more propability to convert to ones"
   ]
  },
  {
   "cell_type": "code",
   "execution_count": 324,
   "metadata": {},
   "outputs": [
    {
     "data": {
      "text/plain": [
       "<Figure size 2160x720 with 0 Axes>"
      ]
     },
     "metadata": {},
     "output_type": "display_data"
    },
    {
     "data": {
      "image/png": "[encoded data removed]",
      "text/plain": [
       "<Figure size 432x288 with 1 Axes>"
      ]
     },
     "metadata": {
      "needs_background": "light"
     },
     "output_type": "display_data"
    }
   ],
   "source": [
    "# Let's plot accuracy sensitivity and specificity for various probabilities.\n",
    "plt.figure(figsize=(30,10))\n",
    "cutoff_df.plot.line(x='prob', y=['accuracy','sensi','speci'])\n",
    "plt.show()"
   ]
  },
  {
   "cell_type": "markdown",
   "metadata": {},
   "source": [
    "#### From the curve above, 0.3 is the optimum point to take it as a cutoff probability."
   ]
  },
  {
   "cell_type": "code",
   "execution_count": 325,
   "metadata": {},
   "outputs": [
    {
     "data": {
      "text/html": [
       "<div>\n",
       "<style scoped>\n",
       "    .dataframe tbody tr th:only-of-type {\n",
       "        vertical-align: middle;\n",
       "    }\n",
       "\n",
       "    .dataframe tbody tr th {\n",
       "        vertical-align: top;\n",
       "    }\n",
       "\n",
       "    .dataframe thead th {\n",
       "        text-align: right;\n",
       "    }\n",
       "</style>\n",
       "<table border=\"1\" class=\"dataframe\">\n",
       "  <thead>\n",
       "    <tr style=\"text-align: right;\">\n",
       "      <th></th>\n",
       "      <th>Convert</th>\n",
       "      <th>Convert_Prob</th>\n",
       "      <th>ProspectID</th>\n",
       "      <th>0.0</th>\n",
       "      <th>0.1</th>\n",
       "      <th>0.2</th>\n",
       "      <th>0.3</th>\n",
       "      <th>0.4</th>\n",
       "      <th>0.5</th>\n",
       "      <th>0.6</th>\n",
       "      <th>0.7</th>\n",
       "      <th>0.8</th>\n",
       "      <th>0.9</th>\n",
       "      <th>final_predicted</th>\n",
       "    </tr>\n",
       "  </thead>\n",
       "  <tbody>\n",
       "    <tr>\n",
       "      <th>0</th>\n",
       "      <td>0.0</td>\n",
       "      <td>0.301800</td>\n",
       "      <td>1033</td>\n",
       "      <td>1</td>\n",
       "      <td>1</td>\n",
       "      <td>1</td>\n",
       "      <td>1</td>\n",
       "      <td>0</td>\n",
       "      <td>0</td>\n",
       "      <td>0</td>\n",
       "      <td>0</td>\n",
       "      <td>0</td>\n",
       "      <td>0</td>\n",
       "      <td>1</td>\n",
       "    </tr>\n",
       "    <tr>\n",
       "      <th>1</th>\n",
       "      <td>1.0</td>\n",
       "      <td>0.538122</td>\n",
       "      <td>6534</td>\n",
       "      <td>1</td>\n",
       "      <td>1</td>\n",
       "      <td>1</td>\n",
       "      <td>1</td>\n",
       "      <td>1</td>\n",
       "      <td>1</td>\n",
       "      <td>0</td>\n",
       "      <td>0</td>\n",
       "      <td>0</td>\n",
       "      <td>0</td>\n",
       "      <td>1</td>\n",
       "    </tr>\n",
       "    <tr>\n",
       "      <th>2</th>\n",
       "      <td>0.0</td>\n",
       "      <td>0.051895</td>\n",
       "      <td>6237</td>\n",
       "      <td>1</td>\n",
       "      <td>0</td>\n",
       "      <td>0</td>\n",
       "      <td>0</td>\n",
       "      <td>0</td>\n",
       "      <td>0</td>\n",
       "      <td>0</td>\n",
       "      <td>0</td>\n",
       "      <td>0</td>\n",
       "      <td>0</td>\n",
       "      <td>0</td>\n",
       "    </tr>\n",
       "    <tr>\n",
       "      <th>3</th>\n",
       "      <td>1.0</td>\n",
       "      <td>0.916254</td>\n",
       "      <td>3190</td>\n",
       "      <td>1</td>\n",
       "      <td>1</td>\n",
       "      <td>1</td>\n",
       "      <td>1</td>\n",
       "      <td>1</td>\n",
       "      <td>1</td>\n",
       "      <td>1</td>\n",
       "      <td>1</td>\n",
       "      <td>1</td>\n",
       "      <td>1</td>\n",
       "      <td>1</td>\n",
       "    </tr>\n",
       "    <tr>\n",
       "      <th>4</th>\n",
       "      <td>0.0</td>\n",
       "      <td>0.068305</td>\n",
       "      <td>712</td>\n",
       "      <td>1</td>\n",
       "      <td>0</td>\n",
       "      <td>0</td>\n",
       "      <td>0</td>\n",
       "      <td>0</td>\n",
       "      <td>0</td>\n",
       "      <td>0</td>\n",
       "      <td>0</td>\n",
       "      <td>0</td>\n",
       "      <td>0</td>\n",
       "      <td>0</td>\n",
       "    </tr>\n",
       "  </tbody>\n",
       "</table>\n",
       "</div>"
      ],
      "text/plain": [
       "   Convert  Convert_Prob  ProspectID  0.0  0.1  0.2  0.3  0.4  0.5  0.6  0.7  \\\n",
       "0      0.0      0.301800        1033    1    1    1    1    0    0    0    0   \n",
       "1      1.0      0.538122        6534    1    1    1    1    1    1    0    0   \n",
       "2      0.0      0.051895        6237    1    0    0    0    0    0    0    0   \n",
       "3      1.0      0.916254        3190    1    1    1    1    1    1    1    1   \n",
       "4      0.0      0.068305         712    1    0    0    0    0    0    0    0   \n",
       "\n",
       "   0.8  0.9  final_predicted  \n",
       "0    0    0                1  \n",
       "1    0    0                1  \n",
       "2    0    0                0  \n",
       "3    1    1                1  \n",
       "4    0    0                0  "
      ]
     },
     "execution_count": 325,
     "metadata": {},
     "output_type": "execute_result"
    }
   ],
   "source": [
    "y_train_pred_final['final_predicted'] = y_train_pred_final.Convert_Prob.map( lambda x: 1 if x > 0.3 else 0)\n",
    "\n",
    "y_train_pred_final.head()"
   ]
  },
  {
   "cell_type": "code",
   "execution_count": 326,
   "metadata": {},
   "outputs": [
    {
     "data": {
      "text/plain": [
       "0.7753365310227448"
      ]
     },
     "execution_count": 326,
     "metadata": {},
     "output_type": "execute_result"
    }
   ],
   "source": [
    "# Let's check the overall accuracy.\n",
    "metrics.accuracy_score(y_train_pred_final.Convert, y_train_pred_final.final_predicted)"
   ]
  },
  {
   "cell_type": "code",
   "execution_count": 327,
   "metadata": {},
   "outputs": [
    {
     "name": "stdout",
     "output_type": "stream",
     "text": [
      "[[2943 1031]\n",
      " [ 421 2068]]\n"
     ]
    }
   ],
   "source": [
    "confusion = metrics.confusion_matrix(y_train_pred_final.Convert, y_train_pred_final.final_predicted )\n",
    "print(confusion)"
   ]
  },
  {
   "cell_type": "code",
   "execution_count": 328,
   "metadata": {},
   "outputs": [],
   "source": [
    "TN=confusion[0,0]\n",
    "TP=confusion[1,1]\n",
    "FP=confusion[0,1]\n",
    "FN=confusion[1,0]"
   ]
  },
  {
   "cell_type": "markdown",
   "metadata": {},
   "source": [
    "## Sensitivity/Recall"
   ]
  },
  {
   "cell_type": "code",
   "execution_count": 329,
   "metadata": {},
   "outputs": [
    {
     "data": {
      "text/plain": [
       "0.8308557653676175"
      ]
     },
     "execution_count": 329,
     "metadata": {},
     "output_type": "execute_result"
    }
   ],
   "source": [
    "# true positive/ actual positive\n",
    "TP / float(TP+FN)"
   ]
  },
  {
   "cell_type": "markdown",
   "metadata": {},
   "source": [
    "## Specificity"
   ]
  },
  {
   "cell_type": "code",
   "execution_count": 330,
   "metadata": {},
   "outputs": [
    {
     "data": {
      "text/plain": [
       "0.7405636638147962"
      ]
     },
     "execution_count": 330,
     "metadata": {},
     "output_type": "execute_result"
    }
   ],
   "source": [
    "# true negative/ actual positive\n",
    "TN / float(TN+FP)"
   ]
  },
  {
   "cell_type": "code",
   "execution_count": 331,
   "metadata": {},
   "outputs": [
    {
     "name": "stdout",
     "output_type": "stream",
     "text": [
      "0.25943633618520384\n"
     ]
    }
   ],
   "source": [
    "# Calculate false postive rate - predicting churn when customer does not have churned\n",
    "print(FP/ float(TN+FP))"
   ]
  },
  {
   "cell_type": "code",
   "execution_count": 332,
   "metadata": {},
   "outputs": [
    {
     "name": "stdout",
     "output_type": "stream",
     "text": [
      "0.6673120361406906\n"
     ]
    }
   ],
   "source": [
    "# Positive predictive value \n",
    "print (TP / float(TP+FP))"
   ]
  },
  {
   "cell_type": "code",
   "execution_count": 333,
   "metadata": {},
   "outputs": [
    {
     "name": "stdout",
     "output_type": "stream",
     "text": [
      "0.8748513674197385\n"
     ]
    }
   ],
   "source": [
    "# Negative predictive value\n",
    "print (TN / float(TN+ FN))"
   ]
  },
  {
   "cell_type": "markdown",
   "metadata": {},
   "source": [
    "## Conclusion-: Keeping Sensitivity more to predict maximum Positives(Converted Candidates)"
   ]
  },
  {
   "cell_type": "markdown",
   "metadata": {},
   "source": [
    "### Precision and recall tradeoff"
   ]
  },
  {
   "cell_type": "code",
   "execution_count": 334,
   "metadata": {},
   "outputs": [],
   "source": [
    "from sklearn.metrics import precision_recall_curve"
   ]
  },
  {
   "cell_type": "code",
   "execution_count": 335,
   "metadata": {},
   "outputs": [
    {
     "data": {
      "text/plain": [
       "(0       0.0\n",
       " 1       1.0\n",
       " 2       0.0\n",
       " 3       1.0\n",
       " 4       0.0\n",
       "        ... \n",
       " 6458    1.0\n",
       " 6459    1.0\n",
       " 6460    0.0\n",
       " 6461    0.0\n",
       " 6462    1.0\n",
       " Name: Convert, Length: 6463, dtype: float64,\n",
       " 0       1\n",
       " 1       1\n",
       " 2       0\n",
       " 3       1\n",
       " 4       0\n",
       "        ..\n",
       " 6458    0\n",
       " 6459    1\n",
       " 6460    0\n",
       " 6461    0\n",
       " 6462    1\n",
       " Name: final_predicted, Length: 6463, dtype: int64)"
      ]
     },
     "execution_count": 335,
     "metadata": {},
     "output_type": "execute_result"
    }
   ],
   "source": [
    "y_train_pred_final.Convert, y_train_pred_final.final_predicted"
   ]
  },
  {
   "cell_type": "code",
   "execution_count": 336,
   "metadata": {},
   "outputs": [],
   "source": [
    "p, r, thresholds = precision_recall_curve(y_train_pred_final.Convert, y_train_pred_final.Convert_Prob)"
   ]
  },
  {
   "cell_type": "code",
   "execution_count": 337,
   "metadata": {},
   "outputs": [
    {
     "data": {
      "image/png": "[encoded data removed]",
      "text/plain": [
       "<Figure size 432x288 with 1 Axes>"
      ]
     },
     "metadata": {
      "needs_background": "light"
     },
     "output_type": "display_data"
    }
   ],
   "source": [
    "plt.plot(thresholds, p[:-1], \"g-\")\n",
    "plt.plot(thresholds, r[:-1], \"r-\")\n",
    "plt.show()"
   ]
  },
  {
   "cell_type": "markdown",
   "metadata": {},
   "source": [
    "###  Making predictions on the test set"
   ]
  },
  {
   "cell_type": "code",
   "execution_count": 338,
   "metadata": {},
   "outputs": [
    {
     "data": {
      "text/plain": [
       "Index(['TotalVisits', 'Total Time Spent on Website', 'Page Views Per Visit',\n",
       "       'Lead Origin_Landing Page Submission', 'Lead Source_Google',\n",
       "       'Lead Source_Olark Chat', 'Lead Source_Organic Search',\n",
       "       'Lead Source_Reference', 'Lead Source_others',\n",
       "       'Last Activity_Olark Chat Conversation',\n",
       "       'Last Activity_Page Visited on Website', 'Last Activity_others',\n",
       "       'X Education Forums_Yes', 'Newspaper_Yes',\n",
       "       'A free copy of Mastering The Interview_Yes',\n",
       "       'Last Notable Activity_Modified', 'Last Notable Activity_SMS Sent',\n",
       "       'Last Notable Activity_others'],\n",
       "      dtype='object')"
      ]
     },
     "execution_count": 338,
     "metadata": {},
     "output_type": "execute_result"
    }
   ],
   "source": [
    "X_train.columns"
   ]
  },
  {
   "cell_type": "code",
   "execution_count": 339,
   "metadata": {},
   "outputs": [
    {
     "data": {
      "text/plain": [
       "Index(['TotalVisits', 'Total Time Spent on Website', 'Page Views Per Visit',\n",
       "       'Lead Origin_Landing Page Submission', 'Lead Source_Google',\n",
       "       'Lead Source_Olark Chat', 'Lead Source_Organic Search',\n",
       "       'Lead Source_Reference', 'Lead Source_others',\n",
       "       'Last Activity_Olark Chat Conversation',\n",
       "       'Last Activity_Page Visited on Website', 'Last Activity_others',\n",
       "       'X Education Forums_Yes', 'Newspaper_Yes',\n",
       "       'A free copy of Mastering The Interview_Yes',\n",
       "       'Last Notable Activity_Modified', 'Last Notable Activity_SMS Sent',\n",
       "       'Last Notable Activity_others'],\n",
       "      dtype='object')"
      ]
     },
     "execution_count": 339,
     "metadata": {},
     "output_type": "execute_result"
    }
   ],
   "source": [
    "X_test.columns"
   ]
  },
  {
   "cell_type": "code",
   "execution_count": 340,
   "metadata": {},
   "outputs": [
    {
     "data": {
      "text/plain": [
       "(6463, 18)"
      ]
     },
     "execution_count": 340,
     "metadata": {},
     "output_type": "execute_result"
    }
   ],
   "source": [
    "X_train.shape"
   ]
  },
  {
   "cell_type": "code",
   "execution_count": 341,
   "metadata": {},
   "outputs": [
    {
     "data": {
      "text/plain": [
       "(2770, 18)"
      ]
     },
     "execution_count": 341,
     "metadata": {},
     "output_type": "execute_result"
    }
   ],
   "source": [
    "X_test.shape"
   ]
  },
  {
   "cell_type": "code",
   "execution_count": 342,
   "metadata": {},
   "outputs": [
    {
     "data": {
      "text/plain": [
       "(11,)"
      ]
     },
     "execution_count": 342,
     "metadata": {},
     "output_type": "execute_result"
    }
   ],
   "source": [
    "col.shape"
   ]
  },
  {
   "cell_type": "code",
   "execution_count": 343,
   "metadata": {},
   "outputs": [],
   "source": [
    "X_test[['TotalVisits','Total Time Spent on Website','Page Views Per Visit']] = scaler.transform(X_test[['TotalVisits','Total Time Spent on Website','Page Views Per Visit']])"
   ]
  },
  {
   "cell_type": "code",
   "execution_count": 344,
   "metadata": {},
   "outputs": [],
   "source": [
    "X_test_sm = sm.add_constant(X_test[col])"
   ]
  },
  {
   "cell_type": "code",
   "execution_count": 345,
   "metadata": {},
   "outputs": [],
   "source": [
    "y_test_pred = res.predict(X_test_sm)"
   ]
  },
  {
   "cell_type": "code",
   "execution_count": 346,
   "metadata": {},
   "outputs": [
    {
     "data": {
      "text/plain": [
       "4871    0.715343\n",
       "8687    0.888836\n",
       "3719    0.365101\n",
       "3511    0.413980\n",
       "2507    0.160832\n",
       "7811    0.745621\n",
       "435     0.227738\n",
       "7653    0.415074\n",
       "4066    0.054695\n",
       "2306    0.120255\n",
       "dtype: float64"
      ]
     },
     "execution_count": 346,
     "metadata": {},
     "output_type": "execute_result"
    }
   ],
   "source": [
    "y_test_pred[:10]"
   ]
  },
  {
   "cell_type": "code",
   "execution_count": 347,
   "metadata": {},
   "outputs": [],
   "source": [
    "# Converting y_pred to a dataframe which is an array\n",
    "y_pred_1 = pd.DataFrame(y_test_pred)"
   ]
  },
  {
   "cell_type": "code",
   "execution_count": 348,
   "metadata": {},
   "outputs": [
    {
     "data": {
      "text/html": [
       "<div>\n",
       "<style scoped>\n",
       "    .dataframe tbody tr th:only-of-type {\n",
       "        vertical-align: middle;\n",
       "    }\n",
       "\n",
       "    .dataframe tbody tr th {\n",
       "        vertical-align: top;\n",
       "    }\n",
       "\n",
       "    .dataframe thead th {\n",
       "        text-align: right;\n",
       "    }\n",
       "</style>\n",
       "<table border=\"1\" class=\"dataframe\">\n",
       "  <thead>\n",
       "    <tr style=\"text-align: right;\">\n",
       "      <th></th>\n",
       "      <th>0</th>\n",
       "    </tr>\n",
       "  </thead>\n",
       "  <tbody>\n",
       "    <tr>\n",
       "      <th>4871</th>\n",
       "      <td>0.715343</td>\n",
       "    </tr>\n",
       "    <tr>\n",
       "      <th>8687</th>\n",
       "      <td>0.888836</td>\n",
       "    </tr>\n",
       "    <tr>\n",
       "      <th>3719</th>\n",
       "      <td>0.365101</td>\n",
       "    </tr>\n",
       "    <tr>\n",
       "      <th>3511</th>\n",
       "      <td>0.413980</td>\n",
       "    </tr>\n",
       "    <tr>\n",
       "      <th>2507</th>\n",
       "      <td>0.160832</td>\n",
       "    </tr>\n",
       "  </tbody>\n",
       "</table>\n",
       "</div>"
      ],
      "text/plain": [
       "             0\n",
       "4871  0.715343\n",
       "8687  0.888836\n",
       "3719  0.365101\n",
       "3511  0.413980\n",
       "2507  0.160832"
      ]
     },
     "execution_count": 348,
     "metadata": {},
     "output_type": "execute_result"
    }
   ],
   "source": [
    "# Let's see the head\n",
    "y_pred_1.head()"
   ]
  },
  {
   "cell_type": "code",
   "execution_count": 349,
   "metadata": {},
   "outputs": [],
   "source": [
    "# Converting y_test to dataframe\n",
    "y_test_df = pd.DataFrame(y_test)"
   ]
  },
  {
   "cell_type": "code",
   "execution_count": 350,
   "metadata": {},
   "outputs": [],
   "source": [
    "# Putting CustID to index\n",
    "y_test_df['ProspectID'] = y_test_df.index"
   ]
  },
  {
   "cell_type": "code",
   "execution_count": 351,
   "metadata": {},
   "outputs": [],
   "source": [
    "# Removing index for both dataframes to append them side by side \n",
    "y_pred_1.reset_index(drop=True, inplace=True)\n",
    "y_test_df.reset_index(drop=True, inplace=True)"
   ]
  },
  {
   "cell_type": "code",
   "execution_count": 352,
   "metadata": {},
   "outputs": [],
   "source": [
    "# Appending y_test_df and y_pred_1\n",
    "y_pred_final = pd.concat([y_test_df, y_pred_1],axis=1)"
   ]
  },
  {
   "cell_type": "code",
   "execution_count": 353,
   "metadata": {},
   "outputs": [
    {
     "data": {
      "text/html": [
       "<div>\n",
       "<style scoped>\n",
       "    .dataframe tbody tr th:only-of-type {\n",
       "        vertical-align: middle;\n",
       "    }\n",
       "\n",
       "    .dataframe tbody tr th {\n",
       "        vertical-align: top;\n",
       "    }\n",
       "\n",
       "    .dataframe thead th {\n",
       "        text-align: right;\n",
       "    }\n",
       "</style>\n",
       "<table border=\"1\" class=\"dataframe\">\n",
       "  <thead>\n",
       "    <tr style=\"text-align: right;\">\n",
       "      <th></th>\n",
       "      <th>Converted</th>\n",
       "      <th>ProspectID</th>\n",
       "      <th>0</th>\n",
       "    </tr>\n",
       "  </thead>\n",
       "  <tbody>\n",
       "    <tr>\n",
       "      <th>0</th>\n",
       "      <td>0.0</td>\n",
       "      <td>4871</td>\n",
       "      <td>0.715343</td>\n",
       "    </tr>\n",
       "    <tr>\n",
       "      <th>1</th>\n",
       "      <td>1.0</td>\n",
       "      <td>8687</td>\n",
       "      <td>0.888836</td>\n",
       "    </tr>\n",
       "    <tr>\n",
       "      <th>2</th>\n",
       "      <td>0.0</td>\n",
       "      <td>3719</td>\n",
       "      <td>0.365101</td>\n",
       "    </tr>\n",
       "    <tr>\n",
       "      <th>3</th>\n",
       "      <td>1.0</td>\n",
       "      <td>3511</td>\n",
       "      <td>0.413980</td>\n",
       "    </tr>\n",
       "    <tr>\n",
       "      <th>4</th>\n",
       "      <td>0.0</td>\n",
       "      <td>2507</td>\n",
       "      <td>0.160832</td>\n",
       "    </tr>\n",
       "  </tbody>\n",
       "</table>\n",
       "</div>"
      ],
      "text/plain": [
       "   Converted  ProspectID         0\n",
       "0        0.0        4871  0.715343\n",
       "1        1.0        8687  0.888836\n",
       "2        0.0        3719  0.365101\n",
       "3        1.0        3511  0.413980\n",
       "4        0.0        2507  0.160832"
      ]
     },
     "execution_count": 353,
     "metadata": {},
     "output_type": "execute_result"
    }
   ],
   "source": [
    "y_pred_final.head()"
   ]
  },
  {
   "cell_type": "code",
   "execution_count": 354,
   "metadata": {},
   "outputs": [],
   "source": [
    "# Renaming the column \n",
    "y_pred_final= y_pred_final.rename(columns={ 0 : 'Convert_Prob'})"
   ]
  },
  {
   "cell_type": "code",
   "execution_count": 355,
   "metadata": {},
   "outputs": [],
   "source": [
    "# Rearranging the columns\n",
    "#y_pred_final = y_pred_final.reindex_axis(['ProspectID','Convert','Convert_Prob'], axis=1)"
   ]
  },
  {
   "cell_type": "code",
   "execution_count": 356,
   "metadata": {},
   "outputs": [
    {
     "data": {
      "text/html": [
       "<div>\n",
       "<style scoped>\n",
       "    .dataframe tbody tr th:only-of-type {\n",
       "        vertical-align: middle;\n",
       "    }\n",
       "\n",
       "    .dataframe tbody tr th {\n",
       "        vertical-align: top;\n",
       "    }\n",
       "\n",
       "    .dataframe thead th {\n",
       "        text-align: right;\n",
       "    }\n",
       "</style>\n",
       "<table border=\"1\" class=\"dataframe\">\n",
       "  <thead>\n",
       "    <tr style=\"text-align: right;\">\n",
       "      <th></th>\n",
       "      <th>Converted</th>\n",
       "      <th>ProspectID</th>\n",
       "      <th>Convert_Prob</th>\n",
       "    </tr>\n",
       "  </thead>\n",
       "  <tbody>\n",
       "    <tr>\n",
       "      <th>0</th>\n",
       "      <td>0.0</td>\n",
       "      <td>4871</td>\n",
       "      <td>0.715343</td>\n",
       "    </tr>\n",
       "    <tr>\n",
       "      <th>1</th>\n",
       "      <td>1.0</td>\n",
       "      <td>8687</td>\n",
       "      <td>0.888836</td>\n",
       "    </tr>\n",
       "    <tr>\n",
       "      <th>2</th>\n",
       "      <td>0.0</td>\n",
       "      <td>3719</td>\n",
       "      <td>0.365101</td>\n",
       "    </tr>\n",
       "    <tr>\n",
       "      <th>3</th>\n",
       "      <td>1.0</td>\n",
       "      <td>3511</td>\n",
       "      <td>0.413980</td>\n",
       "    </tr>\n",
       "    <tr>\n",
       "      <th>4</th>\n",
       "      <td>0.0</td>\n",
       "      <td>2507</td>\n",
       "      <td>0.160832</td>\n",
       "    </tr>\n",
       "  </tbody>\n",
       "</table>\n",
       "</div>"
      ],
      "text/plain": [
       "   Converted  ProspectID  Convert_Prob\n",
       "0        0.0        4871      0.715343\n",
       "1        1.0        8687      0.888836\n",
       "2        0.0        3719      0.365101\n",
       "3        1.0        3511      0.413980\n",
       "4        0.0        2507      0.160832"
      ]
     },
     "execution_count": 356,
     "metadata": {},
     "output_type": "execute_result"
    }
   ],
   "source": [
    "# Let's see the head of y_pred_final\n",
    "y_pred_final.head()"
   ]
  },
  {
   "cell_type": "code",
   "execution_count": 357,
   "metadata": {},
   "outputs": [],
   "source": [
    "y_pred_final['final_predicted'] = y_pred_final.Convert_Prob.map(lambda x: 1 if x > 0.3 else 0)"
   ]
  },
  {
   "cell_type": "code",
   "execution_count": 358,
   "metadata": {},
   "outputs": [
    {
     "data": {
      "text/html": [
       "<div>\n",
       "<style scoped>\n",
       "    .dataframe tbody tr th:only-of-type {\n",
       "        vertical-align: middle;\n",
       "    }\n",
       "\n",
       "    .dataframe tbody tr th {\n",
       "        vertical-align: top;\n",
       "    }\n",
       "\n",
       "    .dataframe thead th {\n",
       "        text-align: right;\n",
       "    }\n",
       "</style>\n",
       "<table border=\"1\" class=\"dataframe\">\n",
       "  <thead>\n",
       "    <tr style=\"text-align: right;\">\n",
       "      <th></th>\n",
       "      <th>Converted</th>\n",
       "      <th>ProspectID</th>\n",
       "      <th>Convert_Prob</th>\n",
       "      <th>final_predicted</th>\n",
       "    </tr>\n",
       "  </thead>\n",
       "  <tbody>\n",
       "    <tr>\n",
       "      <th>0</th>\n",
       "      <td>0.0</td>\n",
       "      <td>4871</td>\n",
       "      <td>0.715343</td>\n",
       "      <td>1</td>\n",
       "    </tr>\n",
       "    <tr>\n",
       "      <th>1</th>\n",
       "      <td>1.0</td>\n",
       "      <td>8687</td>\n",
       "      <td>0.888836</td>\n",
       "      <td>1</td>\n",
       "    </tr>\n",
       "    <tr>\n",
       "      <th>2</th>\n",
       "      <td>0.0</td>\n",
       "      <td>3719</td>\n",
       "      <td>0.365101</td>\n",
       "      <td>1</td>\n",
       "    </tr>\n",
       "    <tr>\n",
       "      <th>3</th>\n",
       "      <td>1.0</td>\n",
       "      <td>3511</td>\n",
       "      <td>0.413980</td>\n",
       "      <td>1</td>\n",
       "    </tr>\n",
       "    <tr>\n",
       "      <th>4</th>\n",
       "      <td>0.0</td>\n",
       "      <td>2507</td>\n",
       "      <td>0.160832</td>\n",
       "      <td>0</td>\n",
       "    </tr>\n",
       "  </tbody>\n",
       "</table>\n",
       "</div>"
      ],
      "text/plain": [
       "   Converted  ProspectID  Convert_Prob  final_predicted\n",
       "0        0.0        4871      0.715343                1\n",
       "1        1.0        8687      0.888836                1\n",
       "2        0.0        3719      0.365101                1\n",
       "3        1.0        3511      0.413980                1\n",
       "4        0.0        2507      0.160832                0"
      ]
     },
     "execution_count": 358,
     "metadata": {},
     "output_type": "execute_result"
    }
   ],
   "source": [
    "y_pred_final.head()"
   ]
  },
  {
   "cell_type": "code",
   "execution_count": 359,
   "metadata": {},
   "outputs": [
    {
     "data": {
      "text/plain": [
       "0.7660649819494585"
      ]
     },
     "execution_count": 359,
     "metadata": {},
     "output_type": "execute_result"
    }
   ],
   "source": [
    "# Let's check the overall accuracy.\n",
    "metrics.accuracy_score(y_pred_final.Converted, y_pred_final.final_predicted)"
   ]
  },
  {
   "cell_type": "code",
   "execution_count": 360,
   "metadata": {},
   "outputs": [
    {
     "data": {
      "text/plain": [
       "array([[1228,  473],\n",
       "       [ 175,  894]], dtype=int64)"
      ]
     },
     "execution_count": 360,
     "metadata": {},
     "output_type": "execute_result"
    }
   ],
   "source": [
    "confusion2 = metrics.confusion_matrix(y_pred_final.Converted, y_pred_final.final_predicted )\n",
    "confusion2"
   ]
  },
  {
   "cell_type": "code",
   "execution_count": 361,
   "metadata": {},
   "outputs": [],
   "source": [
    "TP = confusion2[1,1] # true positive \n",
    "TN = confusion2[0,0] # true negatives \n",
    "FP = confusion2[0,1] # false positives \n",
    "FN = confusion2[1,0] # false negatives "
   ]
  },
  {
   "cell_type": "markdown",
   "metadata": {},
   "source": [
    "## Sensitivity"
   ]
  },
  {
   "cell_type": "code",
   "execution_count": 362,
   "metadata": {},
   "outputs": [
    {
     "data": {
      "text/plain": [
       "0.8362956033676333"
      ]
     },
     "execution_count": 362,
     "metadata": {},
     "output_type": "execute_result"
    }
   ],
   "source": [
    "# Let's see the sensitivity of our logistic regression model\n",
    "TP / float(TP+FN)"
   ]
  },
  {
   "cell_type": "markdown",
   "metadata": {},
   "source": [
    "## Specificity"
   ]
  },
  {
   "cell_type": "code",
   "execution_count": 363,
   "metadata": {},
   "outputs": [
    {
     "data": {
      "text/plain": [
       "0.721928277483833"
      ]
     },
     "execution_count": 363,
     "metadata": {},
     "output_type": "execute_result"
    }
   ],
   "source": [
    "# Let us calculate specificity\n",
    "TN / float(TN+FP)"
   ]
  },
  {
   "cell_type": "code",
   "execution_count": 364,
   "metadata": {},
   "outputs": [
    {
     "data": {
      "text/html": [
       "<div>\n",
       "<style scoped>\n",
       "    .dataframe tbody tr th:only-of-type {\n",
       "        vertical-align: middle;\n",
       "    }\n",
       "\n",
       "    .dataframe tbody tr th {\n",
       "        vertical-align: top;\n",
       "    }\n",
       "\n",
       "    .dataframe thead th {\n",
       "        text-align: right;\n",
       "    }\n",
       "</style>\n",
       "<table border=\"1\" class=\"dataframe\">\n",
       "  <thead>\n",
       "    <tr style=\"text-align: right;\">\n",
       "      <th></th>\n",
       "      <th>Converted</th>\n",
       "      <th>ProspectID</th>\n",
       "      <th>Convert_Prob</th>\n",
       "      <th>final_predicted</th>\n",
       "    </tr>\n",
       "  </thead>\n",
       "  <tbody>\n",
       "    <tr>\n",
       "      <th>0</th>\n",
       "      <td>0.0</td>\n",
       "      <td>4871</td>\n",
       "      <td>0.715343</td>\n",
       "      <td>1</td>\n",
       "    </tr>\n",
       "    <tr>\n",
       "      <th>1</th>\n",
       "      <td>1.0</td>\n",
       "      <td>8687</td>\n",
       "      <td>0.888836</td>\n",
       "      <td>1</td>\n",
       "    </tr>\n",
       "    <tr>\n",
       "      <th>2</th>\n",
       "      <td>0.0</td>\n",
       "      <td>3719</td>\n",
       "      <td>0.365101</td>\n",
       "      <td>1</td>\n",
       "    </tr>\n",
       "    <tr>\n",
       "      <th>3</th>\n",
       "      <td>1.0</td>\n",
       "      <td>3511</td>\n",
       "      <td>0.413980</td>\n",
       "      <td>1</td>\n",
       "    </tr>\n",
       "    <tr>\n",
       "      <th>4</th>\n",
       "      <td>0.0</td>\n",
       "      <td>2507</td>\n",
       "      <td>0.160832</td>\n",
       "      <td>0</td>\n",
       "    </tr>\n",
       "  </tbody>\n",
       "</table>\n",
       "</div>"
      ],
      "text/plain": [
       "   Converted  ProspectID  Convert_Prob  final_predicted\n",
       "0        0.0        4871      0.715343                1\n",
       "1        1.0        8687      0.888836                1\n",
       "2        0.0        3719      0.365101                1\n",
       "3        1.0        3511      0.413980                1\n",
       "4        0.0        2507      0.160832                0"
      ]
     },
     "execution_count": 364,
     "metadata": {},
     "output_type": "execute_result"
    }
   ],
   "source": [
    "y_pred_final.head()"
   ]
  },
  {
   "cell_type": "code",
   "execution_count": 365,
   "metadata": {},
   "outputs": [],
   "source": [
    "y_pred_final['Score']=y_pred_final['Convert_Prob']*100"
   ]
  },
  {
   "cell_type": "code",
   "execution_count": 366,
   "metadata": {},
   "outputs": [
    {
     "data": {
      "text/html": [
       "<div>\n",
       "<style scoped>\n",
       "    .dataframe tbody tr th:only-of-type {\n",
       "        vertical-align: middle;\n",
       "    }\n",
       "\n",
       "    .dataframe tbody tr th {\n",
       "        vertical-align: top;\n",
       "    }\n",
       "\n",
       "    .dataframe thead th {\n",
       "        text-align: right;\n",
       "    }\n",
       "</style>\n",
       "<table border=\"1\" class=\"dataframe\">\n",
       "  <thead>\n",
       "    <tr style=\"text-align: right;\">\n",
       "      <th></th>\n",
       "      <th>Converted</th>\n",
       "      <th>ProspectID</th>\n",
       "      <th>Convert_Prob</th>\n",
       "      <th>final_predicted</th>\n",
       "      <th>Score</th>\n",
       "    </tr>\n",
       "  </thead>\n",
       "  <tbody>\n",
       "    <tr>\n",
       "      <th>0</th>\n",
       "      <td>0.0</td>\n",
       "      <td>4871</td>\n",
       "      <td>0.715343</td>\n",
       "      <td>1</td>\n",
       "      <td>71.534346</td>\n",
       "    </tr>\n",
       "    <tr>\n",
       "      <th>1</th>\n",
       "      <td>1.0</td>\n",
       "      <td>8687</td>\n",
       "      <td>0.888836</td>\n",
       "      <td>1</td>\n",
       "      <td>88.883621</td>\n",
       "    </tr>\n",
       "    <tr>\n",
       "      <th>2</th>\n",
       "      <td>0.0</td>\n",
       "      <td>3719</td>\n",
       "      <td>0.365101</td>\n",
       "      <td>1</td>\n",
       "      <td>36.510101</td>\n",
       "    </tr>\n",
       "    <tr>\n",
       "      <th>3</th>\n",
       "      <td>1.0</td>\n",
       "      <td>3511</td>\n",
       "      <td>0.413980</td>\n",
       "      <td>1</td>\n",
       "      <td>41.397980</td>\n",
       "    </tr>\n",
       "    <tr>\n",
       "      <th>4</th>\n",
       "      <td>0.0</td>\n",
       "      <td>2507</td>\n",
       "      <td>0.160832</td>\n",
       "      <td>0</td>\n",
       "      <td>16.083242</td>\n",
       "    </tr>\n",
       "  </tbody>\n",
       "</table>\n",
       "</div>"
      ],
      "text/plain": [
       "   Converted  ProspectID  Convert_Prob  final_predicted      Score\n",
       "0        0.0        4871      0.715343                1  71.534346\n",
       "1        1.0        8687      0.888836                1  88.883621\n",
       "2        0.0        3719      0.365101                1  36.510101\n",
       "3        1.0        3511      0.413980                1  41.397980\n",
       "4        0.0        2507      0.160832                0  16.083242"
      ]
     },
     "execution_count": 366,
     "metadata": {},
     "output_type": "execute_result"
    }
   ],
   "source": [
    "y_pred_final.head()"
   ]
  },
  {
   "cell_type": "code",
   "execution_count": 367,
   "metadata": {},
   "outputs": [
    {
     "data": {
      "text/html": [
       "<div>\n",
       "<style scoped>\n",
       "    .dataframe tbody tr th:only-of-type {\n",
       "        vertical-align: middle;\n",
       "    }\n",
       "\n",
       "    .dataframe tbody tr th {\n",
       "        vertical-align: top;\n",
       "    }\n",
       "\n",
       "    .dataframe thead th {\n",
       "        text-align: right;\n",
       "    }\n",
       "</style>\n",
       "<table border=\"1\" class=\"dataframe\">\n",
       "  <thead>\n",
       "    <tr style=\"text-align: right;\">\n",
       "      <th></th>\n",
       "      <th>ProspectID</th>\n",
       "      <th>Score</th>\n",
       "    </tr>\n",
       "  </thead>\n",
       "  <tbody>\n",
       "    <tr>\n",
       "      <th>0</th>\n",
       "      <td>4871</td>\n",
       "      <td>71.534346</td>\n",
       "    </tr>\n",
       "    <tr>\n",
       "      <th>1</th>\n",
       "      <td>8687</td>\n",
       "      <td>88.883621</td>\n",
       "    </tr>\n",
       "    <tr>\n",
       "      <th>2</th>\n",
       "      <td>3719</td>\n",
       "      <td>36.510101</td>\n",
       "    </tr>\n",
       "    <tr>\n",
       "      <th>3</th>\n",
       "      <td>3511</td>\n",
       "      <td>41.397980</td>\n",
       "    </tr>\n",
       "    <tr>\n",
       "      <th>4</th>\n",
       "      <td>2507</td>\n",
       "      <td>16.083242</td>\n",
       "    </tr>\n",
       "  </tbody>\n",
       "</table>\n",
       "</div>"
      ],
      "text/plain": [
       "   ProspectID      Score\n",
       "0        4871  71.534346\n",
       "1        8687  88.883621\n",
       "2        3719  36.510101\n",
       "3        3511  41.397980\n",
       "4        2507  16.083242"
      ]
     },
     "execution_count": 367,
     "metadata": {},
     "output_type": "execute_result"
    }
   ],
   "source": [
    "k1=y_pred_final[['ProspectID','Score']]\n",
    "k1.head()"
   ]
  },
  {
   "cell_type": "code",
   "execution_count": 368,
   "metadata": {},
   "outputs": [
    {
     "data": {
      "text/html": [
       "<div>\n",
       "<style scoped>\n",
       "    .dataframe tbody tr th:only-of-type {\n",
       "        vertical-align: middle;\n",
       "    }\n",
       "\n",
       "    .dataframe tbody tr th {\n",
       "        vertical-align: top;\n",
       "    }\n",
       "\n",
       "    .dataframe thead th {\n",
       "        text-align: right;\n",
       "    }\n",
       "</style>\n",
       "<table border=\"1\" class=\"dataframe\">\n",
       "  <thead>\n",
       "    <tr style=\"text-align: right;\">\n",
       "      <th></th>\n",
       "      <th>Convert</th>\n",
       "      <th>Convert_Prob</th>\n",
       "      <th>ProspectID</th>\n",
       "      <th>0.0</th>\n",
       "      <th>0.1</th>\n",
       "      <th>0.2</th>\n",
       "      <th>0.3</th>\n",
       "      <th>0.4</th>\n",
       "      <th>0.5</th>\n",
       "      <th>0.6</th>\n",
       "      <th>0.7</th>\n",
       "      <th>0.8</th>\n",
       "      <th>0.9</th>\n",
       "      <th>final_predicted</th>\n",
       "      <th>Score</th>\n",
       "    </tr>\n",
       "  </thead>\n",
       "  <tbody>\n",
       "    <tr>\n",
       "      <th>0</th>\n",
       "      <td>0.0</td>\n",
       "      <td>0.301800</td>\n",
       "      <td>1033</td>\n",
       "      <td>1</td>\n",
       "      <td>1</td>\n",
       "      <td>1</td>\n",
       "      <td>1</td>\n",
       "      <td>0</td>\n",
       "      <td>0</td>\n",
       "      <td>0</td>\n",
       "      <td>0</td>\n",
       "      <td>0</td>\n",
       "      <td>0</td>\n",
       "      <td>1</td>\n",
       "      <td>30.180033</td>\n",
       "    </tr>\n",
       "    <tr>\n",
       "      <th>1</th>\n",
       "      <td>1.0</td>\n",
       "      <td>0.538122</td>\n",
       "      <td>6534</td>\n",
       "      <td>1</td>\n",
       "      <td>1</td>\n",
       "      <td>1</td>\n",
       "      <td>1</td>\n",
       "      <td>1</td>\n",
       "      <td>1</td>\n",
       "      <td>0</td>\n",
       "      <td>0</td>\n",
       "      <td>0</td>\n",
       "      <td>0</td>\n",
       "      <td>1</td>\n",
       "      <td>53.812234</td>\n",
       "    </tr>\n",
       "    <tr>\n",
       "      <th>2</th>\n",
       "      <td>0.0</td>\n",
       "      <td>0.051895</td>\n",
       "      <td>6237</td>\n",
       "      <td>1</td>\n",
       "      <td>0</td>\n",
       "      <td>0</td>\n",
       "      <td>0</td>\n",
       "      <td>0</td>\n",
       "      <td>0</td>\n",
       "      <td>0</td>\n",
       "      <td>0</td>\n",
       "      <td>0</td>\n",
       "      <td>0</td>\n",
       "      <td>0</td>\n",
       "      <td>5.189521</td>\n",
       "    </tr>\n",
       "    <tr>\n",
       "      <th>3</th>\n",
       "      <td>1.0</td>\n",
       "      <td>0.916254</td>\n",
       "      <td>3190</td>\n",
       "      <td>1</td>\n",
       "      <td>1</td>\n",
       "      <td>1</td>\n",
       "      <td>1</td>\n",
       "      <td>1</td>\n",
       "      <td>1</td>\n",
       "      <td>1</td>\n",
       "      <td>1</td>\n",
       "      <td>1</td>\n",
       "      <td>1</td>\n",
       "      <td>1</td>\n",
       "      <td>91.625408</td>\n",
       "    </tr>\n",
       "    <tr>\n",
       "      <th>4</th>\n",
       "      <td>0.0</td>\n",
       "      <td>0.068305</td>\n",
       "      <td>712</td>\n",
       "      <td>1</td>\n",
       "      <td>0</td>\n",
       "      <td>0</td>\n",
       "      <td>0</td>\n",
       "      <td>0</td>\n",
       "      <td>0</td>\n",
       "      <td>0</td>\n",
       "      <td>0</td>\n",
       "      <td>0</td>\n",
       "      <td>0</td>\n",
       "      <td>0</td>\n",
       "      <td>6.830472</td>\n",
       "    </tr>\n",
       "  </tbody>\n",
       "</table>\n",
       "</div>"
      ],
      "text/plain": [
       "   Convert  Convert_Prob  ProspectID  0.0  0.1  0.2  0.3  0.4  0.5  0.6  0.7  \\\n",
       "0      0.0      0.301800        1033    1    1    1    1    0    0    0    0   \n",
       "1      1.0      0.538122        6534    1    1    1    1    1    1    0    0   \n",
       "2      0.0      0.051895        6237    1    0    0    0    0    0    0    0   \n",
       "3      1.0      0.916254        3190    1    1    1    1    1    1    1    1   \n",
       "4      0.0      0.068305         712    1    0    0    0    0    0    0    0   \n",
       "\n",
       "   0.8  0.9  final_predicted      Score  \n",
       "0    0    0                1  30.180033  \n",
       "1    0    0                1  53.812234  \n",
       "2    0    0                0   5.189521  \n",
       "3    1    1                1  91.625408  \n",
       "4    0    0                0   6.830472  "
      ]
     },
     "execution_count": 368,
     "metadata": {},
     "output_type": "execute_result"
    }
   ],
   "source": [
    "y_train_pred_final['Score']=y_train_pred_final['Convert_Prob']*100\n",
    "y_train_pred_final.head()"
   ]
  },
  {
   "cell_type": "code",
   "execution_count": 369,
   "metadata": {},
   "outputs": [
    {
     "data": {
      "text/html": [
       "<div>\n",
       "<style scoped>\n",
       "    .dataframe tbody tr th:only-of-type {\n",
       "        vertical-align: middle;\n",
       "    }\n",
       "\n",
       "    .dataframe tbody tr th {\n",
       "        vertical-align: top;\n",
       "    }\n",
       "\n",
       "    .dataframe thead th {\n",
       "        text-align: right;\n",
       "    }\n",
       "</style>\n",
       "<table border=\"1\" class=\"dataframe\">\n",
       "  <thead>\n",
       "    <tr style=\"text-align: right;\">\n",
       "      <th></th>\n",
       "      <th>ProspectID</th>\n",
       "      <th>Score</th>\n",
       "    </tr>\n",
       "  </thead>\n",
       "  <tbody>\n",
       "    <tr>\n",
       "      <th>0</th>\n",
       "      <td>1033</td>\n",
       "      <td>30.180033</td>\n",
       "    </tr>\n",
       "    <tr>\n",
       "      <th>1</th>\n",
       "      <td>6534</td>\n",
       "      <td>53.812234</td>\n",
       "    </tr>\n",
       "    <tr>\n",
       "      <th>2</th>\n",
       "      <td>6237</td>\n",
       "      <td>5.189521</td>\n",
       "    </tr>\n",
       "    <tr>\n",
       "      <th>3</th>\n",
       "      <td>3190</td>\n",
       "      <td>91.625408</td>\n",
       "    </tr>\n",
       "    <tr>\n",
       "      <th>4</th>\n",
       "      <td>712</td>\n",
       "      <td>6.830472</td>\n",
       "    </tr>\n",
       "  </tbody>\n",
       "</table>\n",
       "</div>"
      ],
      "text/plain": [
       "   ProspectID      Score\n",
       "0        1033  30.180033\n",
       "1        6534  53.812234\n",
       "2        6237   5.189521\n",
       "3        3190  91.625408\n",
       "4         712   6.830472"
      ]
     },
     "execution_count": 369,
     "metadata": {},
     "output_type": "execute_result"
    }
   ],
   "source": [
    "k2=y_train_pred_final[['ProspectID','Score']]\n",
    "k2.head()"
   ]
  },
  {
   "cell_type": "code",
   "execution_count": 370,
   "metadata": {},
   "outputs": [
    {
     "data": {
      "text/html": [
       "<div>\n",
       "<style scoped>\n",
       "    .dataframe tbody tr th:only-of-type {\n",
       "        vertical-align: middle;\n",
       "    }\n",
       "\n",
       "    .dataframe tbody tr th {\n",
       "        vertical-align: top;\n",
       "    }\n",
       "\n",
       "    .dataframe thead th {\n",
       "        text-align: right;\n",
       "    }\n",
       "</style>\n",
       "<table border=\"1\" class=\"dataframe\">\n",
       "  <thead>\n",
       "    <tr style=\"text-align: right;\">\n",
       "      <th></th>\n",
       "      <th>Lead Number</th>\n",
       "      <th>Converted</th>\n",
       "      <th>TotalVisits</th>\n",
       "      <th>Total Time Spent on Website</th>\n",
       "      <th>Page Views Per Visit</th>\n",
       "      <th>Lead Origin_Landing Page Submission</th>\n",
       "      <th>Lead Origin_others</th>\n",
       "      <th>Lead Source_Google</th>\n",
       "      <th>Lead Source_Olark Chat</th>\n",
       "      <th>Lead Source_Organic Search</th>\n",
       "      <th>...</th>\n",
       "      <th>Last Activity_Olark Chat Conversation</th>\n",
       "      <th>Last Activity_Page Visited on Website</th>\n",
       "      <th>Last Activity_SMS Sent</th>\n",
       "      <th>Last Activity_others</th>\n",
       "      <th>X Education Forums_Yes</th>\n",
       "      <th>Newspaper_Yes</th>\n",
       "      <th>A free copy of Mastering The Interview_Yes</th>\n",
       "      <th>Last Notable Activity_Modified</th>\n",
       "      <th>Last Notable Activity_SMS Sent</th>\n",
       "      <th>Last Notable Activity_others</th>\n",
       "    </tr>\n",
       "  </thead>\n",
       "  <tbody>\n",
       "    <tr>\n",
       "      <th>0</th>\n",
       "      <td>660737.0</td>\n",
       "      <td>0.0</td>\n",
       "      <td>0.0</td>\n",
       "      <td>0.0</td>\n",
       "      <td>0.0</td>\n",
       "      <td>0</td>\n",
       "      <td>0</td>\n",
       "      <td>0</td>\n",
       "      <td>1</td>\n",
       "      <td>0</td>\n",
       "      <td>...</td>\n",
       "      <td>0</td>\n",
       "      <td>1</td>\n",
       "      <td>0</td>\n",
       "      <td>0</td>\n",
       "      <td>0</td>\n",
       "      <td>0</td>\n",
       "      <td>0</td>\n",
       "      <td>1</td>\n",
       "      <td>0</td>\n",
       "      <td>0</td>\n",
       "    </tr>\n",
       "    <tr>\n",
       "      <th>1</th>\n",
       "      <td>660728.0</td>\n",
       "      <td>0.0</td>\n",
       "      <td>5.0</td>\n",
       "      <td>674.0</td>\n",
       "      <td>2.5</td>\n",
       "      <td>0</td>\n",
       "      <td>0</td>\n",
       "      <td>0</td>\n",
       "      <td>0</td>\n",
       "      <td>1</td>\n",
       "      <td>...</td>\n",
       "      <td>0</td>\n",
       "      <td>0</td>\n",
       "      <td>0</td>\n",
       "      <td>0</td>\n",
       "      <td>0</td>\n",
       "      <td>0</td>\n",
       "      <td>0</td>\n",
       "      <td>0</td>\n",
       "      <td>0</td>\n",
       "      <td>0</td>\n",
       "    </tr>\n",
       "    <tr>\n",
       "      <th>2</th>\n",
       "      <td>660727.0</td>\n",
       "      <td>1.0</td>\n",
       "      <td>2.0</td>\n",
       "      <td>1532.0</td>\n",
       "      <td>2.0</td>\n",
       "      <td>1</td>\n",
       "      <td>0</td>\n",
       "      <td>0</td>\n",
       "      <td>0</td>\n",
       "      <td>0</td>\n",
       "      <td>...</td>\n",
       "      <td>0</td>\n",
       "      <td>0</td>\n",
       "      <td>0</td>\n",
       "      <td>0</td>\n",
       "      <td>0</td>\n",
       "      <td>0</td>\n",
       "      <td>1</td>\n",
       "      <td>0</td>\n",
       "      <td>0</td>\n",
       "      <td>0</td>\n",
       "    </tr>\n",
       "    <tr>\n",
       "      <th>3</th>\n",
       "      <td>660719.0</td>\n",
       "      <td>0.0</td>\n",
       "      <td>1.0</td>\n",
       "      <td>305.0</td>\n",
       "      <td>1.0</td>\n",
       "      <td>1</td>\n",
       "      <td>0</td>\n",
       "      <td>0</td>\n",
       "      <td>0</td>\n",
       "      <td>0</td>\n",
       "      <td>...</td>\n",
       "      <td>0</td>\n",
       "      <td>0</td>\n",
       "      <td>0</td>\n",
       "      <td>1</td>\n",
       "      <td>0</td>\n",
       "      <td>0</td>\n",
       "      <td>0</td>\n",
       "      <td>1</td>\n",
       "      <td>0</td>\n",
       "      <td>0</td>\n",
       "    </tr>\n",
       "    <tr>\n",
       "      <th>4</th>\n",
       "      <td>660681.0</td>\n",
       "      <td>1.0</td>\n",
       "      <td>2.0</td>\n",
       "      <td>1428.0</td>\n",
       "      <td>1.0</td>\n",
       "      <td>1</td>\n",
       "      <td>0</td>\n",
       "      <td>1</td>\n",
       "      <td>0</td>\n",
       "      <td>0</td>\n",
       "      <td>...</td>\n",
       "      <td>0</td>\n",
       "      <td>0</td>\n",
       "      <td>0</td>\n",
       "      <td>1</td>\n",
       "      <td>0</td>\n",
       "      <td>0</td>\n",
       "      <td>0</td>\n",
       "      <td>1</td>\n",
       "      <td>0</td>\n",
       "      <td>0</td>\n",
       "    </tr>\n",
       "  </tbody>\n",
       "</table>\n",
       "<p>5 rows × 22 columns</p>\n",
       "</div>"
      ],
      "text/plain": [
       "   Lead Number  Converted  TotalVisits  Total Time Spent on Website  \\\n",
       "0     660737.0        0.0          0.0                          0.0   \n",
       "1     660728.0        0.0          5.0                        674.0   \n",
       "2     660727.0        1.0          2.0                       1532.0   \n",
       "3     660719.0        0.0          1.0                        305.0   \n",
       "4     660681.0        1.0          2.0                       1428.0   \n",
       "\n",
       "   Page Views Per Visit  Lead Origin_Landing Page Submission  \\\n",
       "0                   0.0                                    0   \n",
       "1                   2.5                                    0   \n",
       "2                   2.0                                    1   \n",
       "3                   1.0                                    1   \n",
       "4                   1.0                                    1   \n",
       "\n",
       "   Lead Origin_others  Lead Source_Google  Lead Source_Olark Chat  \\\n",
       "0                   0                   0                       1   \n",
       "1                   0                   0                       0   \n",
       "2                   0                   0                       0   \n",
       "3                   0                   0                       0   \n",
       "4                   0                   1                       0   \n",
       "\n",
       "   Lead Source_Organic Search  ...  Last Activity_Olark Chat Conversation  \\\n",
       "0                           0  ...                                      0   \n",
       "1                           1  ...                                      0   \n",
       "2                           0  ...                                      0   \n",
       "3                           0  ...                                      0   \n",
       "4                           0  ...                                      0   \n",
       "\n",
       "   Last Activity_Page Visited on Website  Last Activity_SMS Sent  \\\n",
       "0                                      1                       0   \n",
       "1                                      0                       0   \n",
       "2                                      0                       0   \n",
       "3                                      0                       0   \n",
       "4                                      0                       0   \n",
       "\n",
       "   Last Activity_others  X Education Forums_Yes  Newspaper_Yes  \\\n",
       "0                     0                       0              0   \n",
       "1                     0                       0              0   \n",
       "2                     0                       0              0   \n",
       "3                     1                       0              0   \n",
       "4                     1                       0              0   \n",
       "\n",
       "   A free copy of Mastering The Interview_Yes  Last Notable Activity_Modified  \\\n",
       "0                                           0                               1   \n",
       "1                                           0                               0   \n",
       "2                                           1                               0   \n",
       "3                                           0                               1   \n",
       "4                                           0                               1   \n",
       "\n",
       "   Last Notable Activity_SMS Sent  Last Notable Activity_others  \n",
       "0                               0                             0  \n",
       "1                               0                             0  \n",
       "2                               0                             0  \n",
       "3                               0                             0  \n",
       "4                               0                             0  \n",
       "\n",
       "[5 rows x 22 columns]"
      ]
     },
     "execution_count": 370,
     "metadata": {},
     "output_type": "execute_result"
    }
   ],
   "source": [
    "df2.head()"
   ]
  },
  {
   "cell_type": "code",
   "execution_count": 371,
   "metadata": {},
   "outputs": [],
   "source": [
    "df_score=pd.concat([k1,k2])"
   ]
  },
  {
   "cell_type": "code",
   "execution_count": 372,
   "metadata": {},
   "outputs": [
    {
     "data": {
      "text/html": [
       "<div>\n",
       "<style scoped>\n",
       "    .dataframe tbody tr th:only-of-type {\n",
       "        vertical-align: middle;\n",
       "    }\n",
       "\n",
       "    .dataframe tbody tr th {\n",
       "        vertical-align: top;\n",
       "    }\n",
       "\n",
       "    .dataframe thead th {\n",
       "        text-align: right;\n",
       "    }\n",
       "</style>\n",
       "<table border=\"1\" class=\"dataframe\">\n",
       "  <thead>\n",
       "    <tr style=\"text-align: right;\">\n",
       "      <th></th>\n",
       "      <th>ProspectID</th>\n",
       "      <th>Score</th>\n",
       "    </tr>\n",
       "  </thead>\n",
       "  <tbody>\n",
       "    <tr>\n",
       "      <th>0</th>\n",
       "      <td>4871</td>\n",
       "      <td>71.534346</td>\n",
       "    </tr>\n",
       "    <tr>\n",
       "      <th>1</th>\n",
       "      <td>8687</td>\n",
       "      <td>88.883621</td>\n",
       "    </tr>\n",
       "    <tr>\n",
       "      <th>2</th>\n",
       "      <td>3719</td>\n",
       "      <td>36.510101</td>\n",
       "    </tr>\n",
       "    <tr>\n",
       "      <th>3</th>\n",
       "      <td>3511</td>\n",
       "      <td>41.397980</td>\n",
       "    </tr>\n",
       "    <tr>\n",
       "      <th>4</th>\n",
       "      <td>2507</td>\n",
       "      <td>16.083242</td>\n",
       "    </tr>\n",
       "    <tr>\n",
       "      <th>...</th>\n",
       "      <td>...</td>\n",
       "      <td>...</td>\n",
       "    </tr>\n",
       "    <tr>\n",
       "      <th>9228</th>\n",
       "      <td>350</td>\n",
       "      <td>14.311569</td>\n",
       "    </tr>\n",
       "    <tr>\n",
       "      <th>9229</th>\n",
       "      <td>79</td>\n",
       "      <td>95.974106</td>\n",
       "    </tr>\n",
       "    <tr>\n",
       "      <th>9230</th>\n",
       "      <td>8046</td>\n",
       "      <td>6.190594</td>\n",
       "    </tr>\n",
       "    <tr>\n",
       "      <th>9231</th>\n",
       "      <td>6941</td>\n",
       "      <td>16.192447</td>\n",
       "    </tr>\n",
       "    <tr>\n",
       "      <th>9232</th>\n",
       "      <td>5644</td>\n",
       "      <td>30.956643</td>\n",
       "    </tr>\n",
       "  </tbody>\n",
       "</table>\n",
       "<p>9233 rows × 2 columns</p>\n",
       "</div>"
      ],
      "text/plain": [
       "      ProspectID      Score\n",
       "0           4871  71.534346\n",
       "1           8687  88.883621\n",
       "2           3719  36.510101\n",
       "3           3511  41.397980\n",
       "4           2507  16.083242\n",
       "...          ...        ...\n",
       "9228         350  14.311569\n",
       "9229          79  95.974106\n",
       "9230        8046   6.190594\n",
       "9231        6941  16.192447\n",
       "9232        5644  30.956643\n",
       "\n",
       "[9233 rows x 2 columns]"
      ]
     },
     "execution_count": 372,
     "metadata": {},
     "output_type": "execute_result"
    }
   ],
   "source": [
    "df_score.reset_index(drop=True)"
   ]
  },
  {
   "cell_type": "code",
   "execution_count": 373,
   "metadata": {},
   "outputs": [
    {
     "data": {
      "text/plain": [
       "Index(['ProspectID', 'Score'], dtype='object')"
      ]
     },
     "execution_count": 373,
     "metadata": {},
     "output_type": "execute_result"
    }
   ],
   "source": [
    "df_score.columns"
   ]
  },
  {
   "cell_type": "code",
   "execution_count": 386,
   "metadata": {},
   "outputs": [
    {
     "data": {
      "text/html": [
       "<div>\n",
       "<style scoped>\n",
       "    .dataframe tbody tr th:only-of-type {\n",
       "        vertical-align: middle;\n",
       "    }\n",
       "\n",
       "    .dataframe tbody tr th {\n",
       "        vertical-align: top;\n",
       "    }\n",
       "\n",
       "    .dataframe thead th {\n",
       "        text-align: right;\n",
       "    }\n",
       "</style>\n",
       "<table border=\"1\" class=\"dataframe\">\n",
       "  <thead>\n",
       "    <tr style=\"text-align: right;\">\n",
       "      <th></th>\n",
       "      <th>ProspectID</th>\n",
       "      <th>Score</th>\n",
       "    </tr>\n",
       "  </thead>\n",
       "  <tbody>\n",
       "    <tr>\n",
       "      <th>2278</th>\n",
       "      <td>0</td>\n",
       "      <td>12.213502</td>\n",
       "    </tr>\n",
       "    <tr>\n",
       "      <th>1141</th>\n",
       "      <td>1</td>\n",
       "      <td>30.651551</td>\n",
       "    </tr>\n",
       "    <tr>\n",
       "      <th>6436</th>\n",
       "      <td>2</td>\n",
       "      <td>71.493130</td>\n",
       "    </tr>\n",
       "    <tr>\n",
       "      <th>1923</th>\n",
       "      <td>3</td>\n",
       "      <td>6.345250</td>\n",
       "    </tr>\n",
       "    <tr>\n",
       "      <th>1916</th>\n",
       "      <td>4</td>\n",
       "      <td>49.265453</td>\n",
       "    </tr>\n",
       "    <tr>\n",
       "      <th>...</th>\n",
       "      <td>...</td>\n",
       "      <td>...</td>\n",
       "    </tr>\n",
       "    <tr>\n",
       "      <th>5389</th>\n",
       "      <td>9235</td>\n",
       "      <td>77.401142</td>\n",
       "    </tr>\n",
       "    <tr>\n",
       "      <th>940</th>\n",
       "      <td>9236</td>\n",
       "      <td>41.020698</td>\n",
       "    </tr>\n",
       "    <tr>\n",
       "      <th>1211</th>\n",
       "      <td>9237</td>\n",
       "      <td>39.126091</td>\n",
       "    </tr>\n",
       "    <tr>\n",
       "      <th>4978</th>\n",
       "      <td>9238</td>\n",
       "      <td>63.538874</td>\n",
       "    </tr>\n",
       "    <tr>\n",
       "      <th>3776</th>\n",
       "      <td>9239</td>\n",
       "      <td>53.656367</td>\n",
       "    </tr>\n",
       "  </tbody>\n",
       "</table>\n",
       "<p>9233 rows × 2 columns</p>\n",
       "</div>"
      ],
      "text/plain": [
       "      ProspectID      Score\n",
       "2278           0  12.213502\n",
       "1141           1  30.651551\n",
       "6436           2  71.493130\n",
       "1923           3   6.345250\n",
       "1916           4  49.265453\n",
       "...          ...        ...\n",
       "5389        9235  77.401142\n",
       "940         9236  41.020698\n",
       "1211        9237  39.126091\n",
       "4978        9238  63.538874\n",
       "3776        9239  53.656367\n",
       "\n",
       "[9233 rows x 2 columns]"
      ]
     },
     "execution_count": 386,
     "metadata": {},
     "output_type": "execute_result"
    }
   ],
   "source": [
    "df_score.sort_values(by =['ProspectID'], ascending=True,inplace=True)\n",
    "df_score"
   ]
  },
  {
   "cell_type": "code",
   "execution_count": 390,
   "metadata": {},
   "outputs": [],
   "source": [
    "df_score.set_index('ProspectID',inplace=True)"
   ]
  },
  {
   "cell_type": "code",
   "execution_count": 391,
   "metadata": {},
   "outputs": [
    {
     "data": {
      "text/plain": [
       "(9233, 22)"
      ]
     },
     "execution_count": 391,
     "metadata": {},
     "output_type": "execute_result"
    }
   ],
   "source": [
    "df2.shape"
   ]
  },
  {
   "cell_type": "code",
   "execution_count": 392,
   "metadata": {},
   "outputs": [
    {
     "data": {
      "text/plain": [
       "(9233, 1)"
      ]
     },
     "execution_count": 392,
     "metadata": {},
     "output_type": "execute_result"
    }
   ],
   "source": [
    "df_score.shape"
   ]
  },
  {
   "cell_type": "markdown",
   "metadata": {},
   "source": [
    "## Adding Score Column in Dataframe"
   ]
  },
  {
   "cell_type": "code",
   "execution_count": 395,
   "metadata": {},
   "outputs": [],
   "source": [
    "result = pd.concat([df2,df_score],join='outer',axis=1,ignore_index=False)"
   ]
  },
  {
   "cell_type": "code",
   "execution_count": 396,
   "metadata": {},
   "outputs": [
    {
     "data": {
      "text/html": [
       "<div>\n",
       "<style scoped>\n",
       "    .dataframe tbody tr th:only-of-type {\n",
       "        vertical-align: middle;\n",
       "    }\n",
       "\n",
       "    .dataframe tbody tr th {\n",
       "        vertical-align: top;\n",
       "    }\n",
       "\n",
       "    .dataframe thead th {\n",
       "        text-align: right;\n",
       "    }\n",
       "</style>\n",
       "<table border=\"1\" class=\"dataframe\">\n",
       "  <thead>\n",
       "    <tr style=\"text-align: right;\">\n",
       "      <th></th>\n",
       "      <th>Lead Number</th>\n",
       "      <th>Converted</th>\n",
       "      <th>TotalVisits</th>\n",
       "      <th>Total Time Spent on Website</th>\n",
       "      <th>Page Views Per Visit</th>\n",
       "      <th>Lead Origin_Landing Page Submission</th>\n",
       "      <th>Lead Origin_others</th>\n",
       "      <th>Lead Source_Google</th>\n",
       "      <th>Lead Source_Olark Chat</th>\n",
       "      <th>Lead Source_Organic Search</th>\n",
       "      <th>...</th>\n",
       "      <th>Last Activity_Page Visited on Website</th>\n",
       "      <th>Last Activity_SMS Sent</th>\n",
       "      <th>Last Activity_others</th>\n",
       "      <th>X Education Forums_Yes</th>\n",
       "      <th>Newspaper_Yes</th>\n",
       "      <th>A free copy of Mastering The Interview_Yes</th>\n",
       "      <th>Last Notable Activity_Modified</th>\n",
       "      <th>Last Notable Activity_SMS Sent</th>\n",
       "      <th>Last Notable Activity_others</th>\n",
       "      <th>Score</th>\n",
       "    </tr>\n",
       "  </thead>\n",
       "  <tbody>\n",
       "    <tr>\n",
       "      <th>0</th>\n",
       "      <td>660737.0</td>\n",
       "      <td>0.0</td>\n",
       "      <td>0.0</td>\n",
       "      <td>0.0</td>\n",
       "      <td>0.0</td>\n",
       "      <td>0</td>\n",
       "      <td>0</td>\n",
       "      <td>0</td>\n",
       "      <td>1</td>\n",
       "      <td>0</td>\n",
       "      <td>...</td>\n",
       "      <td>1</td>\n",
       "      <td>0</td>\n",
       "      <td>0</td>\n",
       "      <td>0</td>\n",
       "      <td>0</td>\n",
       "      <td>0</td>\n",
       "      <td>1</td>\n",
       "      <td>0</td>\n",
       "      <td>0</td>\n",
       "      <td>12.213502</td>\n",
       "    </tr>\n",
       "    <tr>\n",
       "      <th>1</th>\n",
       "      <td>660728.0</td>\n",
       "      <td>0.0</td>\n",
       "      <td>5.0</td>\n",
       "      <td>674.0</td>\n",
       "      <td>2.5</td>\n",
       "      <td>0</td>\n",
       "      <td>0</td>\n",
       "      <td>0</td>\n",
       "      <td>0</td>\n",
       "      <td>1</td>\n",
       "      <td>...</td>\n",
       "      <td>0</td>\n",
       "      <td>0</td>\n",
       "      <td>0</td>\n",
       "      <td>0</td>\n",
       "      <td>0</td>\n",
       "      <td>0</td>\n",
       "      <td>0</td>\n",
       "      <td>0</td>\n",
       "      <td>0</td>\n",
       "      <td>30.651551</td>\n",
       "    </tr>\n",
       "    <tr>\n",
       "      <th>2</th>\n",
       "      <td>660727.0</td>\n",
       "      <td>1.0</td>\n",
       "      <td>2.0</td>\n",
       "      <td>1532.0</td>\n",
       "      <td>2.0</td>\n",
       "      <td>1</td>\n",
       "      <td>0</td>\n",
       "      <td>0</td>\n",
       "      <td>0</td>\n",
       "      <td>0</td>\n",
       "      <td>...</td>\n",
       "      <td>0</td>\n",
       "      <td>0</td>\n",
       "      <td>0</td>\n",
       "      <td>0</td>\n",
       "      <td>0</td>\n",
       "      <td>1</td>\n",
       "      <td>0</td>\n",
       "      <td>0</td>\n",
       "      <td>0</td>\n",
       "      <td>71.493130</td>\n",
       "    </tr>\n",
       "    <tr>\n",
       "      <th>3</th>\n",
       "      <td>660719.0</td>\n",
       "      <td>0.0</td>\n",
       "      <td>1.0</td>\n",
       "      <td>305.0</td>\n",
       "      <td>1.0</td>\n",
       "      <td>1</td>\n",
       "      <td>0</td>\n",
       "      <td>0</td>\n",
       "      <td>0</td>\n",
       "      <td>0</td>\n",
       "      <td>...</td>\n",
       "      <td>0</td>\n",
       "      <td>0</td>\n",
       "      <td>1</td>\n",
       "      <td>0</td>\n",
       "      <td>0</td>\n",
       "      <td>0</td>\n",
       "      <td>1</td>\n",
       "      <td>0</td>\n",
       "      <td>0</td>\n",
       "      <td>6.345250</td>\n",
       "    </tr>\n",
       "    <tr>\n",
       "      <th>4</th>\n",
       "      <td>660681.0</td>\n",
       "      <td>1.0</td>\n",
       "      <td>2.0</td>\n",
       "      <td>1428.0</td>\n",
       "      <td>1.0</td>\n",
       "      <td>1</td>\n",
       "      <td>0</td>\n",
       "      <td>1</td>\n",
       "      <td>0</td>\n",
       "      <td>0</td>\n",
       "      <td>...</td>\n",
       "      <td>0</td>\n",
       "      <td>0</td>\n",
       "      <td>1</td>\n",
       "      <td>0</td>\n",
       "      <td>0</td>\n",
       "      <td>0</td>\n",
       "      <td>1</td>\n",
       "      <td>0</td>\n",
       "      <td>0</td>\n",
       "      <td>49.265453</td>\n",
       "    </tr>\n",
       "    <tr>\n",
       "      <th>...</th>\n",
       "      <td>...</td>\n",
       "      <td>...</td>\n",
       "      <td>...</td>\n",
       "      <td>...</td>\n",
       "      <td>...</td>\n",
       "      <td>...</td>\n",
       "      <td>...</td>\n",
       "      <td>...</td>\n",
       "      <td>...</td>\n",
       "      <td>...</td>\n",
       "      <td>...</td>\n",
       "      <td>...</td>\n",
       "      <td>...</td>\n",
       "      <td>...</td>\n",
       "      <td>...</td>\n",
       "      <td>...</td>\n",
       "      <td>...</td>\n",
       "      <td>...</td>\n",
       "      <td>...</td>\n",
       "      <td>...</td>\n",
       "      <td>...</td>\n",
       "    </tr>\n",
       "    <tr>\n",
       "      <th>95</th>\n",
       "      <td>659562.0</td>\n",
       "      <td>0.0</td>\n",
       "      <td>4.0</td>\n",
       "      <td>161.0</td>\n",
       "      <td>2.0</td>\n",
       "      <td>1</td>\n",
       "      <td>0</td>\n",
       "      <td>0</td>\n",
       "      <td>0</td>\n",
       "      <td>0</td>\n",
       "      <td>...</td>\n",
       "      <td>0</td>\n",
       "      <td>0</td>\n",
       "      <td>1</td>\n",
       "      <td>0</td>\n",
       "      <td>0</td>\n",
       "      <td>0</td>\n",
       "      <td>0</td>\n",
       "      <td>0</td>\n",
       "      <td>1</td>\n",
       "      <td>10.192755</td>\n",
       "    </tr>\n",
       "    <tr>\n",
       "      <th>96</th>\n",
       "      <td>659555.0</td>\n",
       "      <td>0.0</td>\n",
       "      <td>2.0</td>\n",
       "      <td>511.0</td>\n",
       "      <td>2.0</td>\n",
       "      <td>1</td>\n",
       "      <td>0</td>\n",
       "      <td>1</td>\n",
       "      <td>0</td>\n",
       "      <td>0</td>\n",
       "      <td>...</td>\n",
       "      <td>0</td>\n",
       "      <td>0</td>\n",
       "      <td>1</td>\n",
       "      <td>0</td>\n",
       "      <td>0</td>\n",
       "      <td>0</td>\n",
       "      <td>1</td>\n",
       "      <td>0</td>\n",
       "      <td>0</td>\n",
       "      <td>13.185335</td>\n",
       "    </tr>\n",
       "    <tr>\n",
       "      <th>97</th>\n",
       "      <td>659545.0</td>\n",
       "      <td>0.0</td>\n",
       "      <td>0.0</td>\n",
       "      <td>0.0</td>\n",
       "      <td>0.0</td>\n",
       "      <td>0</td>\n",
       "      <td>0</td>\n",
       "      <td>0</td>\n",
       "      <td>1</td>\n",
       "      <td>0</td>\n",
       "      <td>...</td>\n",
       "      <td>0</td>\n",
       "      <td>0</td>\n",
       "      <td>0</td>\n",
       "      <td>0</td>\n",
       "      <td>0</td>\n",
       "      <td>0</td>\n",
       "      <td>1</td>\n",
       "      <td>0</td>\n",
       "      <td>0</td>\n",
       "      <td>5.189521</td>\n",
       "    </tr>\n",
       "    <tr>\n",
       "      <th>98</th>\n",
       "      <td>659523.0</td>\n",
       "      <td>1.0</td>\n",
       "      <td>5.0</td>\n",
       "      <td>1110.0</td>\n",
       "      <td>5.0</td>\n",
       "      <td>0</td>\n",
       "      <td>0</td>\n",
       "      <td>1</td>\n",
       "      <td>0</td>\n",
       "      <td>0</td>\n",
       "      <td>...</td>\n",
       "      <td>0</td>\n",
       "      <td>0</td>\n",
       "      <td>0</td>\n",
       "      <td>0</td>\n",
       "      <td>0</td>\n",
       "      <td>0</td>\n",
       "      <td>1</td>\n",
       "      <td>0</td>\n",
       "      <td>0</td>\n",
       "      <td>18.167934</td>\n",
       "    </tr>\n",
       "    <tr>\n",
       "      <th>99</th>\n",
       "      <td>659507.0</td>\n",
       "      <td>1.0</td>\n",
       "      <td>5.0</td>\n",
       "      <td>1563.0</td>\n",
       "      <td>5.0</td>\n",
       "      <td>1</td>\n",
       "      <td>0</td>\n",
       "      <td>0</td>\n",
       "      <td>0</td>\n",
       "      <td>0</td>\n",
       "      <td>...</td>\n",
       "      <td>0</td>\n",
       "      <td>0</td>\n",
       "      <td>0</td>\n",
       "      <td>0</td>\n",
       "      <td>0</td>\n",
       "      <td>1</td>\n",
       "      <td>0</td>\n",
       "      <td>0</td>\n",
       "      <td>0</td>\n",
       "      <td>72.753974</td>\n",
       "    </tr>\n",
       "  </tbody>\n",
       "</table>\n",
       "<p>100 rows × 23 columns</p>\n",
       "</div>"
      ],
      "text/plain": [
       "    Lead Number  Converted  TotalVisits  Total Time Spent on Website  \\\n",
       "0      660737.0        0.0          0.0                          0.0   \n",
       "1      660728.0        0.0          5.0                        674.0   \n",
       "2      660727.0        1.0          2.0                       1532.0   \n",
       "3      660719.0        0.0          1.0                        305.0   \n",
       "4      660681.0        1.0          2.0                       1428.0   \n",
       "..          ...        ...          ...                          ...   \n",
       "95     659562.0        0.0          4.0                        161.0   \n",
       "96     659555.0        0.0          2.0                        511.0   \n",
       "97     659545.0        0.0          0.0                          0.0   \n",
       "98     659523.0        1.0          5.0                       1110.0   \n",
       "99     659507.0        1.0          5.0                       1563.0   \n",
       "\n",
       "    Page Views Per Visit  Lead Origin_Landing Page Submission  \\\n",
       "0                    0.0                                    0   \n",
       "1                    2.5                                    0   \n",
       "2                    2.0                                    1   \n",
       "3                    1.0                                    1   \n",
       "4                    1.0                                    1   \n",
       "..                   ...                                  ...   \n",
       "95                   2.0                                    1   \n",
       "96                   2.0                                    1   \n",
       "97                   0.0                                    0   \n",
       "98                   5.0                                    0   \n",
       "99                   5.0                                    1   \n",
       "\n",
       "    Lead Origin_others  Lead Source_Google  Lead Source_Olark Chat  \\\n",
       "0                    0                   0                       1   \n",
       "1                    0                   0                       0   \n",
       "2                    0                   0                       0   \n",
       "3                    0                   0                       0   \n",
       "4                    0                   1                       0   \n",
       "..                 ...                 ...                     ...   \n",
       "95                   0                   0                       0   \n",
       "96                   0                   1                       0   \n",
       "97                   0                   0                       1   \n",
       "98                   0                   1                       0   \n",
       "99                   0                   0                       0   \n",
       "\n",
       "    Lead Source_Organic Search  ...  Last Activity_Page Visited on Website  \\\n",
       "0                            0  ...                                      1   \n",
       "1                            1  ...                                      0   \n",
       "2                            0  ...                                      0   \n",
       "3                            0  ...                                      0   \n",
       "4                            0  ...                                      0   \n",
       "..                         ...  ...                                    ...   \n",
       "95                           0  ...                                      0   \n",
       "96                           0  ...                                      0   \n",
       "97                           0  ...                                      0   \n",
       "98                           0  ...                                      0   \n",
       "99                           0  ...                                      0   \n",
       "\n",
       "    Last Activity_SMS Sent  Last Activity_others  X Education Forums_Yes  \\\n",
       "0                        0                     0                       0   \n",
       "1                        0                     0                       0   \n",
       "2                        0                     0                       0   \n",
       "3                        0                     1                       0   \n",
       "4                        0                     1                       0   \n",
       "..                     ...                   ...                     ...   \n",
       "95                       0                     1                       0   \n",
       "96                       0                     1                       0   \n",
       "97                       0                     0                       0   \n",
       "98                       0                     0                       0   \n",
       "99                       0                     0                       0   \n",
       "\n",
       "    Newspaper_Yes  A free copy of Mastering The Interview_Yes  \\\n",
       "0               0                                           0   \n",
       "1               0                                           0   \n",
       "2               0                                           1   \n",
       "3               0                                           0   \n",
       "4               0                                           0   \n",
       "..            ...                                         ...   \n",
       "95              0                                           0   \n",
       "96              0                                           0   \n",
       "97              0                                           0   \n",
       "98              0                                           0   \n",
       "99              0                                           1   \n",
       "\n",
       "    Last Notable Activity_Modified  Last Notable Activity_SMS Sent  \\\n",
       "0                                1                               0   \n",
       "1                                0                               0   \n",
       "2                                0                               0   \n",
       "3                                1                               0   \n",
       "4                                1                               0   \n",
       "..                             ...                             ...   \n",
       "95                               0                               0   \n",
       "96                               1                               0   \n",
       "97                               1                               0   \n",
       "98                               1                               0   \n",
       "99                               0                               0   \n",
       "\n",
       "    Last Notable Activity_others      Score  \n",
       "0                              0  12.213502  \n",
       "1                              0  30.651551  \n",
       "2                              0  71.493130  \n",
       "3                              0   6.345250  \n",
       "4                              0  49.265453  \n",
       "..                           ...        ...  \n",
       "95                             1  10.192755  \n",
       "96                             0  13.185335  \n",
       "97                             0   5.189521  \n",
       "98                             0  18.167934  \n",
       "99                             0  72.753974  \n",
       "\n",
       "[100 rows x 23 columns]"
      ]
     },
     "execution_count": 396,
     "metadata": {},
     "output_type": "execute_result"
    }
   ],
   "source": [
    "result.head(100)"
   ]
  },
  {
   "cell_type": "code",
   "execution_count": 397,
   "metadata": {},
   "outputs": [
    {
     "data": {
      "text/plain": [
       "count    9233.000000\n",
       "mean       38.741237\n",
       "std        29.631958\n",
       "min         1.565426\n",
       "25%        12.324417\n",
       "50%        28.007077\n",
       "75%        61.975581\n",
       "max        99.808659\n",
       "Name: Score, dtype: float64"
      ]
     },
     "execution_count": 397,
     "metadata": {},
     "output_type": "execute_result"
    }
   ],
   "source": [
    "result.Score.describe()"
   ]
  },
  {
   "cell_type": "code",
   "execution_count": null,
   "metadata": {},
   "outputs": [],
   "source": []
  }
 ],
 "metadata": {
  "kernelspec": {
   "display_name": "Python 3",
   "language": "python",
   "name": "python3"
  },
  "language_info": {
   "codemirror_mode": {
    "name": "ipython",
    "version": 3
   },
   "file_extension": ".py",
   "mimetype": "text/x-python",
   "name": "python",
   "nbconvert_exporter": "python",
   "pygments_lexer": "ipython3",
   "version": "3.7.6"
  }
 },
 "nbformat": 4,
 "nbformat_minor": 4
}
